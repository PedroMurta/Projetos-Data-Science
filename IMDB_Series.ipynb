{
  "nbformat": 4,
  "nbformat_minor": 0,
  "metadata": {
    "colab": {
      "name": "IMDB Series.ipynb",
      "provenance": [],
      "collapsed_sections": [],
      "toc_visible": true,
      "mount_file_id": "1MiyZUVt4OtnfzNh4JiXkUfT0ONBbMT94",
      "authorship_tag": "ABX9TyPnDGZDBB4G+JW9fuJbcOdr",
      "include_colab_link": true
    },
    "kernelspec": {
      "name": "python3",
      "display_name": "Python 3"
    }
  },
  "cells": [
    {
      "cell_type": "markdown",
      "metadata": {
        "id": "view-in-github",
        "colab_type": "text"
      },
      "source": [
        "<a href=\"https://colab.research.google.com/github/PedroMurta/Projetos-Data-Science/blob/master/IMDB_Series.ipynb\" target=\"_parent\"><img src=\"https://colab.research.google.com/assets/colab-badge.svg\" alt=\"Open In Colab\"/></a>"
      ]
    },
    {
      "cell_type": "markdown",
      "metadata": {
        "id": "I9vScFn7TbRN"
      },
      "source": [
        "# Dataset\n",
        "\n",
        "#### IMDB TV Series Dataset\n",
        "#### IMDB Top 2000 Series According to Number of Votes\n",
        "##### This [Dataset](https://www.kaggle.com/harshitshankhdhar/tv-series-dataset) was found on kaggle page.\n",
        "\n",
        "\n",
        "##### **Context**\n",
        "- This data is scraped from IMDB site according to the number of votes they get on IMDB. It contains 2000 rows and 13 columns.\n",
        "\n",
        "##### **Content**\n",
        "\n",
        "  * Poster_Link - Link of the poster that imdb using.\n",
        "\n",
        "  * Series_Title - Name of the series.\n",
        "   \n",
        "  * RuntimeofSeries - Year at which series started to series end.\n",
        "\n",
        "  * Certificate - Certificate earned by that series.\n",
        "\n",
        "  * RuntimeofEpisodes - Total runtime of the episodes in series.\n",
        "\n",
        "  * Genre - Genre of the series.\n",
        "   \n",
        "  * IMDBRating - Rating of the series at IMDB site.\n",
        "   \n",
        "  * Overview - mini story/summary.\n",
        "   \n",
        "  * Star1,Star2,Star3,Star4 - Name of the Stars in TV Shows.\n",
        "\n",
        "  * No of votes - Total number of votes.\n"
      ]
    },
    {
      "cell_type": "markdown",
      "metadata": {
        "id": "i11c1xQVTbcp"
      },
      "source": [
        "# Exploratory Analysis\n",
        "\n",
        "To begin this exploratory analysis, it's necessary to import the database and some libraries and try to find something relevant."
      ]
    },
    {
      "cell_type": "code",
      "metadata": {
        "id": "bhYb0ISVYm6E"
      },
      "source": [
        "import pandas as pd\n",
        "import numpy as np\n",
        "import matplotlib.pyplot as plt\n",
        "import seaborn as sns\n",
        "\n",
        "%matplotlib inline"
      ],
      "execution_count": 3,
      "outputs": []
    },
    {
      "cell_type": "code",
      "metadata": {
        "id": "umBWznCMbXud"
      },
      "source": [
        "df = pd.read_csv('/content/drive/MyDrive/Arquivos Dataset/series_data.xls')"
      ],
      "execution_count": 4,
      "outputs": []
    },
    {
      "cell_type": "code",
      "metadata": {
        "colab": {
          "base_uri": "https://localhost:8080/",
          "height": 441
        },
        "id": "whI-DBxNbyUr",
        "outputId": "a321a839-396f-4191-e3a0-83432ba05d6c"
      },
      "source": [
        "df.head(3)"
      ],
      "execution_count": 5,
      "outputs": [
        {
          "output_type": "execute_result",
          "data": {
            "text/html": [
              "<div>\n",
              "<style scoped>\n",
              "    .dataframe tbody tr th:only-of-type {\n",
              "        vertical-align: middle;\n",
              "    }\n",
              "\n",
              "    .dataframe tbody tr th {\n",
              "        vertical-align: top;\n",
              "    }\n",
              "\n",
              "    .dataframe thead th {\n",
              "        text-align: right;\n",
              "    }\n",
              "</style>\n",
              "<table border=\"1\" class=\"dataframe\">\n",
              "  <thead>\n",
              "    <tr style=\"text-align: right;\">\n",
              "      <th></th>\n",
              "      <th>Poster_Link</th>\n",
              "      <th>Series_Title</th>\n",
              "      <th>Runtime_of_Series</th>\n",
              "      <th>Certificate</th>\n",
              "      <th>Runtime_of_Episodes</th>\n",
              "      <th>Genre</th>\n",
              "      <th>IMDB_Rating</th>\n",
              "      <th>Overview</th>\n",
              "      <th>Star1</th>\n",
              "      <th>Star2</th>\n",
              "      <th>Star3</th>\n",
              "      <th>Star4</th>\n",
              "      <th>No_of_Votes</th>\n",
              "    </tr>\n",
              "  </thead>\n",
              "  <tbody>\n",
              "    <tr>\n",
              "      <th>0</th>\n",
              "      <td>https://m.media-amazon.com/images/M/MV5BYTRiND...</td>\n",
              "      <td>Game of Thrones</td>\n",
              "      <td>(2011–2019)</td>\n",
              "      <td>A</td>\n",
              "      <td>57 min</td>\n",
              "      <td>Action, Adventure, Drama</td>\n",
              "      <td>9.3</td>\n",
              "      <td>Nine noble families fight for control over the...</td>\n",
              "      <td>Emilia Clarke</td>\n",
              "      <td>Peter Dinklage</td>\n",
              "      <td>Kit Harington</td>\n",
              "      <td>Lena Headey</td>\n",
              "      <td>1773458</td>\n",
              "    </tr>\n",
              "    <tr>\n",
              "      <th>1</th>\n",
              "      <td>https://m.media-amazon.com/images/M/MV5BMjhiMz...</td>\n",
              "      <td>Breaking Bad</td>\n",
              "      <td>(2008–2013)</td>\n",
              "      <td>18</td>\n",
              "      <td>49 min</td>\n",
              "      <td>Crime, Drama, Thriller</td>\n",
              "      <td>9.5</td>\n",
              "      <td>A high school chemistry teacher diagnosed with...</td>\n",
              "      <td>Bryan Cranston</td>\n",
              "      <td>Aaron Paul</td>\n",
              "      <td>Anna Gunn</td>\n",
              "      <td>Betsy Brandt</td>\n",
              "      <td>1468887</td>\n",
              "    </tr>\n",
              "    <tr>\n",
              "      <th>2</th>\n",
              "      <td>https://m.media-amazon.com/images/M/MV5BMTc5Zm...</td>\n",
              "      <td>The Walking Dead</td>\n",
              "      <td>(2010– )</td>\n",
              "      <td>18+</td>\n",
              "      <td>44 min</td>\n",
              "      <td>Drama, Horror, Thriller</td>\n",
              "      <td>8.2</td>\n",
              "      <td>Sheriff Deputy Rick Grimes wakes up from a com...</td>\n",
              "      <td>Andrew Lincoln</td>\n",
              "      <td>Norman Reedus</td>\n",
              "      <td>Melissa McBride</td>\n",
              "      <td>Danai Gurira</td>\n",
              "      <td>854698</td>\n",
              "    </tr>\n",
              "  </tbody>\n",
              "</table>\n",
              "</div>"
            ],
            "text/plain": [
              "                                         Poster_Link  ... No_of_Votes\n",
              "0  https://m.media-amazon.com/images/M/MV5BYTRiND...  ...     1773458\n",
              "1  https://m.media-amazon.com/images/M/MV5BMjhiMz...  ...     1468887\n",
              "2  https://m.media-amazon.com/images/M/MV5BMTc5Zm...  ...      854698\n",
              "\n",
              "[3 rows x 13 columns]"
            ]
          },
          "metadata": {
            "tags": []
          },
          "execution_count": 5
        }
      ]
    },
    {
      "cell_type": "markdown",
      "metadata": {
        "id": "xI8AUPjXb4L5"
      },
      "source": [
        "To improve the visualization, you should rename the columns"
      ]
    },
    {
      "cell_type": "code",
      "metadata": {
        "id": "EDuMUObwbyIv"
      },
      "source": [
        "df.columns = ['Poster', 'Title', 'RuntimeSerie', 'Certificate', 'RuntimeEpisode', 'Genre', 'Rating', 'Overview', 'Actor1', 'Actor2', 'Actor3', 'Actor4', 'NVotes']"
      ],
      "execution_count": 24,
      "outputs": []
    },
    {
      "cell_type": "code",
      "metadata": {
        "colab": {
          "base_uri": "https://localhost:8080/",
          "height": 306
        },
        "id": "04mGeRfbcZ_x",
        "outputId": "2238b51c-1056-40ea-ffd3-1090696ee8bd"
      },
      "source": [
        "df.head(2)"
      ],
      "execution_count": 7,
      "outputs": [
        {
          "output_type": "execute_result",
          "data": {
            "text/html": [
              "<div>\n",
              "<style scoped>\n",
              "    .dataframe tbody tr th:only-of-type {\n",
              "        vertical-align: middle;\n",
              "    }\n",
              "\n",
              "    .dataframe tbody tr th {\n",
              "        vertical-align: top;\n",
              "    }\n",
              "\n",
              "    .dataframe thead th {\n",
              "        text-align: right;\n",
              "    }\n",
              "</style>\n",
              "<table border=\"1\" class=\"dataframe\">\n",
              "  <thead>\n",
              "    <tr style=\"text-align: right;\">\n",
              "      <th></th>\n",
              "      <th>Poster</th>\n",
              "      <th>Title</th>\n",
              "      <th>RuntimeSeries</th>\n",
              "      <th>Certificate</th>\n",
              "      <th>RuntimeEpisodes</th>\n",
              "      <th>Genre</th>\n",
              "      <th>Rating</th>\n",
              "      <th>Overview</th>\n",
              "      <th>Actor1</th>\n",
              "      <th>Actor2</th>\n",
              "      <th>Actor3</th>\n",
              "      <th>Actor4</th>\n",
              "      <th>NVotes</th>\n",
              "    </tr>\n",
              "  </thead>\n",
              "  <tbody>\n",
              "    <tr>\n",
              "      <th>0</th>\n",
              "      <td>https://m.media-amazon.com/images/M/MV5BYTRiND...</td>\n",
              "      <td>Game of Thrones</td>\n",
              "      <td>(2011–2019)</td>\n",
              "      <td>A</td>\n",
              "      <td>57 min</td>\n",
              "      <td>Action, Adventure, Drama</td>\n",
              "      <td>9.3</td>\n",
              "      <td>Nine noble families fight for control over the...</td>\n",
              "      <td>Emilia Clarke</td>\n",
              "      <td>Peter Dinklage</td>\n",
              "      <td>Kit Harington</td>\n",
              "      <td>Lena Headey</td>\n",
              "      <td>1773458</td>\n",
              "    </tr>\n",
              "    <tr>\n",
              "      <th>1</th>\n",
              "      <td>https://m.media-amazon.com/images/M/MV5BMjhiMz...</td>\n",
              "      <td>Breaking Bad</td>\n",
              "      <td>(2008–2013)</td>\n",
              "      <td>18</td>\n",
              "      <td>49 min</td>\n",
              "      <td>Crime, Drama, Thriller</td>\n",
              "      <td>9.5</td>\n",
              "      <td>A high school chemistry teacher diagnosed with...</td>\n",
              "      <td>Bryan Cranston</td>\n",
              "      <td>Aaron Paul</td>\n",
              "      <td>Anna Gunn</td>\n",
              "      <td>Betsy Brandt</td>\n",
              "      <td>1468887</td>\n",
              "    </tr>\n",
              "  </tbody>\n",
              "</table>\n",
              "</div>"
            ],
            "text/plain": [
              "                                              Poster  ...   NVotes\n",
              "0  https://m.media-amazon.com/images/M/MV5BYTRiND...  ...  1773458\n",
              "1  https://m.media-amazon.com/images/M/MV5BMjhiMz...  ...  1468887\n",
              "\n",
              "[2 rows x 13 columns]"
            ]
          },
          "metadata": {
            "tags": []
          },
          "execution_count": 7
        }
      ]
    },
    {
      "cell_type": "markdown",
      "metadata": {
        "id": "WfwPcVBack1u"
      },
      "source": [
        "Now we look at the data types to see if we find anything strange."
      ]
    },
    {
      "cell_type": "code",
      "metadata": {
        "colab": {
          "base_uri": "https://localhost:8080/"
        },
        "id": "djslkM_tcg7h",
        "outputId": "6452f522-d626-4591-b022-db41c728582c"
      },
      "source": [
        "df.dtypes"
      ],
      "execution_count": 8,
      "outputs": [
        {
          "output_type": "execute_result",
          "data": {
            "text/plain": [
              "Poster              object\n",
              "Title               object\n",
              "RuntimeSeries       object\n",
              "Certificate         object\n",
              "RuntimeEpisodes     object\n",
              "Genre               object\n",
              "Rating             float64\n",
              "Overview            object\n",
              "Actor1              object\n",
              "Actor2              object\n",
              "Actor3              object\n",
              "Actor4              object\n",
              "NVotes               int64\n",
              "dtype: object"
            ]
          },
          "metadata": {
            "tags": []
          },
          "execution_count": 8
        }
      ]
    },
    {
      "cell_type": "code",
      "metadata": {
        "colab": {
          "base_uri": "https://localhost:8080/",
          "height": 300
        },
        "id": "buOjTkkveqCa",
        "outputId": "20b2b2bf-3b5c-4324-a8de-0bdf6c370865"
      },
      "source": [
        "df.describe()"
      ],
      "execution_count": 11,
      "outputs": [
        {
          "output_type": "execute_result",
          "data": {
            "text/html": [
              "<div>\n",
              "<style scoped>\n",
              "    .dataframe tbody tr th:only-of-type {\n",
              "        vertical-align: middle;\n",
              "    }\n",
              "\n",
              "    .dataframe tbody tr th {\n",
              "        vertical-align: top;\n",
              "    }\n",
              "\n",
              "    .dataframe thead th {\n",
              "        text-align: right;\n",
              "    }\n",
              "</style>\n",
              "<table border=\"1\" class=\"dataframe\">\n",
              "  <thead>\n",
              "    <tr style=\"text-align: right;\">\n",
              "      <th></th>\n",
              "      <th>Rating</th>\n",
              "      <th>NVotes</th>\n",
              "    </tr>\n",
              "  </thead>\n",
              "  <tbody>\n",
              "    <tr>\n",
              "      <th>count</th>\n",
              "      <td>2000.000000</td>\n",
              "      <td>2.000000e+03</td>\n",
              "    </tr>\n",
              "    <tr>\n",
              "      <th>mean</th>\n",
              "      <td>7.591300</td>\n",
              "      <td>3.770391e+04</td>\n",
              "    </tr>\n",
              "    <tr>\n",
              "      <th>std</th>\n",
              "      <td>0.898731</td>\n",
              "      <td>8.843231e+04</td>\n",
              "    </tr>\n",
              "    <tr>\n",
              "      <th>min</th>\n",
              "      <td>1.000000</td>\n",
              "      <td>5.109000e+03</td>\n",
              "    </tr>\n",
              "    <tr>\n",
              "      <th>25%</th>\n",
              "      <td>7.200000</td>\n",
              "      <td>7.745500e+03</td>\n",
              "    </tr>\n",
              "    <tr>\n",
              "      <th>50%</th>\n",
              "      <td>7.700000</td>\n",
              "      <td>1.316100e+04</td>\n",
              "    </tr>\n",
              "    <tr>\n",
              "      <th>75%</th>\n",
              "      <td>8.200000</td>\n",
              "      <td>3.132200e+04</td>\n",
              "    </tr>\n",
              "    <tr>\n",
              "      <th>max</th>\n",
              "      <td>9.700000</td>\n",
              "      <td>1.773458e+06</td>\n",
              "    </tr>\n",
              "  </tbody>\n",
              "</table>\n",
              "</div>"
            ],
            "text/plain": [
              "            Rating        NVotes\n",
              "count  2000.000000  2.000000e+03\n",
              "mean      7.591300  3.770391e+04\n",
              "std       0.898731  8.843231e+04\n",
              "min       1.000000  5.109000e+03\n",
              "25%       7.200000  7.745500e+03\n",
              "50%       7.700000  1.316100e+04\n",
              "75%       8.200000  3.132200e+04\n",
              "max       9.700000  1.773458e+06"
            ]
          },
          "metadata": {
            "tags": []
          },
          "execution_count": 11
        }
      ]
    },
    {
      "cell_type": "code",
      "metadata": {
        "colab": {
          "base_uri": "https://localhost:8080/",
          "height": 296
        },
        "id": "4RyMuy6Tevjd",
        "outputId": "3bdd459f-a0a9-4bb1-8999-513d3224d113"
      },
      "source": [
        "sns.kdeplot(data=df.Rating)"
      ],
      "execution_count": 15,
      "outputs": [
        {
          "output_type": "execute_result",
          "data": {
            "text/plain": [
              "<matplotlib.axes._subplots.AxesSubplot at 0x7ff298e4fc50>"
            ]
          },
          "metadata": {
            "tags": []
          },
          "execution_count": 15
        },
        {
          "output_type": "display_data",
          "data": {
            "image/png": "[encoded data removed]",
            "text/plain": [
              "<Figure size 432x288 with 1 Axes>"
            ]
          },
          "metadata": {
            "tags": [],
            "needs_background": "light"
          }
        }
      ]
    },
    {
      "cell_type": "code",
      "metadata": {
        "colab": {
          "base_uri": "https://localhost:8080/",
          "height": 290
        },
        "id": "ucqAe4MKgRfn",
        "outputId": "53b5c61e-7058-41f9-e851-ff0f49866852"
      },
      "source": [
        "sns.kdeplot(data=df.NVotes);"
      ],
      "execution_count": 20,
      "outputs": [
        {
          "output_type": "display_data",
          "data": {
            "image/png": "[encoded data removed]",
            "text/plain": [
              "<Figure size 432x288 with 1 Axes>"
            ]
          },
          "metadata": {
            "tags": [],
            "needs_background": "light"
          }
        }
      ]
    },
    {
      "cell_type": "code",
      "metadata": {
        "colab": {
          "base_uri": "https://localhost:8080/",
          "height": 112
        },
        "id": "DulMMLwsf8HL",
        "outputId": "5df45d4c-3d16-4fd5-b4a9-06e2e9504ff5"
      },
      "source": [
        "df.corr()"
      ],
      "execution_count": 18,
      "outputs": [
        {
          "output_type": "execute_result",
          "data": {
            "text/html": [
              "<div>\n",
              "<style scoped>\n",
              "    .dataframe tbody tr th:only-of-type {\n",
              "        vertical-align: middle;\n",
              "    }\n",
              "\n",
              "    .dataframe tbody tr th {\n",
              "        vertical-align: top;\n",
              "    }\n",
              "\n",
              "    .dataframe thead th {\n",
              "        text-align: right;\n",
              "    }\n",
              "</style>\n",
              "<table border=\"1\" class=\"dataframe\">\n",
              "  <thead>\n",
              "    <tr style=\"text-align: right;\">\n",
              "      <th></th>\n",
              "      <th>Rating</th>\n",
              "      <th>NVotes</th>\n",
              "    </tr>\n",
              "  </thead>\n",
              "  <tbody>\n",
              "    <tr>\n",
              "      <th>Rating</th>\n",
              "      <td>1.000000</td>\n",
              "      <td>0.242255</td>\n",
              "    </tr>\n",
              "    <tr>\n",
              "      <th>NVotes</th>\n",
              "      <td>0.242255</td>\n",
              "      <td>1.000000</td>\n",
              "    </tr>\n",
              "  </tbody>\n",
              "</table>\n",
              "</div>"
            ],
            "text/plain": [
              "          Rating    NVotes\n",
              "Rating  1.000000  0.242255\n",
              "NVotes  0.242255  1.000000"
            ]
          },
          "metadata": {
            "tags": []
          },
          "execution_count": 18
        }
      ]
    },
    {
      "cell_type": "code",
      "metadata": {
        "colab": {
          "base_uri": "https://localhost:8080/"
        },
        "id": "ISI_W_hXdPhw",
        "outputId": "047e83ae-551f-41eb-9ff7-7e019fdf256a"
      },
      "source": [
        "df.info()"
      ],
      "execution_count": 9,
      "outputs": [
        {
          "output_type": "stream",
          "text": [
            "<class 'pandas.core.frame.DataFrame'>\n",
            "RangeIndex: 2000 entries, 0 to 1999\n",
            "Data columns (total 13 columns):\n",
            " #   Column           Non-Null Count  Dtype  \n",
            "---  ------           --------------  -----  \n",
            " 0   Poster           2000 non-null   object \n",
            " 1   Title            2000 non-null   object \n",
            " 2   RuntimeSeries    2000 non-null   object \n",
            " 3   Certificate      703 non-null    object \n",
            " 4   RuntimeEpisodes  1957 non-null   object \n",
            " 5   Genre            2000 non-null   object \n",
            " 6   Rating           2000 non-null   float64\n",
            " 7   Overview         2000 non-null   object \n",
            " 8   Actor1           2000 non-null   object \n",
            " 9   Actor2           2000 non-null   object \n",
            " 10  Actor3           1999 non-null   object \n",
            " 11  Actor4           1995 non-null   object \n",
            " 12  NVotes           2000 non-null   int64  \n",
            "dtypes: float64(1), int64(1), object(11)\n",
            "memory usage: 203.2+ KB\n"
          ],
          "name": "stdout"
        }
      ]
    },
    {
      "cell_type": "markdown",
      "metadata": {
        "id": "8bTPa7YjddGN"
      },
      "source": [
        "As we can see, we have some missing values and we gonna work with it at the next step."
      ]
    },
    {
      "cell_type": "markdown",
      "metadata": {
        "id": "SpSXLKWcTbm-"
      },
      "source": [
        "# Work with Dataset.\n",
        "\n",
        "Now we work "
      ]
    },
    {
      "cell_type": "code",
      "metadata": {
        "colab": {
          "base_uri": "https://localhost:8080/"
        },
        "id": "-jq7annxdTdt",
        "outputId": "4b05bffa-ff2c-48cc-817b-78bdc64b4104"
      },
      "source": [
        "df.isnull().sum()"
      ],
      "execution_count": 10,
      "outputs": [
        {
          "output_type": "execute_result",
          "data": {
            "text/plain": [
              "Poster                0\n",
              "Title                 0\n",
              "RuntimeSeries         0\n",
              "Certificate        1297\n",
              "RuntimeEpisodes      43\n",
              "Genre                 0\n",
              "Rating                0\n",
              "Overview              0\n",
              "Actor1                0\n",
              "Actor2                0\n",
              "Actor3                1\n",
              "Actor4                5\n",
              "NVotes                0\n",
              "dtype: int64"
            ]
          },
          "metadata": {
            "tags": []
          },
          "execution_count": 10
        }
      ]
    },
    {
      "cell_type": "markdown",
      "metadata": {
        "id": "7ZBBXWf7geMc"
      },
      "source": [
        "Let's Work with `Certificate` column missing values"
      ]
    },
    {
      "cell_type": "code",
      "metadata": {
        "colab": {
          "base_uri": "https://localhost:8080/"
        },
        "id": "tvCWuW62gpW2",
        "outputId": "e99b08aa-a79c-4314-b71c-ff7b897bdb7c"
      },
      "source": [
        "df.Certificate.value_counts()"
      ],
      "execution_count": 22,
      "outputs": [
        {
          "output_type": "execute_result",
          "data": {
            "text/plain": [
              "18           231\n",
              "16           133\n",
              "16+           49\n",
              "15+           45\n",
              "A             42\n",
              "13            42\n",
              "18+           41\n",
              "U             29\n",
              "12+           18\n",
              "7             16\n",
              "UA            14\n",
              "PG            13\n",
              "13+            9\n",
              "All            6\n",
              "Not Rated      6\n",
              "15             4\n",
              "7+             3\n",
              "R              2\n",
              "Name: Certificate, dtype: int64"
            ]
          },
          "metadata": {
            "tags": []
          },
          "execution_count": 22
        }
      ]
    },
    {
      "cell_type": "markdown",
      "metadata": {
        "id": "yS4kyP_0gw1R"
      },
      "source": [
        "we will standardize this strange and redundant data creating a function. "
      ]
    },
    {
      "cell_type": "code",
      "metadata": {
        "id": "hFCBXApUhCzq"
      },
      "source": [
        "def categorize(s):\n",
        "    if s == '16+':\n",
        "        return '16'\n",
        "    elif s == '18+':\n",
        "        return '18'\n",
        "    elif s == 'U':\n",
        "        return '0'\n",
        "    elif s == '7+':\n",
        "        return '7'\n",
        "    elif s == '15+':\n",
        "        return '15'\n",
        "    elif s == '12+':\n",
        "        return '12'\n",
        "    elif s == 'All':\n",
        "        return '0'\n",
        "    elif s == '13+':\n",
        "        return '13'\n",
        "    elif s == 'A':\n",
        "        return '18'\n",
        "    elif s == 'Not Rated':\n",
        "        return '13'\n",
        "    elif s == 'R':\n",
        "        return '17'\n",
        "    elif s == 'UA':\n",
        "        return '12'\n",
        "    elif s == 'PG':\n",
        "        return '12'\n",
        "    elif s == '18':\n",
        "        return '18'\n",
        "    elif s == '15':\n",
        "        return '15'"
      ],
      "execution_count": 23,
      "outputs": []
    },
    {
      "cell_type": "markdown",
      "metadata": {
        "id": "jsXpgkNghOiO"
      },
      "source": [
        "Let's create a new Column with this new values"
      ]
    },
    {
      "cell_type": "code",
      "metadata": {
        "id": "O-4EyMsKhMsH"
      },
      "source": [
        "df['Certificates'] = df['Certificate'].apply(categorize)"
      ],
      "execution_count": 25,
      "outputs": []
    },
    {
      "cell_type": "code",
      "metadata": {
        "colab": {
          "base_uri": "https://localhost:8080/"
        },
        "id": "SIvhCruihvpE",
        "outputId": "128ee341-d0fc-46b3-991f-d6ddd78579cd"
      },
      "source": [
        "df.Certificates.value_counts()"
      ],
      "execution_count": 27,
      "outputs": [
        {
          "output_type": "execute_result",
          "data": {
            "text/plain": [
              "18    314\n",
              "15     49\n",
              "16     49\n",
              "12     45\n",
              "0      35\n",
              "13     15\n",
              "7       3\n",
              "17      2\n",
              "Name: Certificates, dtype: int64"
            ]
          },
          "metadata": {
            "tags": []
          },
          "execution_count": 27
        }
      ]
    },
    {
      "cell_type": "markdown",
      "metadata": {
        "id": "3y5GbKxViOI7"
      },
      "source": [
        "And we do the same with RuntimeEpisode column."
      ]
    },
    {
      "cell_type": "code",
      "metadata": {
        "colab": {
          "base_uri": "https://localhost:8080/"
        },
        "id": "d6Bp7e2ziBEt",
        "outputId": "4b4f9a2f-94cd-4256-c156-b5f9f94a39c0"
      },
      "source": [
        "df.RuntimeEpisode.value_counts().sum()"
      ],
      "execution_count": 29,
      "outputs": [
        {
          "output_type": "execute_result",
          "data": {
            "text/plain": [
              "1957"
            ]
          },
          "metadata": {
            "tags": []
          },
          "execution_count": 29
        }
      ]
    },
    {
      "cell_type": "code",
      "metadata": {
        "id": "gQj9SwTsiXsa"
      },
      "source": [
        "df['RuntimeEpisodes'] = df['RuntimeEpisode'].str.replace(' min', '')"
      ],
      "execution_count": 31,
      "outputs": []
    },
    {
      "cell_type": "markdown",
      "metadata": {
        "id": "H7AhdV1vi68N"
      },
      "source": [
        "This missing values will be replaced by mode of each one column."
      ]
    },
    {
      "cell_type": "code",
      "metadata": {
        "id": "vWkBgZuQimxJ"
      },
      "source": [
        "df.Certificates.fillna(df['Certificates'].mode()[0], inplace=True)\n",
        "df.RuntimeEpisodes.fillna(df['RuntimeEpisodes'].mode()[0], inplace=True)"
      ],
      "execution_count": 35,
      "outputs": []
    },
    {
      "cell_type": "code",
      "metadata": {
        "colab": {
          "base_uri": "https://localhost:8080/"
        },
        "id": "RWcB_7MNjgzA",
        "outputId": "2628d722-50c9-4723-a8dd-f872fdd927a9"
      },
      "source": [
        "df.isnull().sum()"
      ],
      "execution_count": 36,
      "outputs": [
        {
          "output_type": "execute_result",
          "data": {
            "text/plain": [
              "Poster                0\n",
              "Title                 0\n",
              "RuntimeSerie          0\n",
              "Certificate        1297\n",
              "RuntimeEpisode       43\n",
              "Genre                 0\n",
              "Rating                0\n",
              "Overview              0\n",
              "Actor1                0\n",
              "Actor2                0\n",
              "Actor3                1\n",
              "Actor4                5\n",
              "NVotes                0\n",
              "Certificates          0\n",
              "RuntimeEpisodes       0\n",
              "dtype: int64"
            ]
          },
          "metadata": {
            "tags": []
          },
          "execution_count": 36
        }
      ]
    },
    {
      "cell_type": "markdown",
      "metadata": {
        "id": "mOFkz0w6j3Rk"
      },
      "source": [
        "Now we should delete some columns unecessary."
      ]
    },
    {
      "cell_type": "code",
      "metadata": {
        "id": "NoDEkph8kCzT"
      },
      "source": [
        "df.drop('RuntimeSerie', axis=1, inplace=True)\n",
        "df.drop('Certificate', axis=1, inplace=True)\n",
        "df.drop('Actor1', axis=1, inplace=True)\n",
        "df.drop('Actor2', axis=1, inplace=True)\n",
        "df.drop('Actor3', axis=1, inplace=True)\n",
        "df.drop('Actor4', axis=1, inplace=True)\n",
        "df.drop('Poster', axis=1, inplace=True)"
      ],
      "execution_count": 37,
      "outputs": []
    },
    {
      "cell_type": "code",
      "metadata": {
        "colab": {
          "base_uri": "https://localhost:8080/",
          "height": 182
        },
        "id": "wgrqx0xwkYHW",
        "outputId": "1bcddc2a-2f0c-40b6-e643-500b65ea79e6"
      },
      "source": [
        "df.head(2)"
      ],
      "execution_count": 39,
      "outputs": [
        {
          "output_type": "execute_result",
          "data": {
            "text/html": [
              "<div>\n",
              "<style scoped>\n",
              "    .dataframe tbody tr th:only-of-type {\n",
              "        vertical-align: middle;\n",
              "    }\n",
              "\n",
              "    .dataframe tbody tr th {\n",
              "        vertical-align: top;\n",
              "    }\n",
              "\n",
              "    .dataframe thead th {\n",
              "        text-align: right;\n",
              "    }\n",
              "</style>\n",
              "<table border=\"1\" class=\"dataframe\">\n",
              "  <thead>\n",
              "    <tr style=\"text-align: right;\">\n",
              "      <th></th>\n",
              "      <th>Title</th>\n",
              "      <th>RuntimeEpisode</th>\n",
              "      <th>Genre</th>\n",
              "      <th>Rating</th>\n",
              "      <th>Overview</th>\n",
              "      <th>NVotes</th>\n",
              "      <th>Certificates</th>\n",
              "      <th>RuntimeEpisodes</th>\n",
              "    </tr>\n",
              "  </thead>\n",
              "  <tbody>\n",
              "    <tr>\n",
              "      <th>0</th>\n",
              "      <td>Game of Thrones</td>\n",
              "      <td>57 min</td>\n",
              "      <td>Action, Adventure, Drama</td>\n",
              "      <td>9.3</td>\n",
              "      <td>Nine noble families fight for control over the...</td>\n",
              "      <td>1773458</td>\n",
              "      <td>18</td>\n",
              "      <td>57</td>\n",
              "    </tr>\n",
              "    <tr>\n",
              "      <th>1</th>\n",
              "      <td>Breaking Bad</td>\n",
              "      <td>49 min</td>\n",
              "      <td>Crime, Drama, Thriller</td>\n",
              "      <td>9.5</td>\n",
              "      <td>A high school chemistry teacher diagnosed with...</td>\n",
              "      <td>1468887</td>\n",
              "      <td>18</td>\n",
              "      <td>49</td>\n",
              "    </tr>\n",
              "  </tbody>\n",
              "</table>\n",
              "</div>"
            ],
            "text/plain": [
              "             Title RuntimeEpisode  ... Certificates  RuntimeEpisodes\n",
              "0  Game of Thrones         57 min  ...           18               57\n",
              "1     Breaking Bad         49 min  ...           18               49\n",
              "\n",
              "[2 rows x 8 columns]"
            ]
          },
          "metadata": {
            "tags": []
          },
          "execution_count": 39
        }
      ]
    },
    {
      "cell_type": "code",
      "metadata": {
        "colab": {
          "base_uri": "https://localhost:8080/",
          "height": 286
        },
        "id": "MGRprUodktyk",
        "outputId": "42aa6994-319a-4ab8-9bd9-3a75c108934e"
      },
      "source": [
        "fig, ax = plt.subplots(figsize=(25, 5))\n",
        "sns.set_style('darkgrid')\n",
        "g = sns.countplot(df.Certificates)\n",
        "g.set_title('Count Certificates')\n",
        "plt.show();"
      ],
      "execution_count": 41,
      "outputs": [
        {
          "output_type": "stream",
          "text": [
            "/usr/local/lib/python3.7/dist-packages/seaborn/_decorators.py:43: FutureWarning: Pass the following variable as a keyword arg: x. From version 0.12, the only valid positional argument will be `data`, and passing other arguments without an explicit keyword will result in an error or misinterpretation.\n",
            "  FutureWarning\n"
          ],
          "name": "stderr"
        },
        {
          "output_type": "display_data",
          "data": {
            "image/png": "[encoded data removed]",
            "text/plain": [
              "<Figure size 1800x360 with 1 Axes>"
            ]
          },
          "metadata": {
            "tags": [],
            "needs_background": "light"
          }
        }
      ]
    },
    {
      "cell_type": "code",
      "metadata": {
        "colab": {
          "base_uri": "https://localhost:8080/",
          "height": 339
        },
        "id": "j0E9a4jdlCBW",
        "outputId": "a2bd5ea7-e86e-4d5d-8f93-078ff783cc3a"
      },
      "source": [
        "fig,axs=plt.subplots(figsize=(20,5))\n",
        "g=sns.distplot(df['Rating'],bins=30)\n",
        "g.set_title(\"Distribution of Ratings\")\n",
        "plt.show();"
      ],
      "execution_count": 43,
      "outputs": [
        {
          "output_type": "stream",
          "text": [
            "/usr/local/lib/python3.7/dist-packages/seaborn/distributions.py:2557: FutureWarning: `distplot` is a deprecated function and will be removed in a future version. Please adapt your code to use either `displot` (a figure-level function with similar flexibility) or `histplot` (an axes-level function for histograms).\n",
            "  warnings.warn(msg, FutureWarning)\n"
          ],
          "name": "stderr"
        },
        {
          "output_type": "display_data",
          "data": {
            "image/png": "[encoded data removed]",
            "text/plain": [
              "<Figure size 1440x360 with 1 Axes>"
            ]
          },
          "metadata": {
            "tags": []
          }
        }
      ]
    },
    {
      "cell_type": "markdown",
      "metadata": {
        "id": "TcmySV_sTbxo"
      },
      "source": [
        "# Preparating Machine Learning Models "
      ]
    },
    {
      "cell_type": "markdown",
      "metadata": {
        "id": "d-xpZ176lhpi"
      },
      "source": [
        "At this step, we will use TF-IDF(Term Frequency-Inverse Document Frequency ) score. which is the frequency of a word occurring in a document/text, down-weighted by the number of documents in which it occurs. This is done to reduce the importance of words that occur frequently in plot overviews and therefore, their significance in computing the final similarity score.\n",
        "\n",
        "then we'll use similarity cosine because it is independent of magnitude and is relatively easy and fast to calculate. \n",
        "\n",
        "<img src=\"https://encrypted-tbn0.gstatic.com/images?q=tbn:ANd9GcRurOqbmPicG3amy2KQpLcQkfOoSyiZQjbomA&usqp=CAU\">\n",
        "\n",
        "\n"
      ]
    },
    {
      "cell_type": "code",
      "metadata": {
        "id": "eHyRgVDxn34m"
      },
      "source": [
        "from sklearn.feature_extraction.text import TfidfVectorizer\n",
        "cv=TfidfVectorizer(stop_words='english')\n",
        "cvm=cv.fit_transform(df['Overview'])"
      ],
      "execution_count": 44,
      "outputs": []
    },
    {
      "cell_type": "markdown",
      "metadata": {
        "id": "U9GH5BeCoQYe"
      },
      "source": [
        "Lets import `Linear_kernel` from sklearn to find the data similarity"
      ]
    },
    {
      "cell_type": "code",
      "metadata": {
        "id": "pEWbCzc4oBJW"
      },
      "source": [
        "from sklearn.metrics.pairwise import linear_kernel\n",
        "s = linear_kernel(cvm, cvm)\n",
        "\n",
        "indices = pd.Series(df.index, index=df.Title).drop_duplicates()\n",
        "\n",
        "def getRecomendations(title, s=s):\n",
        "    idx = indices[title]    \n",
        "    s_scores = list(enumerate(s[idx]))\n",
        "    s_scores = sorted(s_scores, key=lambda x: x[1], reverse=True)\n",
        "    s_scores = s_scores[1:11]\n",
        "    serie_indices = [i[0] for i in s_scores]\n",
        "    \n",
        "\n",
        "    return df['Title'].iloc[serie_indices]\n"
      ],
      "execution_count": 45,
      "outputs": []
    },
    {
      "cell_type": "markdown",
      "metadata": {
        "id": "irv9W4t9TcFC"
      },
      "source": [
        "# Testing the model"
      ]
    },
    {
      "cell_type": "code",
      "metadata": {
        "colab": {
          "base_uri": "https://localhost:8080/"
        },
        "id": "a1lnoIJPovj6",
        "outputId": "c3ef8dcf-1497-477c-d575-8d9794c67bf5"
      },
      "source": [
        "getRecomendations('This Is Us')"
      ],
      "execution_count": 46,
      "outputs": [
        {
          "output_type": "execute_result",
          "data": {
            "text/plain": [
              "1388        The War at Home\n",
              "1594     Childrens Hospital\n",
              "1080    The Incredible Hulk\n",
              "1645       One Strange Rock\n",
              "654                Runaways\n",
              "1527              Outsiders\n",
              "1389               Eastwick\n",
              "1302          Party of Five\n",
              "732         Yeh Meri Family\n",
              "1538         Still Standing\n",
              "Name: Title, dtype: object"
            ]
          },
          "metadata": {
            "tags": []
          },
          "execution_count": 46
        }
      ]
    },
    {
      "cell_type": "code",
      "metadata": {
        "colab": {
          "base_uri": "https://localhost:8080/"
        },
        "id": "jbB_5-l8ozai",
        "outputId": "2032f9a3-ccc7-4845-fc93-b014e67b780c"
      },
      "source": [
        "getRecomendations('The Batman')"
      ],
      "execution_count": 49,
      "outputs": [
        {
          "output_type": "execute_result",
          "data": {
            "text/plain": [
              "597           Batman Beyond\n",
              "1350             Pennyworth\n",
              "512                  Colony\n",
              "559              Spider-Man\n",
              "147     The Legend of Korra\n",
              "1821                    APB\n",
              "23                Daredevil\n",
              "1104          Second Chance\n",
              "66                   Gotham\n",
              "1492         The Apprentice\n",
              "Name: Title, dtype: object"
            ]
          },
          "metadata": {
            "tags": []
          },
          "execution_count": 49
        }
      ]
    },
    {
      "cell_type": "code",
      "metadata": {
        "colab": {
          "base_uri": "https://localhost:8080/"
        },
        "id": "WRloyQpZo10E",
        "outputId": "3f3e0812-22ca-4027-81cf-196559386df3"
      },
      "source": [
        "getRecomendations('Wonder Woman')"
      ],
      "execution_count": 50,
      "outputs": [
        {
          "output_type": "execute_result",
          "data": {
            "text/plain": [
              "963                                Superman\n",
              "1395           Teenage Mutant Ninja Turtles\n",
              "1230              Dr. Quinn, Medicine Woman\n",
              "242                                  Titans\n",
              "792     Kôkaku kidôtai: Stand Alone Complex\n",
              "1727                             Clone High\n",
              "489                           Young Justice\n",
              "49                                 The Boys\n",
              "1632                           The Avengers\n",
              "836                The Adventures of Tintin\n",
              "Name: Title, dtype: object"
            ]
          },
          "metadata": {
            "tags": []
          },
          "execution_count": 50
        }
      ]
    },
    {
      "cell_type": "code",
      "metadata": {
        "colab": {
          "base_uri": "https://localhost:8080/"
        },
        "id": "uJ2DxnDnpErc",
        "outputId": "3f68bebc-1e74-411a-e81b-813f44fe2bf0"
      },
      "source": [
        "getRecomendations('Dragon Ball Z')"
      ],
      "execution_count": 51,
      "outputs": [
        {
          "output_type": "execute_result",
          "data": {
            "text/plain": [
              "232         Dragon Ball Z: Doragon bôru zetto\n",
              "1943    Kung Fu Panda: Legends of Awesomeness\n",
              "508              Teenage Mutant Ninja Turtles\n",
              "757       My Little Pony: Friendship Is Magic\n",
              "291                               Dragon Ball\n",
              "1102                              Sailor Moon\n",
              "1314                                Taz-Mania\n",
              "613         Dragon Ball GT: Doragon bôru jîtî\n",
              "1780                                  Popular\n",
              "742                               Invader ZIM\n",
              "Name: Title, dtype: object"
            ]
          },
          "metadata": {
            "tags": []
          },
          "execution_count": 51
        }
      ]
    },
    {
      "cell_type": "code",
      "metadata": {
        "id": "8KWtRqm9pJar"
      },
      "source": [
        ""
      ],
      "execution_count": null,
      "outputs": []
    }
  ]
}