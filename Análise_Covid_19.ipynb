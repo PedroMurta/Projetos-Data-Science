{
  "nbformat": 4,
  "nbformat_minor": 0,
  "metadata": {
    "kernelspec": {
      "display_name": "Python 3",
      "language": "python",
      "name": "python3"
    },
    "language_info": {
      "codemirror_mode": {
        "name": "ipython",
        "version": 3
      },
      "file_extension": ".py",
      "mimetype": "text/x-python",
      "name": "python",
      "nbconvert_exporter": "python",
      "pygments_lexer": "ipython3",
      "version": "3.7.4"
    },
    "colab": {
      "name": "Análise Covid-19.ipynb",
      "provenance": [],
      "include_colab_link": true
    }
  },
  "cells": [
    {
      "cell_type": "markdown",
      "metadata": {
        "id": "view-in-github",
        "colab_type": "text"
      },
      "source": [
        "<a href=\"https://colab.research.google.com/github/PedroMurta/Projetos-Data-Science/blob/master/An%C3%A1lise_Covid_19.ipynb\" target=\"_parent\"><img src=\"https://colab.research.google.com/assets/colab-badge.svg\" alt=\"Open In Colab\"/></a>"
      ]
    },
    {
      "cell_type": "markdown",
      "metadata": {
        "id": "26ViAg3IhYcr",
        "colab_type": "text"
      },
      "source": [
        "# Panorama Corona Vírus(COVID-19)\n",
        "\n",
        "A COVID-19 é uma doença infecciosa causada por um coronavírus recém-descoberto. Coronavírus é uma família de vírus que causam infecções respiratórias. O novo agente do coronavírus (nCoV-2019) foi descoberto em 31/12/19 após casos registrados na China.\n",
        "\n",
        "A maioria das pessoas que adoece em decorrência da COVID-19 apresentará sintomas leves a moderados e não precisará de tratameto especial para se recuperar, mas a gravidade dos sintomas varia de pessoa para pessoa por diversos fatores, como idade, problemas respiratórios e diversos outros.\n",
        "\n",
        "O vírus que causa a COVID-19 é transmitido principalmente por meio da tosse e espirro. Você pode ser infectado ao inalar o vírus se estiver próximo de alguém que tenha COVID-19 ou ao tocar em uma superfície contaminada e, em seguida, passar as mãos nos olhos, no nariz ou na boca.\n",
        "\n",
        "<img src=\"https://pfarma.com.br/images/noticias/coronavirus-covid-19.jpg\" />\n",
        "\n",
        "\n",
        "Pouco se sabe a respeito do COVID-19, diversos estudos estão sendo realizados no mundo inteiro e ainda não temos resultados conclusivos e definitivos.\n",
        "* Até o momento, 80% dos casos confirmados são assintomáticos e rápidos, grande parte dos casos desse grupo se recupera sem nenhuma sequela.\n",
        "* No entanto, 15% das pessoas terão infecções graves e precisarão de oxigênio. Os outros 5% são classificados como infecções muito graves e precisarão de ventilação assistida por meio de respiradores\n",
        "mecânicos em hospitais."
      ]
    },
    {
      "cell_type": "markdown",
      "metadata": {
        "id": "lVmCh11VhYcu",
        "colab_type": "text"
      },
      "source": [
        "## Obtenção dos dados"
      ]
    },
    {
      "cell_type": "markdown",
      "metadata": {
        "id": "UaKx4t_ThYcu",
        "colab_type": "text"
      },
      "source": [
        " > A base de dados usada nesse projeto foi retirada do site: [Our World in Data](https://ourworldindata.org/coronavirus). Essa base é atualizada diariamente e inclui casos confirmados, mortes, testes e outras variáveis de potencial interesse. Usaremos o arquivo no formato csv.\n",
        " \n",
        " saiba mais: [Data on COVID-19 by Our World in Data](https://github.com/owid/covid-19-data/tree/master/public/data)"
      ]
    },
    {
      "cell_type": "markdown",
      "metadata": {
        "id": "v0lAcwhChYcv",
        "colab_type": "text"
      },
      "source": [
        "## Dicionário de Variáveis"
      ]
    },
    {
      "cell_type": "markdown",
      "metadata": {
        "id": "VKxgbXEihYcw",
        "colab_type": "text"
      },
      "source": [
        "|       Coluna        |     Descrição       |\n",
        "| ------------------- | ------------------- |\n",
        "|  iso_code           |  Códio de 3 letras do país |\n",
        "|  continent |  Continente geográfico |\n",
        "| location | Local geográfico |\n",
        "| date | Data de observação |\n",
        "| total_cases | Total de casos confirmados de COVID-19 |\n",
        "| new_cases |   Novos casos confirmados de COVID-19 |\n",
        "| total_deaths |   Quantidade mortes Confirmadas por COVID-19  |\n",
        "|  total_cases_per_million |   Novas mortes confirmadas por COVID-19  |\n",
        "| new_cases_per_million |   Novos casos confirmados por 1 milhão de pessoas |   \n",
        "| total_deaths_per_million |   Novas mortes confirmadas por 1 milhão de pessoas |\n",
        "| new_deaths_per_million |   Novas mortes confirmadas por 1 milhão de pessoas  |\n",
        "| total_tests |   Quantidade total de testes para COVID-19  |\n",
        "| new_tests| Novos testes para COVID-19 |\n",
        "| new_tests_smoothed |   Novos testes para COVID-19 suavizado por 7 dias  |\n",
        "| total_test_per_thousand |   Quantidade de testes por mil pessoas  |\n",
        "| new_tests_per_thousand |   Novos testes por mil pessoas   |\n",
        "| new_tests_smoothed_per_thousand |   Novos testes para COVID-19 suavizado por 7 dias por mil pessoas |\n",
        "| tests_units |  Unidades usadas pelo local para relatar seus dados de teste  |\n",
        "| stringency_index | Índice de Estresse da Resposta do Governo |\n",
        "| population |   População em 2020  |\n",
        "| population_density |   Densidade populacional. Número de pessoas por Km²  |\n",
        "| median_age |   Média da idade da população  |\n",
        "| aged_65_older |   Quantidade da população que tem idade maior que  65 anos  |\n",
        "| aged_70_older |   Quantidade da população que tem idade maior que  70 anos  |\n",
        "| gdp_per_capta |   PIB |\n",
        "| extreme_poverty |   Quantidade de pessoas que vivem em extrema pobreza |\n",
        "| cvd_death_rate |   Morte por doenças cardiovasculares   |\n",
        "| diabetes_prevalence |   Prevalência de diabetes |\n",
        "| female_smokers |  Mulheres que fumam   |\n",
        "| male_smokers |   Homens que fumam  |\n",
        "| handwashing_facilities |   População com instalações básicas de lavagem das mãos  |\n",
        "| hospital_beds_per_thousand |   Leitos de hospitais por mil pessoas  |\n",
        "| life_expetancy |   Expectativa de vida  |"
      ]
    },
    {
      "cell_type": "code",
      "metadata": {
        "id": "qPgd-06GhYcx",
        "colab_type": "code",
        "colab": {
          "base_uri": "https://localhost:8080/",
          "height": 71
        },
        "outputId": "92fea949-6ebe-4e93-d41e-40f26a7627f2"
      },
      "source": [
        "# Importando as bibliotecas necessárias.\n",
        "import pandas as pd\n",
        "import numpy as np\n",
        "import matplotlib.pyplot as plt\n",
        "import seaborn as sns"
      ],
      "execution_count": 2,
      "outputs": [
        {
          "output_type": "stream",
          "text": [
            "/usr/local/lib/python3.6/dist-packages/statsmodels/tools/_testing.py:19: FutureWarning: pandas.util.testing is deprecated. Use the functions in the public API at pandas.testing instead.\n",
            "  import pandas.util.testing as tm\n"
          ],
          "name": "stderr"
        }
      ]
    },
    {
      "cell_type": "code",
      "metadata": {
        "id": "SLDK7BYkhYc1",
        "colab_type": "code",
        "colab": {}
      },
      "source": [
        "# importar o dataset para um DataFrame\n",
        "df = pd.read_csv(\"https://raw.githubusercontent.com/carlosfab/dsnp2/master/datasets/owid-covid-data.csv\")"
      ],
      "execution_count": 3,
      "outputs": []
    },
    {
      "cell_type": "markdown",
      "metadata": {
        "id": "AYJsaG4VhYc5",
        "colab_type": "text"
      },
      "source": [
        "# Análise Exploratória dos Dados\n",
        "\n",
        "> ### A primeira coisa que faremos após importar o dataset será examinar as dimensões do *DataFrame* e as primeiras entradas. Isso nos dá uma visão da situação inicial a respeito das entradas e da estrutura geral dos nossos dados.  É importante verificar o nome, tipo, porcentagem de valores faltantes, presença de outliers, etc."
      ]
    },
    {
      "cell_type": "code",
      "metadata": {
        "id": "QcngDGG-hYc6",
        "colab_type": "code",
        "colab": {
          "base_uri": "https://localhost:8080/",
          "height": 309
        },
        "outputId": "b299f566-e655-4b17-c05a-760432696726"
      },
      "source": [
        "# Extrair as primeiras 5 linhas\n",
        "df.head()"
      ],
      "execution_count": 4,
      "outputs": [
        {
          "output_type": "execute_result",
          "data": {
            "text/html": [
              "<div>\n",
              "<style scoped>\n",
              "    .dataframe tbody tr th:only-of-type {\n",
              "        vertical-align: middle;\n",
              "    }\n",
              "\n",
              "    .dataframe tbody tr th {\n",
              "        vertical-align: top;\n",
              "    }\n",
              "\n",
              "    .dataframe thead th {\n",
              "        text-align: right;\n",
              "    }\n",
              "</style>\n",
              "<table border=\"1\" class=\"dataframe\">\n",
              "  <thead>\n",
              "    <tr style=\"text-align: right;\">\n",
              "      <th></th>\n",
              "      <th>iso_code</th>\n",
              "      <th>continent</th>\n",
              "      <th>location</th>\n",
              "      <th>date</th>\n",
              "      <th>total_cases</th>\n",
              "      <th>new_cases</th>\n",
              "      <th>total_deaths</th>\n",
              "      <th>new_deaths</th>\n",
              "      <th>total_cases_per_million</th>\n",
              "      <th>new_cases_per_million</th>\n",
              "      <th>total_deaths_per_million</th>\n",
              "      <th>new_deaths_per_million</th>\n",
              "      <th>total_tests</th>\n",
              "      <th>new_tests</th>\n",
              "      <th>total_tests_per_thousand</th>\n",
              "      <th>new_tests_per_thousand</th>\n",
              "      <th>new_tests_smoothed</th>\n",
              "      <th>new_tests_smoothed_per_thousand</th>\n",
              "      <th>tests_units</th>\n",
              "      <th>stringency_index</th>\n",
              "      <th>population</th>\n",
              "      <th>population_density</th>\n",
              "      <th>median_age</th>\n",
              "      <th>aged_65_older</th>\n",
              "      <th>aged_70_older</th>\n",
              "      <th>gdp_per_capita</th>\n",
              "      <th>extreme_poverty</th>\n",
              "      <th>cvd_death_rate</th>\n",
              "      <th>diabetes_prevalence</th>\n",
              "      <th>female_smokers</th>\n",
              "      <th>male_smokers</th>\n",
              "      <th>handwashing_facilities</th>\n",
              "      <th>hospital_beds_per_thousand</th>\n",
              "    </tr>\n",
              "  </thead>\n",
              "  <tbody>\n",
              "    <tr>\n",
              "      <th>0</th>\n",
              "      <td>AFG</td>\n",
              "      <td>Asia</td>\n",
              "      <td>Afghanistan</td>\n",
              "      <td>2019-12-31</td>\n",
              "      <td>0.0</td>\n",
              "      <td>0.0</td>\n",
              "      <td>0.0</td>\n",
              "      <td>0.0</td>\n",
              "      <td>0.0</td>\n",
              "      <td>0.0</td>\n",
              "      <td>0.0</td>\n",
              "      <td>0.0</td>\n",
              "      <td>NaN</td>\n",
              "      <td>NaN</td>\n",
              "      <td>NaN</td>\n",
              "      <td>NaN</td>\n",
              "      <td>NaN</td>\n",
              "      <td>NaN</td>\n",
              "      <td>NaN</td>\n",
              "      <td>NaN</td>\n",
              "      <td>38928341.0</td>\n",
              "      <td>54.422</td>\n",
              "      <td>18.6</td>\n",
              "      <td>2.581</td>\n",
              "      <td>1.337</td>\n",
              "      <td>1803.987</td>\n",
              "      <td>NaN</td>\n",
              "      <td>597.029</td>\n",
              "      <td>9.59</td>\n",
              "      <td>NaN</td>\n",
              "      <td>NaN</td>\n",
              "      <td>37.746</td>\n",
              "      <td>0.5</td>\n",
              "    </tr>\n",
              "    <tr>\n",
              "      <th>1</th>\n",
              "      <td>AFG</td>\n",
              "      <td>Asia</td>\n",
              "      <td>Afghanistan</td>\n",
              "      <td>2020-01-01</td>\n",
              "      <td>0.0</td>\n",
              "      <td>0.0</td>\n",
              "      <td>0.0</td>\n",
              "      <td>0.0</td>\n",
              "      <td>0.0</td>\n",
              "      <td>0.0</td>\n",
              "      <td>0.0</td>\n",
              "      <td>0.0</td>\n",
              "      <td>NaN</td>\n",
              "      <td>NaN</td>\n",
              "      <td>NaN</td>\n",
              "      <td>NaN</td>\n",
              "      <td>NaN</td>\n",
              "      <td>NaN</td>\n",
              "      <td>NaN</td>\n",
              "      <td>0.0</td>\n",
              "      <td>38928341.0</td>\n",
              "      <td>54.422</td>\n",
              "      <td>18.6</td>\n",
              "      <td>2.581</td>\n",
              "      <td>1.337</td>\n",
              "      <td>1803.987</td>\n",
              "      <td>NaN</td>\n",
              "      <td>597.029</td>\n",
              "      <td>9.59</td>\n",
              "      <td>NaN</td>\n",
              "      <td>NaN</td>\n",
              "      <td>37.746</td>\n",
              "      <td>0.5</td>\n",
              "    </tr>\n",
              "    <tr>\n",
              "      <th>2</th>\n",
              "      <td>AFG</td>\n",
              "      <td>Asia</td>\n",
              "      <td>Afghanistan</td>\n",
              "      <td>2020-01-02</td>\n",
              "      <td>0.0</td>\n",
              "      <td>0.0</td>\n",
              "      <td>0.0</td>\n",
              "      <td>0.0</td>\n",
              "      <td>0.0</td>\n",
              "      <td>0.0</td>\n",
              "      <td>0.0</td>\n",
              "      <td>0.0</td>\n",
              "      <td>NaN</td>\n",
              "      <td>NaN</td>\n",
              "      <td>NaN</td>\n",
              "      <td>NaN</td>\n",
              "      <td>NaN</td>\n",
              "      <td>NaN</td>\n",
              "      <td>NaN</td>\n",
              "      <td>0.0</td>\n",
              "      <td>38928341.0</td>\n",
              "      <td>54.422</td>\n",
              "      <td>18.6</td>\n",
              "      <td>2.581</td>\n",
              "      <td>1.337</td>\n",
              "      <td>1803.987</td>\n",
              "      <td>NaN</td>\n",
              "      <td>597.029</td>\n",
              "      <td>9.59</td>\n",
              "      <td>NaN</td>\n",
              "      <td>NaN</td>\n",
              "      <td>37.746</td>\n",
              "      <td>0.5</td>\n",
              "    </tr>\n",
              "    <tr>\n",
              "      <th>3</th>\n",
              "      <td>AFG</td>\n",
              "      <td>Asia</td>\n",
              "      <td>Afghanistan</td>\n",
              "      <td>2020-01-03</td>\n",
              "      <td>0.0</td>\n",
              "      <td>0.0</td>\n",
              "      <td>0.0</td>\n",
              "      <td>0.0</td>\n",
              "      <td>0.0</td>\n",
              "      <td>0.0</td>\n",
              "      <td>0.0</td>\n",
              "      <td>0.0</td>\n",
              "      <td>NaN</td>\n",
              "      <td>NaN</td>\n",
              "      <td>NaN</td>\n",
              "      <td>NaN</td>\n",
              "      <td>NaN</td>\n",
              "      <td>NaN</td>\n",
              "      <td>NaN</td>\n",
              "      <td>0.0</td>\n",
              "      <td>38928341.0</td>\n",
              "      <td>54.422</td>\n",
              "      <td>18.6</td>\n",
              "      <td>2.581</td>\n",
              "      <td>1.337</td>\n",
              "      <td>1803.987</td>\n",
              "      <td>NaN</td>\n",
              "      <td>597.029</td>\n",
              "      <td>9.59</td>\n",
              "      <td>NaN</td>\n",
              "      <td>NaN</td>\n",
              "      <td>37.746</td>\n",
              "      <td>0.5</td>\n",
              "    </tr>\n",
              "    <tr>\n",
              "      <th>4</th>\n",
              "      <td>AFG</td>\n",
              "      <td>Asia</td>\n",
              "      <td>Afghanistan</td>\n",
              "      <td>2020-01-04</td>\n",
              "      <td>0.0</td>\n",
              "      <td>0.0</td>\n",
              "      <td>0.0</td>\n",
              "      <td>0.0</td>\n",
              "      <td>0.0</td>\n",
              "      <td>0.0</td>\n",
              "      <td>0.0</td>\n",
              "      <td>0.0</td>\n",
              "      <td>NaN</td>\n",
              "      <td>NaN</td>\n",
              "      <td>NaN</td>\n",
              "      <td>NaN</td>\n",
              "      <td>NaN</td>\n",
              "      <td>NaN</td>\n",
              "      <td>NaN</td>\n",
              "      <td>0.0</td>\n",
              "      <td>38928341.0</td>\n",
              "      <td>54.422</td>\n",
              "      <td>18.6</td>\n",
              "      <td>2.581</td>\n",
              "      <td>1.337</td>\n",
              "      <td>1803.987</td>\n",
              "      <td>NaN</td>\n",
              "      <td>597.029</td>\n",
              "      <td>9.59</td>\n",
              "      <td>NaN</td>\n",
              "      <td>NaN</td>\n",
              "      <td>37.746</td>\n",
              "      <td>0.5</td>\n",
              "    </tr>\n",
              "  </tbody>\n",
              "</table>\n",
              "</div>"
            ],
            "text/plain": [
              "  iso_code continent  ... handwashing_facilities hospital_beds_per_thousand\n",
              "0      AFG      Asia  ...                 37.746                        0.5\n",
              "1      AFG      Asia  ...                 37.746                        0.5\n",
              "2      AFG      Asia  ...                 37.746                        0.5\n",
              "3      AFG      Asia  ...                 37.746                        0.5\n",
              "4      AFG      Asia  ...                 37.746                        0.5\n",
              "\n",
              "[5 rows x 33 columns]"
            ]
          },
          "metadata": {
            "tags": []
          },
          "execution_count": 4
        }
      ]
    },
    {
      "cell_type": "code",
      "metadata": {
        "id": "Lwemw0NuhYc_",
        "colab_type": "code",
        "colab": {
          "base_uri": "https://localhost:8080/",
          "height": 204
        },
        "outputId": "52f0ea84-1d56-4d13-8413-6976f7a91f87"
      },
      "source": [
        "# Verificar o nome das colunas\n",
        "df.columns"
      ],
      "execution_count": 5,
      "outputs": [
        {
          "output_type": "execute_result",
          "data": {
            "text/plain": [
              "Index(['iso_code', 'continent', 'location', 'date', 'total_cases', 'new_cases',\n",
              "       'total_deaths', 'new_deaths', 'total_cases_per_million',\n",
              "       'new_cases_per_million', 'total_deaths_per_million',\n",
              "       'new_deaths_per_million', 'total_tests', 'new_tests',\n",
              "       'total_tests_per_thousand', 'new_tests_per_thousand',\n",
              "       'new_tests_smoothed', 'new_tests_smoothed_per_thousand', 'tests_units',\n",
              "       'stringency_index', 'population', 'population_density', 'median_age',\n",
              "       'aged_65_older', 'aged_70_older', 'gdp_per_capita', 'extreme_poverty',\n",
              "       'cvd_death_rate', 'diabetes_prevalence', 'female_smokers',\n",
              "       'male_smokers', 'handwashing_facilities', 'hospital_beds_per_thousand'],\n",
              "      dtype='object')"
            ]
          },
          "metadata": {
            "tags": []
          },
          "execution_count": 5
        }
      ]
    },
    {
      "cell_type": "code",
      "metadata": {
        "id": "vDFa1Ho7hYdE",
        "colab_type": "code",
        "colab": {
          "base_uri": "https://localhost:8080/",
          "height": 34
        },
        "outputId": "33bb426f-8a6e-4469-fea9-5357ea6a54f7"
      },
      "source": [
        "# Verificar o tamanho do DataFrame\n",
        "df.shape"
      ],
      "execution_count": 6,
      "outputs": [
        {
          "output_type": "execute_result",
          "data": {
            "text/plain": [
              "(24023, 33)"
            ]
          },
          "metadata": {
            "tags": []
          },
          "execution_count": 6
        }
      ]
    },
    {
      "cell_type": "code",
      "metadata": {
        "id": "ESWCUY4AhYdI",
        "colab_type": "code",
        "colab": {
          "base_uri": "https://localhost:8080/",
          "height": 68
        },
        "outputId": "17ff5a91-9812-4e2b-c1cf-0f9770bf8b49"
      },
      "source": [
        "print(f'Dimensões do DataFrame: ')\n",
        "print(f'Linhas = {df.shape[0]}')\n",
        "print(f'Colunas = {df.shape[1]}')"
      ],
      "execution_count": 7,
      "outputs": [
        {
          "output_type": "stream",
          "text": [
            "Dimensões do DataFrame: \n",
            "Linhas = 24023\n",
            "Colunas = 33\n"
          ],
          "name": "stdout"
        }
      ]
    },
    {
      "cell_type": "code",
      "metadata": {
        "id": "8blgq2BihYdM",
        "colab_type": "code",
        "colab": {
          "base_uri": "https://localhost:8080/",
          "height": 595
        },
        "outputId": "83001bdc-031f-4b04-c708-660d71550a26"
      },
      "source": [
        "# Verificar o tipo das variáveis\n",
        "df.dtypes"
      ],
      "execution_count": 8,
      "outputs": [
        {
          "output_type": "execute_result",
          "data": {
            "text/plain": [
              "iso_code                            object\n",
              "continent                           object\n",
              "location                            object\n",
              "date                                object\n",
              "total_cases                        float64\n",
              "new_cases                          float64\n",
              "total_deaths                       float64\n",
              "new_deaths                         float64\n",
              "total_cases_per_million            float64\n",
              "new_cases_per_million              float64\n",
              "total_deaths_per_million           float64\n",
              "new_deaths_per_million             float64\n",
              "total_tests                        float64\n",
              "new_tests                          float64\n",
              "total_tests_per_thousand           float64\n",
              "new_tests_per_thousand             float64\n",
              "new_tests_smoothed                 float64\n",
              "new_tests_smoothed_per_thousand    float64\n",
              "tests_units                         object\n",
              "stringency_index                   float64\n",
              "population                         float64\n",
              "population_density                 float64\n",
              "median_age                         float64\n",
              "aged_65_older                      float64\n",
              "aged_70_older                      float64\n",
              "gdp_per_capita                     float64\n",
              "extreme_poverty                    float64\n",
              "cvd_death_rate                     float64\n",
              "diabetes_prevalence                float64\n",
              "female_smokers                     float64\n",
              "male_smokers                       float64\n",
              "handwashing_facilities             float64\n",
              "hospital_beds_per_thousand         float64\n",
              "dtype: object"
            ]
          },
          "metadata": {
            "tags": []
          },
          "execution_count": 8
        }
      ]
    },
    {
      "cell_type": "markdown",
      "metadata": {
        "id": "vI56RbeahYdP",
        "colab_type": "text"
      },
      "source": [
        "> ### Podemos ver que a coluna date está no formato object, para trabalharmos com ela, precisaremos transformar ela em datetime."
      ]
    },
    {
      "cell_type": "code",
      "metadata": {
        "id": "M6lxK4MThYdQ",
        "colab_type": "code",
        "colab": {}
      },
      "source": [
        "df.date = pd.to_datetime(df.date)"
      ],
      "execution_count": 9,
      "outputs": []
    },
    {
      "cell_type": "code",
      "metadata": {
        "scrolled": true,
        "id": "xp-HTBQOhYdT",
        "colab_type": "code",
        "colab": {
          "base_uri": "https://localhost:8080/",
          "height": 595
        },
        "outputId": "e757e46b-2f2b-4fd8-fb1c-ed5e598d7a42"
      },
      "source": [
        "df.dtypes"
      ],
      "execution_count": 10,
      "outputs": [
        {
          "output_type": "execute_result",
          "data": {
            "text/plain": [
              "iso_code                                   object\n",
              "continent                                  object\n",
              "location                                   object\n",
              "date                               datetime64[ns]\n",
              "total_cases                               float64\n",
              "new_cases                                 float64\n",
              "total_deaths                              float64\n",
              "new_deaths                                float64\n",
              "total_cases_per_million                   float64\n",
              "new_cases_per_million                     float64\n",
              "total_deaths_per_million                  float64\n",
              "new_deaths_per_million                    float64\n",
              "total_tests                               float64\n",
              "new_tests                                 float64\n",
              "total_tests_per_thousand                  float64\n",
              "new_tests_per_thousand                    float64\n",
              "new_tests_smoothed                        float64\n",
              "new_tests_smoothed_per_thousand           float64\n",
              "tests_units                                object\n",
              "stringency_index                          float64\n",
              "population                                float64\n",
              "population_density                        float64\n",
              "median_age                                float64\n",
              "aged_65_older                             float64\n",
              "aged_70_older                             float64\n",
              "gdp_per_capita                            float64\n",
              "extreme_poverty                           float64\n",
              "cvd_death_rate                            float64\n",
              "diabetes_prevalence                       float64\n",
              "female_smokers                            float64\n",
              "male_smokers                              float64\n",
              "handwashing_facilities                    float64\n",
              "hospital_beds_per_thousand                float64\n",
              "dtype: object"
            ]
          },
          "metadata": {
            "tags": []
          },
          "execution_count": 10
        }
      ]
    },
    {
      "cell_type": "markdown",
      "metadata": {
        "id": "EByPChqYhYdW",
        "colab_type": "text"
      },
      "source": [
        "> ### A coluna date está no formato datetime agora, nosso próximo passo é ver a porcentagem de valores ausentes das colunas."
      ]
    },
    {
      "cell_type": "code",
      "metadata": {
        "id": "XUXjJ2pehYdX",
        "colab_type": "code",
        "colab": {
          "base_uri": "https://localhost:8080/",
          "height": 595
        },
        "outputId": "7c61977a-ae70-47a9-e753-fcb66f587ac4"
      },
      "source": [
        "(df.isnull().sum() / df.shape[0] ).sort_values(ascending=False)"
      ],
      "execution_count": 11,
      "outputs": [
        {
          "output_type": "execute_result",
          "data": {
            "text/plain": [
              "new_tests                          0.759397\n",
              "new_tests_per_thousand             0.759397\n",
              "total_tests                        0.731632\n",
              "total_tests_per_thousand           0.731632\n",
              "new_tests_smoothed                 0.709070\n",
              "new_tests_smoothed_per_thousand    0.709070\n",
              "tests_units                        0.683928\n",
              "handwashing_facilities             0.596262\n",
              "extreme_poverty                    0.401657\n",
              "male_smokers                       0.277775\n",
              "female_smokers                     0.269533\n",
              "stringency_index                   0.208425\n",
              "hospital_beds_per_thousand         0.168755\n",
              "aged_65_older                      0.107147\n",
              "gdp_per_capita                     0.104317\n",
              "aged_70_older                      0.099155\n",
              "median_age                         0.094534\n",
              "cvd_death_rate                     0.093619\n",
              "diabetes_prevalence                0.064438\n",
              "population_density                 0.042543\n",
              "new_cases_per_million              0.011739\n",
              "new_deaths_per_million             0.011739\n",
              "total_deaths_per_million           0.011739\n",
              "total_cases_per_million            0.011739\n",
              "continent                          0.009657\n",
              "new_deaths                         0.009075\n",
              "total_deaths                       0.009075\n",
              "new_cases                          0.009075\n",
              "total_cases                        0.009075\n",
              "population                         0.002664\n",
              "iso_code                           0.002664\n",
              "location                           0.000000\n",
              "date                               0.000000\n",
              "dtype: float64"
            ]
          },
          "metadata": {
            "tags": []
          },
          "execution_count": 11
        }
      ]
    },
    {
      "cell_type": "markdown",
      "metadata": {
        "id": "NAYBg69VhYdb",
        "colab_type": "text"
      },
      "source": [
        "> ### Há uma grande porcentagem de valores faltantes no nosso dataset, mas não trabalharemos com eles por enquanto. Estaremos usando colunas como *'total_deaths'*, *'total_cases'* e *'date'* que possuem quase todos os registros preenchidos.\n",
        "\n",
        "> ### Agora vamos analisar quais países tem mais casos e mortes para a data mais recente: "
      ]
    },
    {
      "cell_type": "code",
      "metadata": {
        "id": "r9v3L8Z4hYdc",
        "colab_type": "code",
        "colab": {
          "base_uri": "https://localhost:8080/",
          "height": 204
        },
        "outputId": "b58233a7-607f-428f-b40b-fd64108aa993"
      },
      "source": [
        "# Total de casos sem o valor 'world', que é a soma de todos. \n",
        "df.loc[df.date == '2020-06-14', ['location', 'total_cases', 'total_deaths']].sort_values(by='total_cases', ascending=False)[1:6]"
      ],
      "execution_count": 12,
      "outputs": [
        {
          "output_type": "execute_result",
          "data": {
            "text/html": [
              "<div>\n",
              "<style scoped>\n",
              "    .dataframe tbody tr th:only-of-type {\n",
              "        vertical-align: middle;\n",
              "    }\n",
              "\n",
              "    .dataframe tbody tr th {\n",
              "        vertical-align: top;\n",
              "    }\n",
              "\n",
              "    .dataframe thead th {\n",
              "        text-align: right;\n",
              "    }\n",
              "</style>\n",
              "<table border=\"1\" class=\"dataframe\">\n",
              "  <thead>\n",
              "    <tr style=\"text-align: right;\">\n",
              "      <th></th>\n",
              "      <th>location</th>\n",
              "      <th>total_cases</th>\n",
              "      <th>total_deaths</th>\n",
              "    </tr>\n",
              "  </thead>\n",
              "  <tbody>\n",
              "    <tr>\n",
              "      <th>22873</th>\n",
              "      <td>United States</td>\n",
              "      <td>2074526.0</td>\n",
              "      <td>115436.0</td>\n",
              "    </tr>\n",
              "    <tr>\n",
              "      <th>3263</th>\n",
              "      <td>Brazil</td>\n",
              "      <td>850514.0</td>\n",
              "      <td>42720.0</td>\n",
              "    </tr>\n",
              "    <tr>\n",
              "      <th>18170</th>\n",
              "      <td>Russia</td>\n",
              "      <td>520129.0</td>\n",
              "      <td>6829.0</td>\n",
              "    </tr>\n",
              "    <tr>\n",
              "      <th>10140</th>\n",
              "      <td>India</td>\n",
              "      <td>320922.0</td>\n",
              "      <td>9195.0</td>\n",
              "    </tr>\n",
              "    <tr>\n",
              "      <th>22705</th>\n",
              "      <td>United Kingdom</td>\n",
              "      <td>294375.0</td>\n",
              "      <td>41662.0</td>\n",
              "    </tr>\n",
              "  </tbody>\n",
              "</table>\n",
              "</div>"
            ],
            "text/plain": [
              "             location  total_cases  total_deaths\n",
              "22873   United States    2074526.0      115436.0\n",
              "3263           Brazil     850514.0       42720.0\n",
              "18170          Russia     520129.0        6829.0\n",
              "10140           India     320922.0        9195.0\n",
              "22705  United Kingdom     294375.0       41662.0"
            ]
          },
          "metadata": {
            "tags": []
          },
          "execution_count": 12
        }
      ]
    },
    {
      "cell_type": "code",
      "metadata": {
        "id": "JoSewlnVhYdf",
        "colab_type": "code",
        "colab": {
          "base_uri": "https://localhost:8080/",
          "height": 204
        },
        "outputId": "6818b9ad-85b6-47ed-e306-bedec2e54d8b"
      },
      "source": [
        "# Total de mortes sem o valor 'world', que é a soma de todos.\n",
        "df.loc[df.date == '2020-06-14', ['location', 'total_cases', 'total_deaths']].sort_values(by='total_deaths', ascending=False)[1:6]"
      ],
      "execution_count": 14,
      "outputs": [
        {
          "output_type": "execute_result",
          "data": {
            "text/html": [
              "<div>\n",
              "<style scoped>\n",
              "    .dataframe tbody tr th:only-of-type {\n",
              "        vertical-align: middle;\n",
              "    }\n",
              "\n",
              "    .dataframe tbody tr th {\n",
              "        vertical-align: top;\n",
              "    }\n",
              "\n",
              "    .dataframe thead th {\n",
              "        text-align: right;\n",
              "    }\n",
              "</style>\n",
              "<table border=\"1\" class=\"dataframe\">\n",
              "  <thead>\n",
              "    <tr style=\"text-align: right;\">\n",
              "      <th></th>\n",
              "      <th>location</th>\n",
              "      <th>total_cases</th>\n",
              "      <th>total_deaths</th>\n",
              "    </tr>\n",
              "  </thead>\n",
              "  <tbody>\n",
              "    <tr>\n",
              "      <th>22873</th>\n",
              "      <td>United States</td>\n",
              "      <td>2074526.0</td>\n",
              "      <td>115436.0</td>\n",
              "    </tr>\n",
              "    <tr>\n",
              "      <th>3263</th>\n",
              "      <td>Brazil</td>\n",
              "      <td>850514.0</td>\n",
              "      <td>42720.0</td>\n",
              "    </tr>\n",
              "    <tr>\n",
              "      <th>22705</th>\n",
              "      <td>United Kingdom</td>\n",
              "      <td>294375.0</td>\n",
              "      <td>41662.0</td>\n",
              "    </tr>\n",
              "    <tr>\n",
              "      <th>11225</th>\n",
              "      <td>Italy</td>\n",
              "      <td>236651.0</td>\n",
              "      <td>34301.0</td>\n",
              "    </tr>\n",
              "    <tr>\n",
              "      <th>7839</th>\n",
              "      <td>France</td>\n",
              "      <td>156813.0</td>\n",
              "      <td>29398.0</td>\n",
              "    </tr>\n",
              "  </tbody>\n",
              "</table>\n",
              "</div>"
            ],
            "text/plain": [
              "             location  total_cases  total_deaths\n",
              "22873   United States    2074526.0      115436.0\n",
              "3263           Brazil     850514.0       42720.0\n",
              "22705  United Kingdom     294375.0       41662.0\n",
              "11225           Italy     236651.0       34301.0\n",
              "7839           France     156813.0       29398.0"
            ]
          },
          "metadata": {
            "tags": []
          },
          "execution_count": 14
        }
      ]
    },
    {
      "cell_type": "markdown",
      "metadata": {
        "id": "7SnvhsQ1hYdi",
        "colab_type": "text"
      },
      "source": [
        "> ### Podemos também ver quais são os países que tiveram menos casos e menos mortes."
      ]
    },
    {
      "cell_type": "code",
      "metadata": {
        "id": "qyS7B2UOhYdj",
        "colab_type": "code",
        "colab": {
          "base_uri": "https://localhost:8080/",
          "height": 235
        },
        "outputId": "bb230694-2600-408d-ad29-fc1b11bc478b"
      },
      "source": [
        "# Total de mortes\n",
        "df.loc[df.date == '2020-06-14', ['location', 'total_cases', 'total_deaths']].sort_values(by='total_deaths', ascending=True)[1:7]"
      ],
      "execution_count": 15,
      "outputs": [
        {
          "output_type": "execute_result",
          "data": {
            "text/html": [
              "<div>\n",
              "<style scoped>\n",
              "    .dataframe tbody tr th:only-of-type {\n",
              "        vertical-align: middle;\n",
              "    }\n",
              "\n",
              "    .dataframe tbody tr th {\n",
              "        vertical-align: top;\n",
              "    }\n",
              "\n",
              "    .dataframe thead th {\n",
              "        text-align: right;\n",
              "    }\n",
              "</style>\n",
              "<table border=\"1\" class=\"dataframe\">\n",
              "  <thead>\n",
              "    <tr style=\"text-align: right;\">\n",
              "      <th></th>\n",
              "      <th>location</th>\n",
              "      <th>total_cases</th>\n",
              "      <th>total_deaths</th>\n",
              "    </tr>\n",
              "  </thead>\n",
              "  <tbody>\n",
              "    <tr>\n",
              "      <th>2924</th>\n",
              "      <td>Bonaire Sint Eustatius and Saba</td>\n",
              "      <td>7.0</td>\n",
              "      <td>0.0</td>\n",
              "    </tr>\n",
              "    <tr>\n",
              "      <th>7342</th>\n",
              "      <td>Faeroe Islands</td>\n",
              "      <td>187.0</td>\n",
              "      <td>0.0</td>\n",
              "    </tr>\n",
              "    <tr>\n",
              "      <th>3869</th>\n",
              "      <td>Cambodia</td>\n",
              "      <td>128.0</td>\n",
              "      <td>0.0</td>\n",
              "    </tr>\n",
              "    <tr>\n",
              "      <th>15234</th>\n",
              "      <td>Namibia</td>\n",
              "      <td>32.0</td>\n",
              "      <td>0.0</td>\n",
              "    </tr>\n",
              "    <tr>\n",
              "      <th>22281</th>\n",
              "      <td>Uganda</td>\n",
              "      <td>685.0</td>\n",
              "      <td>0.0</td>\n",
              "    </tr>\n",
              "    <tr>\n",
              "      <th>8968</th>\n",
              "      <td>Grenada</td>\n",
              "      <td>23.0</td>\n",
              "      <td>0.0</td>\n",
              "    </tr>\n",
              "  </tbody>\n",
              "</table>\n",
              "</div>"
            ],
            "text/plain": [
              "                              location  total_cases  total_deaths\n",
              "2924   Bonaire Sint Eustatius and Saba          7.0           0.0\n",
              "7342                    Faeroe Islands        187.0           0.0\n",
              "3869                          Cambodia        128.0           0.0\n",
              "15234                          Namibia         32.0           0.0\n",
              "22281                           Uganda        685.0           0.0\n",
              "8968                           Grenada         23.0           0.0"
            ]
          },
          "metadata": {
            "tags": []
          },
          "execution_count": 15
        }
      ]
    },
    {
      "cell_type": "code",
      "metadata": {
        "id": "ZpAvTFhQhYdm",
        "colab_type": "code",
        "colab": {
          "base_uri": "https://localhost:8080/",
          "height": 235
        },
        "outputId": "8a914338-a8ea-4f66-bc15-6282dc99dabc"
      },
      "source": [
        "# Total de casos\n",
        "df.loc[df.date == '2020-06-14', ['location', 'total_cases', 'total_deaths']].sort_values(by='total_cases', ascending=True)[1:7]"
      ],
      "execution_count": 16,
      "outputs": [
        {
          "output_type": "execute_result",
          "data": {
            "text/html": [
              "<div>\n",
              "<style scoped>\n",
              "    .dataframe tbody tr th:only-of-type {\n",
              "        vertical-align: middle;\n",
              "    }\n",
              "\n",
              "    .dataframe tbody tr th {\n",
              "        vertical-align: top;\n",
              "    }\n",
              "\n",
              "    .dataframe thead th {\n",
              "        text-align: right;\n",
              "    }\n",
              "</style>\n",
              "<table border=\"1\" class=\"dataframe\">\n",
              "  <thead>\n",
              "    <tr style=\"text-align: right;\">\n",
              "      <th></th>\n",
              "      <th>location</th>\n",
              "      <th>total_cases</th>\n",
              "      <th>total_deaths</th>\n",
              "    </tr>\n",
              "  </thead>\n",
              "  <tbody>\n",
              "    <tr>\n",
              "      <th>12601</th>\n",
              "      <td>Lesotho</td>\n",
              "      <td>4.0</td>\n",
              "      <td>0.0</td>\n",
              "    </tr>\n",
              "    <tr>\n",
              "      <th>2924</th>\n",
              "      <td>Bonaire Sint Eustatius and Saba</td>\n",
              "      <td>7.0</td>\n",
              "      <td>0.0</td>\n",
              "    </tr>\n",
              "    <tr>\n",
              "      <th>3344</th>\n",
              "      <td>British Virgin Islands</td>\n",
              "      <td>8.0</td>\n",
              "      <td>1.0</td>\n",
              "    </tr>\n",
              "    <tr>\n",
              "      <th>17011</th>\n",
              "      <td>Papua New Guinea</td>\n",
              "      <td>8.0</td>\n",
              "      <td>0.0</td>\n",
              "    </tr>\n",
              "    <tr>\n",
              "      <th>14841</th>\n",
              "      <td>Montserrat</td>\n",
              "      <td>11.0</td>\n",
              "      <td>1.0</td>\n",
              "    </tr>\n",
              "    <tr>\n",
              "      <th>19169</th>\n",
              "      <td>Seychelles</td>\n",
              "      <td>11.0</td>\n",
              "      <td>0.0</td>\n",
              "    </tr>\n",
              "  </tbody>\n",
              "</table>\n",
              "</div>"
            ],
            "text/plain": [
              "                              location  total_cases  total_deaths\n",
              "12601                          Lesotho          4.0           0.0\n",
              "2924   Bonaire Sint Eustatius and Saba          7.0           0.0\n",
              "3344            British Virgin Islands          8.0           1.0\n",
              "17011                 Papua New Guinea          8.0           0.0\n",
              "14841                       Montserrat         11.0           1.0\n",
              "19169                       Seychelles         11.0           0.0"
            ]
          },
          "metadata": {
            "tags": []
          },
          "execution_count": 16
        }
      ]
    },
    {
      "cell_type": "markdown",
      "metadata": {
        "id": "Gj8ycgwDuZ4s",
        "colab_type": "text"
      },
      "source": [
        "> ### Agora vamos dar uma olhada nesses dados olhando para o tamanho da população."
      ]
    },
    {
      "cell_type": "code",
      "metadata": {
        "id": "lIdV-0XsscwP",
        "colab_type": "code",
        "colab": {
          "base_uri": "https://localhost:8080/",
          "height": 235
        },
        "outputId": "aeed0c22-61b6-4379-aa97-ca6a5123e477"
      },
      "source": [
        "# Total de casos pelo tamanho da população\n",
        "df.loc[df.date == '2020-06-14', ['location', 'population','total_cases', 'total_deaths']].sort_values(by='population', ascending=False)[1:7]"
      ],
      "execution_count": 39,
      "outputs": [
        {
          "output_type": "execute_result",
          "data": {
            "text/html": [
              "<div>\n",
              "<style scoped>\n",
              "    .dataframe tbody tr th:only-of-type {\n",
              "        vertical-align: middle;\n",
              "    }\n",
              "\n",
              "    .dataframe tbody tr th {\n",
              "        vertical-align: top;\n",
              "    }\n",
              "\n",
              "    .dataframe thead th {\n",
              "        text-align: right;\n",
              "    }\n",
              "</style>\n",
              "<table border=\"1\" class=\"dataframe\">\n",
              "  <thead>\n",
              "    <tr style=\"text-align: right;\">\n",
              "      <th></th>\n",
              "      <th>location</th>\n",
              "      <th>population</th>\n",
              "      <th>total_cases</th>\n",
              "      <th>total_deaths</th>\n",
              "    </tr>\n",
              "  </thead>\n",
              "  <tbody>\n",
              "    <tr>\n",
              "      <th>4758</th>\n",
              "      <td>China</td>\n",
              "      <td>1.439324e+09</td>\n",
              "      <td>84288.0</td>\n",
              "      <td>4638.0</td>\n",
              "    </tr>\n",
              "    <tr>\n",
              "      <th>10140</th>\n",
              "      <td>India</td>\n",
              "      <td>1.380004e+09</td>\n",
              "      <td>320922.0</td>\n",
              "      <td>9195.0</td>\n",
              "    </tr>\n",
              "    <tr>\n",
              "      <th>22873</th>\n",
              "      <td>United States</td>\n",
              "      <td>3.310026e+08</td>\n",
              "      <td>2074526.0</td>\n",
              "      <td>115436.0</td>\n",
              "    </tr>\n",
              "    <tr>\n",
              "      <th>10301</th>\n",
              "      <td>Indonesia</td>\n",
              "      <td>2.735236e+08</td>\n",
              "      <td>37420.0</td>\n",
              "      <td>2091.0</td>\n",
              "    </tr>\n",
              "    <tr>\n",
              "      <th>16726</th>\n",
              "      <td>Pakistan</td>\n",
              "      <td>2.208923e+08</td>\n",
              "      <td>139230.0</td>\n",
              "      <td>2632.0</td>\n",
              "    </tr>\n",
              "    <tr>\n",
              "      <th>3263</th>\n",
              "      <td>Brazil</td>\n",
              "      <td>2.125594e+08</td>\n",
              "      <td>850514.0</td>\n",
              "      <td>42720.0</td>\n",
              "    </tr>\n",
              "  </tbody>\n",
              "</table>\n",
              "</div>"
            ],
            "text/plain": [
              "            location    population  total_cases  total_deaths\n",
              "4758           China  1.439324e+09      84288.0        4638.0\n",
              "10140          India  1.380004e+09     320922.0        9195.0\n",
              "22873  United States  3.310026e+08    2074526.0      115436.0\n",
              "10301      Indonesia  2.735236e+08      37420.0        2091.0\n",
              "16726       Pakistan  2.208923e+08     139230.0        2632.0\n",
              "3263          Brazil  2.125594e+08     850514.0       42720.0"
            ]
          },
          "metadata": {
            "tags": []
          },
          "execution_count": 39
        }
      ]
    },
    {
      "cell_type": "markdown",
      "metadata": {
        "id": "b4xz96XRhYdp",
        "colab_type": "text"
      },
      "source": [
        "> ### Temos a China e a Índia como os países de maior população, mas não são os países que mais tem casos de pessoas contaminadas e com mais mortes registradas. Podemos afirmar com essa informação que é possível diminuir o contágio dessa doença.\n",
        "\n",
        "> ### Para melhorar ainda mais a nossa visualização, vamos analisar os 5 países com mais mortes em gráfico."
      ]
    },
    {
      "cell_type": "code",
      "metadata": {
        "id": "umds7lsrhYdq",
        "colab_type": "code",
        "colab": {}
      },
      "source": [
        "top_5_mortes = df.loc[df.date == '2020-06-14', ['location', 'total_cases', 'total_deaths']].sort_values(by='total_deaths', ascending=False)[1:6]\n",
        "sns.set()\n",
        "\n",
        "# Gráfico com Matplotlib\n",
        "# fig, ax = plt.subplots()\n",
        "# ax.bar('location', 'total_deaths', data=top_5_mortes)\n",
        "# ax.set_xlabel('País')\n",
        "# ax.set_ylabel(\"Quantidade de Mortes\")\n",
        "# fig.autofmt_xdate()\n",
        "# plt.show()\n"
      ],
      "execution_count": 17,
      "outputs": []
    },
    {
      "cell_type": "code",
      "metadata": {
        "id": "cdZs620yhYdt",
        "colab_type": "code",
        "colab": {
          "base_uri": "https://localhost:8080/",
          "height": 386
        },
        "outputId": "0de7f413-0a1a-42dd-a574-88660ca80038"
      },
      "source": [
        "# Gráfico com Seaborn\n",
        "g = sns.catplot(x=\"location\", y=\"total_deaths\", kind=\"bar\", data=top_5_mortes);\n",
        "g.fig.autofmt_xdate()\n",
        "plt.show()"
      ],
      "execution_count": 18,
      "outputs": [
        {
          "output_type": "display_data",
          "data": {
            "image/png": "[encoded data removed]",
            "text/plain": [
              "<Figure size 360x360 with 1 Axes>"
            ]
          },
          "metadata": {
            "tags": []
          }
        }
      ]
    },
    {
      "cell_type": "markdown",
      "metadata": {
        "id": "9nteI8QYhYdw",
        "colab_type": "text"
      },
      "source": [
        "> Podemos notar que os Estados Unidos estão com uma quantidade enorme de mortes quando comparado ao resto do mundo, pelo menos 2x mais que o Brasil, que é o 2º país dessa triste lista.\n",
        "> Depois dos EUA, Brasil e Reino Unido estão com a quantidade de mortos bem próximos, em seguida temos a Itália e a França completando os 5 países com mais casos de morte registrados(até o dia 14/06/2020). "
      ]
    },
    {
      "cell_type": "code",
      "metadata": {
        "id": "a4AO2kiMhYdw",
        "colab_type": "code",
        "colab": {
          "base_uri": "https://localhost:8080/",
          "height": 442
        },
        "outputId": "1cf0ac67-b3cf-492a-f943-b4c407b16e87"
      },
      "source": [
        "fig, ax = plt.subplots(nrows=1, ncols=1, figsize=(13, 7))\n",
        "sns.set()\n",
        "\n",
        "\n",
        "ax.plot('total_deaths', data=df);\n",
        "ax.set_title('Total de Mortes no mundo')\n",
        "ax.set_xlabel(\"Evolução\")\n",
        "ax.set_ylabel(\"Mortes Confirmadas\")\n",
        "fig.autofmt_xdate()\n",
        "plt.show()"
      ],
      "execution_count": 19,
      "outputs": [
        {
          "output_type": "display_data",
          "data": {
            "image/png": "[encoded data removed]",
            "text/plain": [
              "<Figure size 936x504 with 1 Axes>"
            ]
          },
          "metadata": {
            "tags": []
          }
        }
      ]
    },
    {
      "cell_type": "markdown",
      "metadata": {
        "id": "erlyJfhHhYdz",
        "colab_type": "text"
      },
      "source": [
        "# Análise Eploratória para o Brasil \n",
        "\n",
        "### Vamos analisar agora nessa base de dados apenas os registros do Brasil e tentar identificar: \n",
        "* O dia que foi registrado o primeiro caso de infecção no Brasil.\n",
        "* Quantos dias demorou para registrarmos a primeira morte, considerando o pimeiro caso registrado."
      ]
    },
    {
      "cell_type": "markdown",
      "metadata": {
        "id": "hfuBX9ruhYdz",
        "colab_type": "text"
      },
      "source": [
        "> Para observarmos apenas os dados referentes ao Brasil, vamos criar uma variável e atribuir a ela uma cópia dos registros apenas do Brasil.\n",
        "\n",
        "> Como iremos trabalhar basicamente com a variável data, transformaremos a coluna data como index."
      ]
    },
    {
      "cell_type": "code",
      "metadata": {
        "id": "Jj40nu-ThYd0",
        "colab_type": "code",
        "colab": {}
      },
      "source": [
        "# Cópia para uma varável com dados exclusivos do Brasil\n",
        "df_brasil = df.loc[df.location == 'Brazil'].copy()\n",
        "\n",
        "# Transformar a coluna date como index.\n",
        "df_brasil.set_index('date', inplace=True)"
      ],
      "execution_count": 20,
      "outputs": []
    },
    {
      "cell_type": "code",
      "metadata": {
        "id": "Jsu2qjG0hYd2",
        "colab_type": "code",
        "colab": {
          "base_uri": "https://localhost:8080/",
          "height": 340
        },
        "outputId": "1a61e9a9-cbed-4aa6-f59c-90ab745f866f"
      },
      "source": [
        "# Visualizar as 5 primeiras entradas\n",
        "df_brasil.head()"
      ],
      "execution_count": 21,
      "outputs": [
        {
          "output_type": "execute_result",
          "data": {
            "text/html": [
              "<div>\n",
              "<style scoped>\n",
              "    .dataframe tbody tr th:only-of-type {\n",
              "        vertical-align: middle;\n",
              "    }\n",
              "\n",
              "    .dataframe tbody tr th {\n",
              "        vertical-align: top;\n",
              "    }\n",
              "\n",
              "    .dataframe thead th {\n",
              "        text-align: right;\n",
              "    }\n",
              "</style>\n",
              "<table border=\"1\" class=\"dataframe\">\n",
              "  <thead>\n",
              "    <tr style=\"text-align: right;\">\n",
              "      <th></th>\n",
              "      <th>iso_code</th>\n",
              "      <th>continent</th>\n",
              "      <th>location</th>\n",
              "      <th>total_cases</th>\n",
              "      <th>new_cases</th>\n",
              "      <th>total_deaths</th>\n",
              "      <th>new_deaths</th>\n",
              "      <th>total_cases_per_million</th>\n",
              "      <th>new_cases_per_million</th>\n",
              "      <th>total_deaths_per_million</th>\n",
              "      <th>new_deaths_per_million</th>\n",
              "      <th>total_tests</th>\n",
              "      <th>new_tests</th>\n",
              "      <th>total_tests_per_thousand</th>\n",
              "      <th>new_tests_per_thousand</th>\n",
              "      <th>new_tests_smoothed</th>\n",
              "      <th>new_tests_smoothed_per_thousand</th>\n",
              "      <th>tests_units</th>\n",
              "      <th>stringency_index</th>\n",
              "      <th>population</th>\n",
              "      <th>population_density</th>\n",
              "      <th>median_age</th>\n",
              "      <th>aged_65_older</th>\n",
              "      <th>aged_70_older</th>\n",
              "      <th>gdp_per_capita</th>\n",
              "      <th>extreme_poverty</th>\n",
              "      <th>cvd_death_rate</th>\n",
              "      <th>diabetes_prevalence</th>\n",
              "      <th>female_smokers</th>\n",
              "      <th>male_smokers</th>\n",
              "      <th>handwashing_facilities</th>\n",
              "      <th>hospital_beds_per_thousand</th>\n",
              "    </tr>\n",
              "    <tr>\n",
              "      <th>date</th>\n",
              "      <th></th>\n",
              "      <th></th>\n",
              "      <th></th>\n",
              "      <th></th>\n",
              "      <th></th>\n",
              "      <th></th>\n",
              "      <th></th>\n",
              "      <th></th>\n",
              "      <th></th>\n",
              "      <th></th>\n",
              "      <th></th>\n",
              "      <th></th>\n",
              "      <th></th>\n",
              "      <th></th>\n",
              "      <th></th>\n",
              "      <th></th>\n",
              "      <th></th>\n",
              "      <th></th>\n",
              "      <th></th>\n",
              "      <th></th>\n",
              "      <th></th>\n",
              "      <th></th>\n",
              "      <th></th>\n",
              "      <th></th>\n",
              "      <th></th>\n",
              "      <th></th>\n",
              "      <th></th>\n",
              "      <th></th>\n",
              "      <th></th>\n",
              "      <th></th>\n",
              "      <th></th>\n",
              "      <th></th>\n",
              "    </tr>\n",
              "  </thead>\n",
              "  <tbody>\n",
              "    <tr>\n",
              "      <th>2019-12-31</th>\n",
              "      <td>BRA</td>\n",
              "      <td>South America</td>\n",
              "      <td>Brazil</td>\n",
              "      <td>0.0</td>\n",
              "      <td>0.0</td>\n",
              "      <td>0.0</td>\n",
              "      <td>0.0</td>\n",
              "      <td>0.0</td>\n",
              "      <td>0.0</td>\n",
              "      <td>0.0</td>\n",
              "      <td>0.0</td>\n",
              "      <td>NaN</td>\n",
              "      <td>NaN</td>\n",
              "      <td>NaN</td>\n",
              "      <td>NaN</td>\n",
              "      <td>NaN</td>\n",
              "      <td>NaN</td>\n",
              "      <td>NaN</td>\n",
              "      <td>NaN</td>\n",
              "      <td>212559409.0</td>\n",
              "      <td>25.04</td>\n",
              "      <td>33.5</td>\n",
              "      <td>8.552</td>\n",
              "      <td>5.06</td>\n",
              "      <td>14103.452</td>\n",
              "      <td>3.4</td>\n",
              "      <td>177.961</td>\n",
              "      <td>8.11</td>\n",
              "      <td>10.1</td>\n",
              "      <td>17.9</td>\n",
              "      <td>NaN</td>\n",
              "      <td>2.2</td>\n",
              "    </tr>\n",
              "    <tr>\n",
              "      <th>2020-01-01</th>\n",
              "      <td>BRA</td>\n",
              "      <td>South America</td>\n",
              "      <td>Brazil</td>\n",
              "      <td>0.0</td>\n",
              "      <td>0.0</td>\n",
              "      <td>0.0</td>\n",
              "      <td>0.0</td>\n",
              "      <td>0.0</td>\n",
              "      <td>0.0</td>\n",
              "      <td>0.0</td>\n",
              "      <td>0.0</td>\n",
              "      <td>NaN</td>\n",
              "      <td>NaN</td>\n",
              "      <td>NaN</td>\n",
              "      <td>NaN</td>\n",
              "      <td>NaN</td>\n",
              "      <td>NaN</td>\n",
              "      <td>NaN</td>\n",
              "      <td>0.0</td>\n",
              "      <td>212559409.0</td>\n",
              "      <td>25.04</td>\n",
              "      <td>33.5</td>\n",
              "      <td>8.552</td>\n",
              "      <td>5.06</td>\n",
              "      <td>14103.452</td>\n",
              "      <td>3.4</td>\n",
              "      <td>177.961</td>\n",
              "      <td>8.11</td>\n",
              "      <td>10.1</td>\n",
              "      <td>17.9</td>\n",
              "      <td>NaN</td>\n",
              "      <td>2.2</td>\n",
              "    </tr>\n",
              "    <tr>\n",
              "      <th>2020-01-02</th>\n",
              "      <td>BRA</td>\n",
              "      <td>South America</td>\n",
              "      <td>Brazil</td>\n",
              "      <td>0.0</td>\n",
              "      <td>0.0</td>\n",
              "      <td>0.0</td>\n",
              "      <td>0.0</td>\n",
              "      <td>0.0</td>\n",
              "      <td>0.0</td>\n",
              "      <td>0.0</td>\n",
              "      <td>0.0</td>\n",
              "      <td>NaN</td>\n",
              "      <td>NaN</td>\n",
              "      <td>NaN</td>\n",
              "      <td>NaN</td>\n",
              "      <td>NaN</td>\n",
              "      <td>NaN</td>\n",
              "      <td>NaN</td>\n",
              "      <td>0.0</td>\n",
              "      <td>212559409.0</td>\n",
              "      <td>25.04</td>\n",
              "      <td>33.5</td>\n",
              "      <td>8.552</td>\n",
              "      <td>5.06</td>\n",
              "      <td>14103.452</td>\n",
              "      <td>3.4</td>\n",
              "      <td>177.961</td>\n",
              "      <td>8.11</td>\n",
              "      <td>10.1</td>\n",
              "      <td>17.9</td>\n",
              "      <td>NaN</td>\n",
              "      <td>2.2</td>\n",
              "    </tr>\n",
              "    <tr>\n",
              "      <th>2020-01-03</th>\n",
              "      <td>BRA</td>\n",
              "      <td>South America</td>\n",
              "      <td>Brazil</td>\n",
              "      <td>0.0</td>\n",
              "      <td>0.0</td>\n",
              "      <td>0.0</td>\n",
              "      <td>0.0</td>\n",
              "      <td>0.0</td>\n",
              "      <td>0.0</td>\n",
              "      <td>0.0</td>\n",
              "      <td>0.0</td>\n",
              "      <td>NaN</td>\n",
              "      <td>NaN</td>\n",
              "      <td>NaN</td>\n",
              "      <td>NaN</td>\n",
              "      <td>NaN</td>\n",
              "      <td>NaN</td>\n",
              "      <td>NaN</td>\n",
              "      <td>0.0</td>\n",
              "      <td>212559409.0</td>\n",
              "      <td>25.04</td>\n",
              "      <td>33.5</td>\n",
              "      <td>8.552</td>\n",
              "      <td>5.06</td>\n",
              "      <td>14103.452</td>\n",
              "      <td>3.4</td>\n",
              "      <td>177.961</td>\n",
              "      <td>8.11</td>\n",
              "      <td>10.1</td>\n",
              "      <td>17.9</td>\n",
              "      <td>NaN</td>\n",
              "      <td>2.2</td>\n",
              "    </tr>\n",
              "    <tr>\n",
              "      <th>2020-01-04</th>\n",
              "      <td>BRA</td>\n",
              "      <td>South America</td>\n",
              "      <td>Brazil</td>\n",
              "      <td>0.0</td>\n",
              "      <td>0.0</td>\n",
              "      <td>0.0</td>\n",
              "      <td>0.0</td>\n",
              "      <td>0.0</td>\n",
              "      <td>0.0</td>\n",
              "      <td>0.0</td>\n",
              "      <td>0.0</td>\n",
              "      <td>NaN</td>\n",
              "      <td>NaN</td>\n",
              "      <td>NaN</td>\n",
              "      <td>NaN</td>\n",
              "      <td>NaN</td>\n",
              "      <td>NaN</td>\n",
              "      <td>NaN</td>\n",
              "      <td>0.0</td>\n",
              "      <td>212559409.0</td>\n",
              "      <td>25.04</td>\n",
              "      <td>33.5</td>\n",
              "      <td>8.552</td>\n",
              "      <td>5.06</td>\n",
              "      <td>14103.452</td>\n",
              "      <td>3.4</td>\n",
              "      <td>177.961</td>\n",
              "      <td>8.11</td>\n",
              "      <td>10.1</td>\n",
              "      <td>17.9</td>\n",
              "      <td>NaN</td>\n",
              "      <td>2.2</td>\n",
              "    </tr>\n",
              "  </tbody>\n",
              "</table>\n",
              "</div>"
            ],
            "text/plain": [
              "           iso_code  ... hospital_beds_per_thousand\n",
              "date                 ...                           \n",
              "2019-12-31      BRA  ...                        2.2\n",
              "2020-01-01      BRA  ...                        2.2\n",
              "2020-01-02      BRA  ...                        2.2\n",
              "2020-01-03      BRA  ...                        2.2\n",
              "2020-01-04      BRA  ...                        2.2\n",
              "\n",
              "[5 rows x 32 columns]"
            ]
          },
          "metadata": {
            "tags": []
          },
          "execution_count": 21
        }
      ]
    },
    {
      "cell_type": "markdown",
      "metadata": {
        "id": "F1yPkKW8hYd5",
        "colab_type": "text"
      },
      "source": [
        "> ### Agora que trabalhamos com os dados exclusivos do Brasil e com a coluna 'date', descobriremos o dia do primeiro caso e a primeira morte registrados no Brasil."
      ]
    },
    {
      "cell_type": "code",
      "metadata": {
        "id": "LShCLfKlhYd6",
        "colab_type": "code",
        "colab": {
          "base_uri": "https://localhost:8080/",
          "height": 450
        },
        "outputId": "db4092bf-4e33-42a3-fdae-0689b9b44ca4"
      },
      "source": [
        "df_brasil.loc[df_brasil.total_cases != 0, ['total_cases']].sort_values(by='total_cases',ascending=True)"
      ],
      "execution_count": 22,
      "outputs": [
        {
          "output_type": "execute_result",
          "data": {
            "text/html": [
              "<div>\n",
              "<style scoped>\n",
              "    .dataframe tbody tr th:only-of-type {\n",
              "        vertical-align: middle;\n",
              "    }\n",
              "\n",
              "    .dataframe tbody tr th {\n",
              "        vertical-align: top;\n",
              "    }\n",
              "\n",
              "    .dataframe thead th {\n",
              "        text-align: right;\n",
              "    }\n",
              "</style>\n",
              "<table border=\"1\" class=\"dataframe\">\n",
              "  <thead>\n",
              "    <tr style=\"text-align: right;\">\n",
              "      <th></th>\n",
              "      <th>total_cases</th>\n",
              "    </tr>\n",
              "    <tr>\n",
              "      <th>date</th>\n",
              "      <th></th>\n",
              "    </tr>\n",
              "  </thead>\n",
              "  <tbody>\n",
              "    <tr>\n",
              "      <th>2020-02-26</th>\n",
              "      <td>1.0</td>\n",
              "    </tr>\n",
              "    <tr>\n",
              "      <th>2020-02-27</th>\n",
              "      <td>1.0</td>\n",
              "    </tr>\n",
              "    <tr>\n",
              "      <th>2020-02-28</th>\n",
              "      <td>1.0</td>\n",
              "    </tr>\n",
              "    <tr>\n",
              "      <th>2020-02-29</th>\n",
              "      <td>1.0</td>\n",
              "    </tr>\n",
              "    <tr>\n",
              "      <th>2020-03-01</th>\n",
              "      <td>2.0</td>\n",
              "    </tr>\n",
              "    <tr>\n",
              "      <th>...</th>\n",
              "      <td>...</td>\n",
              "    </tr>\n",
              "    <tr>\n",
              "      <th>2020-06-11</th>\n",
              "      <td>772416.0</td>\n",
              "    </tr>\n",
              "    <tr>\n",
              "      <th>2020-06-12</th>\n",
              "      <td>802828.0</td>\n",
              "    </tr>\n",
              "    <tr>\n",
              "      <th>2020-06-13</th>\n",
              "      <td>828810.0</td>\n",
              "    </tr>\n",
              "    <tr>\n",
              "      <th>2020-06-14</th>\n",
              "      <td>850514.0</td>\n",
              "    </tr>\n",
              "    <tr>\n",
              "      <th>2020-06-15</th>\n",
              "      <td>867624.0</td>\n",
              "    </tr>\n",
              "  </tbody>\n",
              "</table>\n",
              "<p>111 rows × 1 columns</p>\n",
              "</div>"
            ],
            "text/plain": [
              "            total_cases\n",
              "date                   \n",
              "2020-02-26          1.0\n",
              "2020-02-27          1.0\n",
              "2020-02-28          1.0\n",
              "2020-02-29          1.0\n",
              "2020-03-01          2.0\n",
              "...                 ...\n",
              "2020-06-11     772416.0\n",
              "2020-06-12     802828.0\n",
              "2020-06-13     828810.0\n",
              "2020-06-14     850514.0\n",
              "2020-06-15     867624.0\n",
              "\n",
              "[111 rows x 1 columns]"
            ]
          },
          "metadata": {
            "tags": []
          },
          "execution_count": 22
        }
      ]
    },
    {
      "cell_type": "markdown",
      "metadata": {
        "id": "OOFcWwVshYd-",
        "colab_type": "text"
      },
      "source": [
        "> ### O primeiro caso no Brasil ocorreu no dia 26 de Fevereiro de 2020."
      ]
    },
    {
      "cell_type": "code",
      "metadata": {
        "id": "Jpj6hmXshYd_",
        "colab_type": "code",
        "colab": {
          "base_uri": "https://localhost:8080/",
          "height": 450
        },
        "outputId": "58bb412e-721b-4ed3-e205-fbae1dfcd1fa"
      },
      "source": [
        "df_brasil.loc[df_brasil.total_deaths != 0, ['total_deaths']].sort_values(by='total_deaths',ascending=True)"
      ],
      "execution_count": 23,
      "outputs": [
        {
          "output_type": "execute_result",
          "data": {
            "text/html": [
              "<div>\n",
              "<style scoped>\n",
              "    .dataframe tbody tr th:only-of-type {\n",
              "        vertical-align: middle;\n",
              "    }\n",
              "\n",
              "    .dataframe tbody tr th {\n",
              "        vertical-align: top;\n",
              "    }\n",
              "\n",
              "    .dataframe thead th {\n",
              "        text-align: right;\n",
              "    }\n",
              "</style>\n",
              "<table border=\"1\" class=\"dataframe\">\n",
              "  <thead>\n",
              "    <tr style=\"text-align: right;\">\n",
              "      <th></th>\n",
              "      <th>total_deaths</th>\n",
              "    </tr>\n",
              "    <tr>\n",
              "      <th>date</th>\n",
              "      <th></th>\n",
              "    </tr>\n",
              "  </thead>\n",
              "  <tbody>\n",
              "    <tr>\n",
              "      <th>2020-03-18</th>\n",
              "      <td>1.0</td>\n",
              "    </tr>\n",
              "    <tr>\n",
              "      <th>2020-03-19</th>\n",
              "      <td>4.0</td>\n",
              "    </tr>\n",
              "    <tr>\n",
              "      <th>2020-03-20</th>\n",
              "      <td>6.0</td>\n",
              "    </tr>\n",
              "    <tr>\n",
              "      <th>2020-03-21</th>\n",
              "      <td>11.0</td>\n",
              "    </tr>\n",
              "    <tr>\n",
              "      <th>2020-03-22</th>\n",
              "      <td>18.0</td>\n",
              "    </tr>\n",
              "    <tr>\n",
              "      <th>...</th>\n",
              "      <td>...</td>\n",
              "    </tr>\n",
              "    <tr>\n",
              "      <th>2020-06-11</th>\n",
              "      <td>39680.0</td>\n",
              "    </tr>\n",
              "    <tr>\n",
              "      <th>2020-06-12</th>\n",
              "      <td>40919.0</td>\n",
              "    </tr>\n",
              "    <tr>\n",
              "      <th>2020-06-13</th>\n",
              "      <td>41828.0</td>\n",
              "    </tr>\n",
              "    <tr>\n",
              "      <th>2020-06-14</th>\n",
              "      <td>42720.0</td>\n",
              "    </tr>\n",
              "    <tr>\n",
              "      <th>2020-06-15</th>\n",
              "      <td>43332.0</td>\n",
              "    </tr>\n",
              "  </tbody>\n",
              "</table>\n",
              "<p>90 rows × 1 columns</p>\n",
              "</div>"
            ],
            "text/plain": [
              "            total_deaths\n",
              "date                    \n",
              "2020-03-18           1.0\n",
              "2020-03-19           4.0\n",
              "2020-03-20           6.0\n",
              "2020-03-21          11.0\n",
              "2020-03-22          18.0\n",
              "...                  ...\n",
              "2020-06-11       39680.0\n",
              "2020-06-12       40919.0\n",
              "2020-06-13       41828.0\n",
              "2020-06-14       42720.0\n",
              "2020-06-15       43332.0\n",
              "\n",
              "[90 rows x 1 columns]"
            ]
          },
          "metadata": {
            "tags": []
          },
          "execution_count": 23
        }
      ]
    },
    {
      "cell_type": "markdown",
      "metadata": {
        "id": "xUe43YJEhYeC",
        "colab_type": "text"
      },
      "source": [
        "> ### Como podemos obsevar, a primeira morte no Brasil por COVID-19 foi em 18 de Março de 2020, 3 semanas após o primeiro caso. \n",
        "\n",
        "> #### Agora vamos visualizar em gráficos de linha e em escalas linear e logarítmica para quantidade casos e para quantidade de mortes. "
      ]
    },
    {
      "cell_type": "code",
      "metadata": {
        "id": "JjWV1EhuhYeD",
        "colab_type": "code",
        "colab": {
          "base_uri": "https://localhost:8080/",
          "height": 509
        },
        "outputId": "755226b5-e9a8-4fe5-defc-02bc5989ab84"
      },
      "source": [
        "fig, ax = plt.subplots(nrows=2, ncols=1, figsize=(13, 7))\n",
        "sns.set()\n",
        "\n",
        "# Mortes no Brasil\n",
        "ax[0].plot('total_deaths', data=df_brasil);\n",
        "ax[0].set_title('Total de Mortes no Brasil em Escala Linear')\n",
        "ax[0].set_xlabel(\"Data\")\n",
        "ax[0].set_ylabel(\"Mortes Confirmadas\")\n",
        "# ax[0].set_yscale('log')\n",
        "fig.autofmt_xdate()\n",
        "\n",
        "# Casos no Brasil\n",
        "ax[1].plot('total_deaths', data=df_brasil);\n",
        "ax[1].set_title('Total de Mortes no Brasil em Escala Logarítmica')\n",
        "ax[1].set_xlabel(\"Data\")\n",
        "ax[1].set_ylabel(\"Mortes Confirmadas\")\n",
        "ax[1].set_yscale('log')\n",
        "fig.autofmt_xdate()\n",
        "\n",
        "plt.tight_layout()"
      ],
      "execution_count": 24,
      "outputs": [
        {
          "output_type": "display_data",
          "data": {
            "image/png": "[encoded data removed]",
            "text/plain": [
              "<Figure size 936x504 with 2 Axes>"
            ]
          },
          "metadata": {
            "tags": []
          }
        }
      ]
    },
    {
      "cell_type": "code",
      "metadata": {
        "id": "K3EGx9JfhYeF",
        "colab_type": "code",
        "colab": {
          "base_uri": "https://localhost:8080/",
          "height": 509
        },
        "outputId": "b7888c3c-15b3-4500-979f-7a284e67de54"
      },
      "source": [
        "fig, ax = plt.subplots(nrows=2, ncols=1, figsize=(13, 7))\n",
        "sns.set()\n",
        "\n",
        "# Mortes no Brasil\n",
        "ax[0].plot('total_cases', data=df_brasil);\n",
        "ax[0].set_title('Total de Casos no Brasil em Escala Linear')\n",
        "ax[0].set_xlabel(\"Data\")\n",
        "ax[0].set_ylabel(\"Casos Confirmados\")\n",
        "# ax[0].set_yscale('log')\n",
        "fig.autofmt_xdate()\n",
        "\n",
        "# Casos no Brasil\n",
        "ax[1].plot('total_cases', data=df_brasil);\n",
        "ax[1].set_title('Total de Casos no Brasil em Escala Logarítmica')\n",
        "ax[1].set_xlabel(\"Data\")\n",
        "ax[1].set_ylabel(\"Casos Confirmados\")\n",
        "ax[1].set_yscale('log')\n",
        "fig.autofmt_xdate()\n",
        "\n",
        "plt.tight_layout()"
      ],
      "execution_count": 25,
      "outputs": [
        {
          "output_type": "display_data",
          "data": {
            "image/png": "[encoded data removed]",
            "text/plain": [
              "<Figure size 936x504 with 2 Axes>"
            ]
          },
          "metadata": {
            "tags": []
          }
        }
      ]
    },
    {
      "cell_type": "markdown",
      "metadata": {
        "id": "01zAButOq60m",
        "colab_type": "text"
      },
      "source": [
        "O conjunto de dados usado aqui é simples, porém ideal para uma abordagem inicial, para se criar uma consciência situacional a respeito do COVID-19.\n",
        "\n",
        "Podemos ver que é uma doença que vem causando um alto número de mortes e tem uma alta taxa de contaminação, mas que é possível diminuir esse contágio. \n",
        "\n",
        "Podemos num próximo passo desse estudo tratar os dados faltantes e analisar o motivo de China e Índia possuirem maior população e ainda assim não estarem no topo dos casos de contaminação.  "
      ]
    },
    {
      "cell_type": "code",
      "metadata": {
        "id": "Ty7Rp1OwhYeI",
        "colab_type": "code",
        "colab": {}
      },
      "source": [
        ""
      ],
      "execution_count": 25,
      "outputs": []
    }
  ]
}