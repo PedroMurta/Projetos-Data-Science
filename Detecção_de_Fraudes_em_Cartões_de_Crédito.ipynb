{
  "nbformat": 4,
  "nbformat_minor": 0,
  "metadata": {
    "kernelspec": {
      "display_name": "Python 3",
      "language": "python",
      "name": "python3"
    },
    "language_info": {
      "codemirror_mode": {
        "name": "ipython",
        "version": 3
      },
      "file_extension": ".py",
      "mimetype": "text/x-python",
      "name": "python",
      "nbconvert_exporter": "python",
      "pygments_lexer": "ipython3",
      "version": "3.7.4"
    },
    "colab": {
      "name": "Detecção de Fraudes em Cartões de Crédito.ipynb",
      "provenance": [],
      "collapsed_sections": [],
      "toc_visible": true,
      "include_colab_link": true
    }
  },
  "cells": [
    {
      "cell_type": "markdown",
      "metadata": {
        "id": "view-in-github",
        "colab_type": "text"
      },
      "source": [
        "<a href=\"https://colab.research.google.com/github/PedroMurta/Projetos-Data-Science/blob/master/Detec%C3%A7%C3%A3o_de_Fraudes_em_Cart%C3%B5es_de_Cr%C3%A9dito.ipynb\" target=\"_parent\"><img src=\"https://colab.research.google.com/assets/colab-badge.svg\" alt=\"Open In Colab\"/></a>"
      ]
    },
    {
      "cell_type": "markdown",
      "metadata": {
        "id": "15DIE4L1W4ir",
        "colab_type": "text"
      },
      "source": [
        "# Detecção de Fraude em Cartão de Crédito\n",
        " ### O cartão de crédito é um dos meios de pagamento preferidos dos brasileiros  e, consequentemente, um dos caminhos mais visados para a realização de fraudes e golpes. Por isso, é preciso conhecer os diferentes tipos de fraude de cartão de crédito para evitar que aconteça com você.\n",
        " "
      ]
    },
    {
      "cell_type": "markdown",
      "metadata": {
        "id": "V2JfVybLW4is",
        "colab_type": "text"
      },
      "source": [
        "<img src=\"https://w.wallhaven.cc/full/r2/wallhaven-r22pgw.jpg\" />\n",
        "\n",
        "\n",
        " ### Muitos dos casos de golpes e fraudes de cartão de crédito são resultado de descuidos ou incidentes por parte dos usuários, se soubermos quais são os tipos de fraudes de cartão de crédito mais comuns, podemos nos prevernir.\n",
        " ### Tipos mais comuns de fraudes:\n",
        "> * **Clonagem de cartão de crédito**\n",
        "Um dos golpes mais comuns envolvendo cartão de crédito é a clonagem. Ela se tornou um crime tão corriqueiro que fica difícil listar todos os meios pelas quais é feita. \n",
        "Um dos métodos mais tradicionais envolve o uso dos skimmers, um pequeno artefato eletrônico inserido de forma clandestina nos leitores de cartão, tornando-os capazes de roubar dados dos clientes. Em compras pela internet também há o risco de dados serem roubados e utilizados de forma ilícita.\n",
        "\n",
        "> * **Gerador de números falsos de cartões**\n",
        "Outra forma de fraude comum é aquela que envolve geradores de números de cartões. Esses mecanismos geram milhões de combinações numéricas. Em algum momento, algumas dessas combinações resultam em um número de cartão de crédito válido, o que dá ao fraudador a chance de fazer compras utilizando-se dessa sequência.\n",
        "\n",
        "> * **Ligações e mensagens falsas para roubo de dados( *Engenharia social* ).**\n",
        "A Engenharia Social é a habilidade de conseguir acesso a informações confidenciais ou a áreas importantes de uma instituição através de habilidades de persuasão, muito usada por hackers. Com essas habilidades, o criminoso faz uma ligação para a vítima passando-se pelo banco e solicita ao cliente dados críticos, como número do cartão, código de segurança, CPF, etc... Se a pessoa cair no golpe, o criminoso consegue acesso ao cartão de crédito para fazer o que bem entender.\n",
        "\n",
        "<img src=\"https://w.wallhaven.cc/full/6q/wallhaven-6qgmgq.jpg\"/>\n",
        "\n",
        "## O que as instituições financeiras podem fazer para ajudar a evitar fraude de cartão de crédito?\n",
        "> **Investir na inteligência e análise de dados**\n",
        "conhecer a fundo o histórico financeiro e os hábitos de compra de cada cliente. Dessa forma, fica mais fácil e assertivo identificar quais aquisições têm mais chances de serem resultado de uma fraude de cartão de crédito e, assim, bloqueá-las para que o usuário não se prejudique. Registros de acesso e protocolos de entregas também são informações cruciais que devem ser armazenadas. Dessa forma, torna-se possível construir o perfil de bons consumidores, de potenciais fraudadores ou daqueles que já tenham tentado uma fraude.\n"
      ]
    },
    {
      "cell_type": "markdown",
      "metadata": {
        "id": "9o1YVFieW4it",
        "colab_type": "text"
      },
      "source": [
        "> ### Neste projeto, iremos avaliar uma base de dados e criaremos um algoritmo de machine learning para detectar com base nesses dados transações fraudulentas e transações legais."
      ]
    },
    {
      "cell_type": "markdown",
      "metadata": {
        "id": "Y82-b4AEW4iu",
        "colab_type": "text"
      },
      "source": [
        "# Importando os dados\n",
        "\n",
        "A Base de dados desse projeto foram disponibilizados por algumas empresas européias de cartão de crédito. O dataset apresenta operações financeiras que aconteceram no período de dois dias, onde foram classificadas 492 fraudes em quase 290 mil transações.\n",
        "\n",
        "[Na página original](https://www.kaggle.com/mlg-ulb/creditcardfraud) dos dados, também é informado que as variáveis passaram por uma transformação conhecida como Análise de Componentes Principais (Principal Component Analysis - PCA).\n",
        "\n",
        "A PCA permite a redução da dimensionalidade enquanto mantém o maior número possível de informações. Para conseguir isso, o algoritmo encontra um conjunto novo de recursos - os chamados componentes.\n",
        "\n",
        "Esses componentes são em número menor or igual às variáveis originais. No caso deste projeto, os componentes achados pela transformação da PCA são as próprias colunas  `[V1,V2,V3…,V28]` ."
      ]
    },
    {
      "cell_type": "code",
      "metadata": {
        "id": "oHz9zbaRW4iu",
        "colab_type": "code",
        "colab": {
          "base_uri": "https://localhost:8080/",
          "height": 139
        },
        "outputId": "0f808ace-fe65-45b7-b1a5-39709aa0f9d9"
      },
      "source": [
        "# importando as bibliotecas necessárias\n",
        "\n",
        "import pandas as pd\n",
        "import numpy as np\n",
        "import seaborn as sns\n",
        "import matplotlib.pyplot as plt\n",
        "from mlxtend.plotting import plot_decision_regions, plot_confusion_matrix\n",
        "\n",
        "%matplotlib inline\n",
        "\n",
        "# Sklearn\n",
        "from sklearn.preprocessing import StandardScaler\n",
        "from sklearn.linear_model import LogisticRegression\n",
        "from sklearn.metrics import classification_report, confusion_matrix, accuracy_score, f1_score, recall_score, roc_auc_score\n",
        "from sklearn.model_selection import train_test_split\n",
        "from sklearn.tree import DecisionTreeClassifier, DecisionTreeRegressor\n",
        "from sklearn.ensemble import RandomForestClassifier\n",
        "from imblearn.under_sampling import NearMiss\n",
        "\n",
        "import warnings\n",
        "warnings.filterwarnings(\"ignore\")"
      ],
      "execution_count": 1,
      "outputs": [
        {
          "output_type": "stream",
          "text": [
            "/usr/local/lib/python3.6/dist-packages/statsmodels/tools/_testing.py:19: FutureWarning: pandas.util.testing is deprecated. Use the functions in the public API at pandas.testing instead.\n",
            "  import pandas.util.testing as tm\n",
            "/usr/local/lib/python3.6/dist-packages/sklearn/externals/six.py:31: FutureWarning: The module is deprecated in version 0.21 and will be removed in version 0.23 since we've dropped support for Python 2.7. Please rely on the official version of six (https://pypi.org/project/six/).\n",
            "  \"(https://pypi.org/project/six/).\", FutureWarning)\n",
            "/usr/local/lib/python3.6/dist-packages/sklearn/utils/deprecation.py:144: FutureWarning: The sklearn.neighbors.base module is  deprecated in version 0.22 and will be removed in version 0.24. The corresponding classes / functions should instead be imported from sklearn.neighbors. Anything that cannot be imported from sklearn.neighbors is now part of the private API.\n",
            "  warnings.warn(message, FutureWarning)\n"
          ],
          "name": "stderr"
        }
      ]
    },
    {
      "cell_type": "code",
      "metadata": {
        "id": "cMMVMrxAW4iz",
        "colab_type": "code",
        "colab": {
          "base_uri": "https://localhost:8080/",
          "height": 224
        },
        "outputId": "766b0662-b701-4a26-d754-74e67ee00450"
      },
      "source": [
        "# Carregando o nosso dataset\n",
        "df = pd.read_csv(\"https://www.dropbox.com/s/b44o3t3ehmnx2b7/creditcard.csv?dl=1\")\n",
        "df.head()"
      ],
      "execution_count": 2,
      "outputs": [
        {
          "output_type": "execute_result",
          "data": {
            "text/html": [
              "<div>\n",
              "<style scoped>\n",
              "    .dataframe tbody tr th:only-of-type {\n",
              "        vertical-align: middle;\n",
              "    }\n",
              "\n",
              "    .dataframe tbody tr th {\n",
              "        vertical-align: top;\n",
              "    }\n",
              "\n",
              "    .dataframe thead th {\n",
              "        text-align: right;\n",
              "    }\n",
              "</style>\n",
              "<table border=\"1\" class=\"dataframe\">\n",
              "  <thead>\n",
              "    <tr style=\"text-align: right;\">\n",
              "      <th></th>\n",
              "      <th>Time</th>\n",
              "      <th>V1</th>\n",
              "      <th>V2</th>\n",
              "      <th>V3</th>\n",
              "      <th>V4</th>\n",
              "      <th>V5</th>\n",
              "      <th>V6</th>\n",
              "      <th>V7</th>\n",
              "      <th>V8</th>\n",
              "      <th>V9</th>\n",
              "      <th>V10</th>\n",
              "      <th>V11</th>\n",
              "      <th>V12</th>\n",
              "      <th>V13</th>\n",
              "      <th>V14</th>\n",
              "      <th>V15</th>\n",
              "      <th>V16</th>\n",
              "      <th>V17</th>\n",
              "      <th>V18</th>\n",
              "      <th>V19</th>\n",
              "      <th>V20</th>\n",
              "      <th>V21</th>\n",
              "      <th>V22</th>\n",
              "      <th>V23</th>\n",
              "      <th>V24</th>\n",
              "      <th>V25</th>\n",
              "      <th>V26</th>\n",
              "      <th>V27</th>\n",
              "      <th>V28</th>\n",
              "      <th>Amount</th>\n",
              "      <th>Class</th>\n",
              "    </tr>\n",
              "  </thead>\n",
              "  <tbody>\n",
              "    <tr>\n",
              "      <th>0</th>\n",
              "      <td>0.0</td>\n",
              "      <td>-1.359807</td>\n",
              "      <td>-0.072781</td>\n",
              "      <td>2.536347</td>\n",
              "      <td>1.378155</td>\n",
              "      <td>-0.338321</td>\n",
              "      <td>0.462388</td>\n",
              "      <td>0.239599</td>\n",
              "      <td>0.098698</td>\n",
              "      <td>0.363787</td>\n",
              "      <td>0.090794</td>\n",
              "      <td>-0.551600</td>\n",
              "      <td>-0.617801</td>\n",
              "      <td>-0.991390</td>\n",
              "      <td>-0.311169</td>\n",
              "      <td>1.468177</td>\n",
              "      <td>-0.470401</td>\n",
              "      <td>0.207971</td>\n",
              "      <td>0.025791</td>\n",
              "      <td>0.403993</td>\n",
              "      <td>0.251412</td>\n",
              "      <td>-0.018307</td>\n",
              "      <td>0.277838</td>\n",
              "      <td>-0.110474</td>\n",
              "      <td>0.066928</td>\n",
              "      <td>0.128539</td>\n",
              "      <td>-0.189115</td>\n",
              "      <td>0.133558</td>\n",
              "      <td>-0.021053</td>\n",
              "      <td>149.62</td>\n",
              "      <td>0</td>\n",
              "    </tr>\n",
              "    <tr>\n",
              "      <th>1</th>\n",
              "      <td>0.0</td>\n",
              "      <td>1.191857</td>\n",
              "      <td>0.266151</td>\n",
              "      <td>0.166480</td>\n",
              "      <td>0.448154</td>\n",
              "      <td>0.060018</td>\n",
              "      <td>-0.082361</td>\n",
              "      <td>-0.078803</td>\n",
              "      <td>0.085102</td>\n",
              "      <td>-0.255425</td>\n",
              "      <td>-0.166974</td>\n",
              "      <td>1.612727</td>\n",
              "      <td>1.065235</td>\n",
              "      <td>0.489095</td>\n",
              "      <td>-0.143772</td>\n",
              "      <td>0.635558</td>\n",
              "      <td>0.463917</td>\n",
              "      <td>-0.114805</td>\n",
              "      <td>-0.183361</td>\n",
              "      <td>-0.145783</td>\n",
              "      <td>-0.069083</td>\n",
              "      <td>-0.225775</td>\n",
              "      <td>-0.638672</td>\n",
              "      <td>0.101288</td>\n",
              "      <td>-0.339846</td>\n",
              "      <td>0.167170</td>\n",
              "      <td>0.125895</td>\n",
              "      <td>-0.008983</td>\n",
              "      <td>0.014724</td>\n",
              "      <td>2.69</td>\n",
              "      <td>0</td>\n",
              "    </tr>\n",
              "    <tr>\n",
              "      <th>2</th>\n",
              "      <td>1.0</td>\n",
              "      <td>-1.358354</td>\n",
              "      <td>-1.340163</td>\n",
              "      <td>1.773209</td>\n",
              "      <td>0.379780</td>\n",
              "      <td>-0.503198</td>\n",
              "      <td>1.800499</td>\n",
              "      <td>0.791461</td>\n",
              "      <td>0.247676</td>\n",
              "      <td>-1.514654</td>\n",
              "      <td>0.207643</td>\n",
              "      <td>0.624501</td>\n",
              "      <td>0.066084</td>\n",
              "      <td>0.717293</td>\n",
              "      <td>-0.165946</td>\n",
              "      <td>2.345865</td>\n",
              "      <td>-2.890083</td>\n",
              "      <td>1.109969</td>\n",
              "      <td>-0.121359</td>\n",
              "      <td>-2.261857</td>\n",
              "      <td>0.524980</td>\n",
              "      <td>0.247998</td>\n",
              "      <td>0.771679</td>\n",
              "      <td>0.909412</td>\n",
              "      <td>-0.689281</td>\n",
              "      <td>-0.327642</td>\n",
              "      <td>-0.139097</td>\n",
              "      <td>-0.055353</td>\n",
              "      <td>-0.059752</td>\n",
              "      <td>378.66</td>\n",
              "      <td>0</td>\n",
              "    </tr>\n",
              "    <tr>\n",
              "      <th>3</th>\n",
              "      <td>1.0</td>\n",
              "      <td>-0.966272</td>\n",
              "      <td>-0.185226</td>\n",
              "      <td>1.792993</td>\n",
              "      <td>-0.863291</td>\n",
              "      <td>-0.010309</td>\n",
              "      <td>1.247203</td>\n",
              "      <td>0.237609</td>\n",
              "      <td>0.377436</td>\n",
              "      <td>-1.387024</td>\n",
              "      <td>-0.054952</td>\n",
              "      <td>-0.226487</td>\n",
              "      <td>0.178228</td>\n",
              "      <td>0.507757</td>\n",
              "      <td>-0.287924</td>\n",
              "      <td>-0.631418</td>\n",
              "      <td>-1.059647</td>\n",
              "      <td>-0.684093</td>\n",
              "      <td>1.965775</td>\n",
              "      <td>-1.232622</td>\n",
              "      <td>-0.208038</td>\n",
              "      <td>-0.108300</td>\n",
              "      <td>0.005274</td>\n",
              "      <td>-0.190321</td>\n",
              "      <td>-1.175575</td>\n",
              "      <td>0.647376</td>\n",
              "      <td>-0.221929</td>\n",
              "      <td>0.062723</td>\n",
              "      <td>0.061458</td>\n",
              "      <td>123.50</td>\n",
              "      <td>0</td>\n",
              "    </tr>\n",
              "    <tr>\n",
              "      <th>4</th>\n",
              "      <td>2.0</td>\n",
              "      <td>-1.158233</td>\n",
              "      <td>0.877737</td>\n",
              "      <td>1.548718</td>\n",
              "      <td>0.403034</td>\n",
              "      <td>-0.407193</td>\n",
              "      <td>0.095921</td>\n",
              "      <td>0.592941</td>\n",
              "      <td>-0.270533</td>\n",
              "      <td>0.817739</td>\n",
              "      <td>0.753074</td>\n",
              "      <td>-0.822843</td>\n",
              "      <td>0.538196</td>\n",
              "      <td>1.345852</td>\n",
              "      <td>-1.119670</td>\n",
              "      <td>0.175121</td>\n",
              "      <td>-0.451449</td>\n",
              "      <td>-0.237033</td>\n",
              "      <td>-0.038195</td>\n",
              "      <td>0.803487</td>\n",
              "      <td>0.408542</td>\n",
              "      <td>-0.009431</td>\n",
              "      <td>0.798278</td>\n",
              "      <td>-0.137458</td>\n",
              "      <td>0.141267</td>\n",
              "      <td>-0.206010</td>\n",
              "      <td>0.502292</td>\n",
              "      <td>0.219422</td>\n",
              "      <td>0.215153</td>\n",
              "      <td>69.99</td>\n",
              "      <td>0</td>\n",
              "    </tr>\n",
              "  </tbody>\n",
              "</table>\n",
              "</div>"
            ],
            "text/plain": [
              "   Time        V1        V2        V3  ...       V27       V28  Amount  Class\n",
              "0   0.0 -1.359807 -0.072781  2.536347  ...  0.133558 -0.021053  149.62      0\n",
              "1   0.0  1.191857  0.266151  0.166480  ... -0.008983  0.014724    2.69      0\n",
              "2   1.0 -1.358354 -1.340163  1.773209  ... -0.055353 -0.059752  378.66      0\n",
              "3   1.0 -0.966272 -0.185226  1.792993  ...  0.062723  0.061458  123.50      0\n",
              "4   2.0 -1.158233  0.877737  1.548718  ...  0.219422  0.215153   69.99      0\n",
              "\n",
              "[5 rows x 31 columns]"
            ]
          },
          "metadata": {
            "tags": []
          },
          "execution_count": 2
        }
      ]
    },
    {
      "cell_type": "markdown",
      "metadata": {
        "id": "wf7S4rmspQVt",
        "colab_type": "text"
      },
      "source": [
        "# Análise Exploratória dos Dados"
      ]
    },
    {
      "cell_type": "markdown",
      "metadata": {
        "id": "hpIWgy6ViNmi",
        "colab_type": "text"
      },
      "source": [
        "Analisando as 5 primeiras entradas conseguimos ver que a transformação PCA deixou as *features* anônimas e em valores numéricos. \n",
        "\n",
        "Vemos também que a coluna `Time` e `Amount` foram preservadas, e nossa variável alvo está na coluna `Class`, onde 0 representa uma transação **válida** e 1 representa uma transação **fraudulenta**."
      ]
    },
    {
      "cell_type": "code",
      "metadata": {
        "id": "eGo6E6ojW4i3",
        "colab_type": "code",
        "colab": {
          "base_uri": "https://localhost:8080/",
          "height": 317
        },
        "outputId": "3580a03b-0ebc-422d-8892-b9442a56a30d"
      },
      "source": [
        "df.describe()"
      ],
      "execution_count": 3,
      "outputs": [
        {
          "output_type": "execute_result",
          "data": {
            "text/html": [
              "<div>\n",
              "<style scoped>\n",
              "    .dataframe tbody tr th:only-of-type {\n",
              "        vertical-align: middle;\n",
              "    }\n",
              "\n",
              "    .dataframe tbody tr th {\n",
              "        vertical-align: top;\n",
              "    }\n",
              "\n",
              "    .dataframe thead th {\n",
              "        text-align: right;\n",
              "    }\n",
              "</style>\n",
              "<table border=\"1\" class=\"dataframe\">\n",
              "  <thead>\n",
              "    <tr style=\"text-align: right;\">\n",
              "      <th></th>\n",
              "      <th>Time</th>\n",
              "      <th>V1</th>\n",
              "      <th>V2</th>\n",
              "      <th>V3</th>\n",
              "      <th>V4</th>\n",
              "      <th>V5</th>\n",
              "      <th>V6</th>\n",
              "      <th>V7</th>\n",
              "      <th>V8</th>\n",
              "      <th>V9</th>\n",
              "      <th>V10</th>\n",
              "      <th>V11</th>\n",
              "      <th>V12</th>\n",
              "      <th>V13</th>\n",
              "      <th>V14</th>\n",
              "      <th>V15</th>\n",
              "      <th>V16</th>\n",
              "      <th>V17</th>\n",
              "      <th>V18</th>\n",
              "      <th>V19</th>\n",
              "      <th>V20</th>\n",
              "      <th>V21</th>\n",
              "      <th>V22</th>\n",
              "      <th>V23</th>\n",
              "      <th>V24</th>\n",
              "      <th>V25</th>\n",
              "      <th>V26</th>\n",
              "      <th>V27</th>\n",
              "      <th>V28</th>\n",
              "      <th>Amount</th>\n",
              "      <th>Class</th>\n",
              "    </tr>\n",
              "  </thead>\n",
              "  <tbody>\n",
              "    <tr>\n",
              "      <th>count</th>\n",
              "      <td>284807.000000</td>\n",
              "      <td>2.848070e+05</td>\n",
              "      <td>2.848070e+05</td>\n",
              "      <td>2.848070e+05</td>\n",
              "      <td>2.848070e+05</td>\n",
              "      <td>2.848070e+05</td>\n",
              "      <td>2.848070e+05</td>\n",
              "      <td>2.848070e+05</td>\n",
              "      <td>2.848070e+05</td>\n",
              "      <td>2.848070e+05</td>\n",
              "      <td>2.848070e+05</td>\n",
              "      <td>2.848070e+05</td>\n",
              "      <td>2.848070e+05</td>\n",
              "      <td>2.848070e+05</td>\n",
              "      <td>2.848070e+05</td>\n",
              "      <td>2.848070e+05</td>\n",
              "      <td>2.848070e+05</td>\n",
              "      <td>2.848070e+05</td>\n",
              "      <td>2.848070e+05</td>\n",
              "      <td>2.848070e+05</td>\n",
              "      <td>2.848070e+05</td>\n",
              "      <td>2.848070e+05</td>\n",
              "      <td>2.848070e+05</td>\n",
              "      <td>2.848070e+05</td>\n",
              "      <td>2.848070e+05</td>\n",
              "      <td>2.848070e+05</td>\n",
              "      <td>2.848070e+05</td>\n",
              "      <td>2.848070e+05</td>\n",
              "      <td>2.848070e+05</td>\n",
              "      <td>284807.000000</td>\n",
              "      <td>284807.000000</td>\n",
              "    </tr>\n",
              "    <tr>\n",
              "      <th>mean</th>\n",
              "      <td>94813.859575</td>\n",
              "      <td>3.919560e-15</td>\n",
              "      <td>5.688174e-16</td>\n",
              "      <td>-8.769071e-15</td>\n",
              "      <td>2.782312e-15</td>\n",
              "      <td>-1.552563e-15</td>\n",
              "      <td>2.010663e-15</td>\n",
              "      <td>-1.694249e-15</td>\n",
              "      <td>-1.927028e-16</td>\n",
              "      <td>-3.137024e-15</td>\n",
              "      <td>1.768627e-15</td>\n",
              "      <td>9.170318e-16</td>\n",
              "      <td>-1.810658e-15</td>\n",
              "      <td>1.693438e-15</td>\n",
              "      <td>1.479045e-15</td>\n",
              "      <td>3.482336e-15</td>\n",
              "      <td>1.392007e-15</td>\n",
              "      <td>-7.528491e-16</td>\n",
              "      <td>4.328772e-16</td>\n",
              "      <td>9.049732e-16</td>\n",
              "      <td>5.085503e-16</td>\n",
              "      <td>1.537294e-16</td>\n",
              "      <td>7.959909e-16</td>\n",
              "      <td>5.367590e-16</td>\n",
              "      <td>4.458112e-15</td>\n",
              "      <td>1.453003e-15</td>\n",
              "      <td>1.699104e-15</td>\n",
              "      <td>-3.660161e-16</td>\n",
              "      <td>-1.206049e-16</td>\n",
              "      <td>88.349619</td>\n",
              "      <td>0.001727</td>\n",
              "    </tr>\n",
              "    <tr>\n",
              "      <th>std</th>\n",
              "      <td>47488.145955</td>\n",
              "      <td>1.958696e+00</td>\n",
              "      <td>1.651309e+00</td>\n",
              "      <td>1.516255e+00</td>\n",
              "      <td>1.415869e+00</td>\n",
              "      <td>1.380247e+00</td>\n",
              "      <td>1.332271e+00</td>\n",
              "      <td>1.237094e+00</td>\n",
              "      <td>1.194353e+00</td>\n",
              "      <td>1.098632e+00</td>\n",
              "      <td>1.088850e+00</td>\n",
              "      <td>1.020713e+00</td>\n",
              "      <td>9.992014e-01</td>\n",
              "      <td>9.952742e-01</td>\n",
              "      <td>9.585956e-01</td>\n",
              "      <td>9.153160e-01</td>\n",
              "      <td>8.762529e-01</td>\n",
              "      <td>8.493371e-01</td>\n",
              "      <td>8.381762e-01</td>\n",
              "      <td>8.140405e-01</td>\n",
              "      <td>7.709250e-01</td>\n",
              "      <td>7.345240e-01</td>\n",
              "      <td>7.257016e-01</td>\n",
              "      <td>6.244603e-01</td>\n",
              "      <td>6.056471e-01</td>\n",
              "      <td>5.212781e-01</td>\n",
              "      <td>4.822270e-01</td>\n",
              "      <td>4.036325e-01</td>\n",
              "      <td>3.300833e-01</td>\n",
              "      <td>250.120109</td>\n",
              "      <td>0.041527</td>\n",
              "    </tr>\n",
              "    <tr>\n",
              "      <th>min</th>\n",
              "      <td>0.000000</td>\n",
              "      <td>-5.640751e+01</td>\n",
              "      <td>-7.271573e+01</td>\n",
              "      <td>-4.832559e+01</td>\n",
              "      <td>-5.683171e+00</td>\n",
              "      <td>-1.137433e+02</td>\n",
              "      <td>-2.616051e+01</td>\n",
              "      <td>-4.355724e+01</td>\n",
              "      <td>-7.321672e+01</td>\n",
              "      <td>-1.343407e+01</td>\n",
              "      <td>-2.458826e+01</td>\n",
              "      <td>-4.797473e+00</td>\n",
              "      <td>-1.868371e+01</td>\n",
              "      <td>-5.791881e+00</td>\n",
              "      <td>-1.921433e+01</td>\n",
              "      <td>-4.498945e+00</td>\n",
              "      <td>-1.412985e+01</td>\n",
              "      <td>-2.516280e+01</td>\n",
              "      <td>-9.498746e+00</td>\n",
              "      <td>-7.213527e+00</td>\n",
              "      <td>-5.449772e+01</td>\n",
              "      <td>-3.483038e+01</td>\n",
              "      <td>-1.093314e+01</td>\n",
              "      <td>-4.480774e+01</td>\n",
              "      <td>-2.836627e+00</td>\n",
              "      <td>-1.029540e+01</td>\n",
              "      <td>-2.604551e+00</td>\n",
              "      <td>-2.256568e+01</td>\n",
              "      <td>-1.543008e+01</td>\n",
              "      <td>0.000000</td>\n",
              "      <td>0.000000</td>\n",
              "    </tr>\n",
              "    <tr>\n",
              "      <th>25%</th>\n",
              "      <td>54201.500000</td>\n",
              "      <td>-9.203734e-01</td>\n",
              "      <td>-5.985499e-01</td>\n",
              "      <td>-8.903648e-01</td>\n",
              "      <td>-8.486401e-01</td>\n",
              "      <td>-6.915971e-01</td>\n",
              "      <td>-7.682956e-01</td>\n",
              "      <td>-5.540759e-01</td>\n",
              "      <td>-2.086297e-01</td>\n",
              "      <td>-6.430976e-01</td>\n",
              "      <td>-5.354257e-01</td>\n",
              "      <td>-7.624942e-01</td>\n",
              "      <td>-4.055715e-01</td>\n",
              "      <td>-6.485393e-01</td>\n",
              "      <td>-4.255740e-01</td>\n",
              "      <td>-5.828843e-01</td>\n",
              "      <td>-4.680368e-01</td>\n",
              "      <td>-4.837483e-01</td>\n",
              "      <td>-4.988498e-01</td>\n",
              "      <td>-4.562989e-01</td>\n",
              "      <td>-2.117214e-01</td>\n",
              "      <td>-2.283949e-01</td>\n",
              "      <td>-5.423504e-01</td>\n",
              "      <td>-1.618463e-01</td>\n",
              "      <td>-3.545861e-01</td>\n",
              "      <td>-3.171451e-01</td>\n",
              "      <td>-3.269839e-01</td>\n",
              "      <td>-7.083953e-02</td>\n",
              "      <td>-5.295979e-02</td>\n",
              "      <td>5.600000</td>\n",
              "      <td>0.000000</td>\n",
              "    </tr>\n",
              "    <tr>\n",
              "      <th>50%</th>\n",
              "      <td>84692.000000</td>\n",
              "      <td>1.810880e-02</td>\n",
              "      <td>6.548556e-02</td>\n",
              "      <td>1.798463e-01</td>\n",
              "      <td>-1.984653e-02</td>\n",
              "      <td>-5.433583e-02</td>\n",
              "      <td>-2.741871e-01</td>\n",
              "      <td>4.010308e-02</td>\n",
              "      <td>2.235804e-02</td>\n",
              "      <td>-5.142873e-02</td>\n",
              "      <td>-9.291738e-02</td>\n",
              "      <td>-3.275735e-02</td>\n",
              "      <td>1.400326e-01</td>\n",
              "      <td>-1.356806e-02</td>\n",
              "      <td>5.060132e-02</td>\n",
              "      <td>4.807155e-02</td>\n",
              "      <td>6.641332e-02</td>\n",
              "      <td>-6.567575e-02</td>\n",
              "      <td>-3.636312e-03</td>\n",
              "      <td>3.734823e-03</td>\n",
              "      <td>-6.248109e-02</td>\n",
              "      <td>-2.945017e-02</td>\n",
              "      <td>6.781943e-03</td>\n",
              "      <td>-1.119293e-02</td>\n",
              "      <td>4.097606e-02</td>\n",
              "      <td>1.659350e-02</td>\n",
              "      <td>-5.213911e-02</td>\n",
              "      <td>1.342146e-03</td>\n",
              "      <td>1.124383e-02</td>\n",
              "      <td>22.000000</td>\n",
              "      <td>0.000000</td>\n",
              "    </tr>\n",
              "    <tr>\n",
              "      <th>75%</th>\n",
              "      <td>139320.500000</td>\n",
              "      <td>1.315642e+00</td>\n",
              "      <td>8.037239e-01</td>\n",
              "      <td>1.027196e+00</td>\n",
              "      <td>7.433413e-01</td>\n",
              "      <td>6.119264e-01</td>\n",
              "      <td>3.985649e-01</td>\n",
              "      <td>5.704361e-01</td>\n",
              "      <td>3.273459e-01</td>\n",
              "      <td>5.971390e-01</td>\n",
              "      <td>4.539234e-01</td>\n",
              "      <td>7.395934e-01</td>\n",
              "      <td>6.182380e-01</td>\n",
              "      <td>6.625050e-01</td>\n",
              "      <td>4.931498e-01</td>\n",
              "      <td>6.488208e-01</td>\n",
              "      <td>5.232963e-01</td>\n",
              "      <td>3.996750e-01</td>\n",
              "      <td>5.008067e-01</td>\n",
              "      <td>4.589494e-01</td>\n",
              "      <td>1.330408e-01</td>\n",
              "      <td>1.863772e-01</td>\n",
              "      <td>5.285536e-01</td>\n",
              "      <td>1.476421e-01</td>\n",
              "      <td>4.395266e-01</td>\n",
              "      <td>3.507156e-01</td>\n",
              "      <td>2.409522e-01</td>\n",
              "      <td>9.104512e-02</td>\n",
              "      <td>7.827995e-02</td>\n",
              "      <td>77.165000</td>\n",
              "      <td>0.000000</td>\n",
              "    </tr>\n",
              "    <tr>\n",
              "      <th>max</th>\n",
              "      <td>172792.000000</td>\n",
              "      <td>2.454930e+00</td>\n",
              "      <td>2.205773e+01</td>\n",
              "      <td>9.382558e+00</td>\n",
              "      <td>1.687534e+01</td>\n",
              "      <td>3.480167e+01</td>\n",
              "      <td>7.330163e+01</td>\n",
              "      <td>1.205895e+02</td>\n",
              "      <td>2.000721e+01</td>\n",
              "      <td>1.559499e+01</td>\n",
              "      <td>2.374514e+01</td>\n",
              "      <td>1.201891e+01</td>\n",
              "      <td>7.848392e+00</td>\n",
              "      <td>7.126883e+00</td>\n",
              "      <td>1.052677e+01</td>\n",
              "      <td>8.877742e+00</td>\n",
              "      <td>1.731511e+01</td>\n",
              "      <td>9.253526e+00</td>\n",
              "      <td>5.041069e+00</td>\n",
              "      <td>5.591971e+00</td>\n",
              "      <td>3.942090e+01</td>\n",
              "      <td>2.720284e+01</td>\n",
              "      <td>1.050309e+01</td>\n",
              "      <td>2.252841e+01</td>\n",
              "      <td>4.584549e+00</td>\n",
              "      <td>7.519589e+00</td>\n",
              "      <td>3.517346e+00</td>\n",
              "      <td>3.161220e+01</td>\n",
              "      <td>3.384781e+01</td>\n",
              "      <td>25691.160000</td>\n",
              "      <td>1.000000</td>\n",
              "    </tr>\n",
              "  </tbody>\n",
              "</table>\n",
              "</div>"
            ],
            "text/plain": [
              "                Time            V1  ...         Amount          Class\n",
              "count  284807.000000  2.848070e+05  ...  284807.000000  284807.000000\n",
              "mean    94813.859575  3.919560e-15  ...      88.349619       0.001727\n",
              "std     47488.145955  1.958696e+00  ...     250.120109       0.041527\n",
              "min         0.000000 -5.640751e+01  ...       0.000000       0.000000\n",
              "25%     54201.500000 -9.203734e-01  ...       5.600000       0.000000\n",
              "50%     84692.000000  1.810880e-02  ...      22.000000       0.000000\n",
              "75%    139320.500000  1.315642e+00  ...      77.165000       0.000000\n",
              "max    172792.000000  2.454930e+00  ...   25691.160000       1.000000\n",
              "\n",
              "[8 rows x 31 columns]"
            ]
          },
          "metadata": {
            "tags": []
          },
          "execution_count": 3
        }
      ]
    },
    {
      "cell_type": "markdown",
      "metadata": {
        "id": "CuBLUm0WjI6s",
        "colab_type": "text"
      },
      "source": [
        "Verificando o resumo estatístico pelo método *describe()* que não há aparentemente nenhuma discrepância aparente."
      ]
    },
    {
      "cell_type": "markdown",
      "metadata": {
        "id": "RvcB_V0vjb5f",
        "colab_type": "text"
      },
      "source": [
        "Vamos analisar a coluna `Amount` e analisar os dados de transações válidas e fraudulentas. "
      ]
    },
    {
      "cell_type": "code",
      "metadata": {
        "id": "N9zcvgepW4i6",
        "colab_type": "code",
        "colab": {
          "base_uri": "https://localhost:8080/",
          "height": 170
        },
        "outputId": "f8a61962-a737-4d0a-8cd5-8a26e45921c2"
      },
      "source": [
        "# Transações fraudulentas\n",
        "df.Amount[df.Class == 1].describe()"
      ],
      "execution_count": 4,
      "outputs": [
        {
          "output_type": "execute_result",
          "data": {
            "text/plain": [
              "count     492.000000\n",
              "mean      122.211321\n",
              "std       256.683288\n",
              "min         0.000000\n",
              "25%         1.000000\n",
              "50%         9.250000\n",
              "75%       105.890000\n",
              "max      2125.870000\n",
              "Name: Amount, dtype: float64"
            ]
          },
          "metadata": {
            "tags": []
          },
          "execution_count": 4
        }
      ]
    },
    {
      "cell_type": "code",
      "metadata": {
        "id": "_vubxnGFW4i-",
        "colab_type": "code",
        "colab": {
          "base_uri": "https://localhost:8080/",
          "height": 170
        },
        "outputId": "9af05adc-6b0f-48a9-81e1-7177130afec5"
      },
      "source": [
        "# Transações válidas\n",
        "df.Amount[df.Class == 0].describe()"
      ],
      "execution_count": 5,
      "outputs": [
        {
          "output_type": "execute_result",
          "data": {
            "text/plain": [
              "count    284315.000000\n",
              "mean         88.291022\n",
              "std         250.105092\n",
              "min           0.000000\n",
              "25%           5.650000\n",
              "50%          22.000000\n",
              "75%          77.050000\n",
              "max       25691.160000\n",
              "Name: Amount, dtype: float64"
            ]
          },
          "metadata": {
            "tags": []
          },
          "execution_count": 5
        }
      ]
    },
    {
      "cell_type": "markdown",
      "metadata": {
        "id": "8Ofb5MOfj9vX",
        "colab_type": "text"
      },
      "source": [
        "Podemos ver uma enorme diferença de valores no dataset na contagem de transações válidas para as fraudulentas."
      ]
    },
    {
      "cell_type": "code",
      "metadata": {
        "id": "cvdyf_WwW4jB",
        "colab_type": "code",
        "colab": {
          "base_uri": "https://localhost:8080/",
          "height": 561
        },
        "outputId": "03dec02f-624e-4d67-9a4e-519d6d7b49af"
      },
      "source": [
        "df.isnull().sum()"
      ],
      "execution_count": 6,
      "outputs": [
        {
          "output_type": "execute_result",
          "data": {
            "text/plain": [
              "Time      0\n",
              "V1        0\n",
              "V2        0\n",
              "V3        0\n",
              "V4        0\n",
              "V5        0\n",
              "V6        0\n",
              "V7        0\n",
              "V8        0\n",
              "V9        0\n",
              "V10       0\n",
              "V11       0\n",
              "V12       0\n",
              "V13       0\n",
              "V14       0\n",
              "V15       0\n",
              "V16       0\n",
              "V17       0\n",
              "V18       0\n",
              "V19       0\n",
              "V20       0\n",
              "V21       0\n",
              "V22       0\n",
              "V23       0\n",
              "V24       0\n",
              "V25       0\n",
              "V26       0\n",
              "V27       0\n",
              "V28       0\n",
              "Amount    0\n",
              "Class     0\n",
              "dtype: int64"
            ]
          },
          "metadata": {
            "tags": []
          },
          "execution_count": 6
        }
      ]
    },
    {
      "cell_type": "markdown",
      "metadata": {
        "id": "nfdt9_9tkrjI",
        "colab_type": "text"
      },
      "source": [
        "Não há valores faltantes no nosso dataset, então não precisamos nos preocupar com a etapa de limpeza. "
      ]
    },
    {
      "cell_type": "code",
      "metadata": {
        "id": "Jj7Z5jGHW4jI",
        "colab_type": "code",
        "colab": {
          "base_uri": "https://localhost:8080/",
          "height": 68
        },
        "outputId": "1fe900ec-4004-46c5-c536-0dfe237a128d"
      },
      "source": [
        "\n",
        "print(f'Valores de casos')\n",
        "print(f'Transações Válidas: {round(df.Class.value_counts()[0] / len(df) * 100, 2)}%')\n",
        "print(f'Transações Fraudulentas: {round(df.Class.value_counts()[1] / len(df) * 100, 2)}% do dataset')"
      ],
      "execution_count": 7,
      "outputs": [
        {
          "output_type": "stream",
          "text": [
            "Valores de casos\n",
            "Transações Válidas: 99.83%\n",
            "Transações Fraudulentas: 0.17% do dataset\n"
          ],
          "name": "stdout"
        }
      ]
    },
    {
      "cell_type": "markdown",
      "metadata": {
        "id": "p2TA6AxElQSc",
        "colab_type": "text"
      },
      "source": [
        "A porcentagem de transações fraudulentas correspondem à 0.17% do nosso dataset. Esse desbalanceamento nos dados deve interferir no nosso modelo de classificação, por isso padronizaremos os dados a fim de evitar [overfitting](https://en.wikipedia.org/wiki/Overfitting). "
      ]
    },
    {
      "cell_type": "code",
      "metadata": {
        "id": "Zr3xPiJeW4jM",
        "colab_type": "code",
        "colab": {
          "base_uri": "https://localhost:8080/",
          "height": 34
        },
        "outputId": "af255d65-2133-4d10-dbc1-5210196a5930"
      },
      "source": [
        "# Vericar quantidade de linhas e colunas\n",
        "df.shape"
      ],
      "execution_count": 8,
      "outputs": [
        {
          "output_type": "execute_result",
          "data": {
            "text/plain": [
              "(284807, 31)"
            ]
          },
          "metadata": {
            "tags": []
          },
          "execution_count": 8
        }
      ]
    },
    {
      "cell_type": "code",
      "metadata": {
        "id": "kO6ODU6AW4jP",
        "colab_type": "code",
        "colab": {
          "base_uri": "https://localhost:8080/",
          "height": 313
        },
        "outputId": "03eafa36-d716-4d29-d1f8-b5e068350766"
      },
      "source": [
        "sns.set_style(\"dark\")\n",
        "\n",
        "fig, ax = plt.subplots()\n",
        "sns.countplot('Class', data=df, ax=ax)\n",
        "ax.set_title('Distribuição das Classes')\n",
        "plt.xlabel(\"Class\")\n",
        "plt.xticks([0, 1], ['Transação Válida', 'Fraude'])\n",
        "plt.ylabel(\"Frequência\")\n",
        "plt.plot()"
      ],
      "execution_count": 9,
      "outputs": [
        {
          "output_type": "execute_result",
          "data": {
            "text/plain": [
              "[]"
            ]
          },
          "metadata": {
            "tags": []
          },
          "execution_count": 9
        },
        {
          "output_type": "display_data",
          "data": {
            "image/png": "[encoded data removed]",
            "text/plain": [
              "<Figure size 432x288 with 1 Axes>"
            ]
          },
          "metadata": {
            "tags": []
          }
        }
      ]
    },
    {
      "cell_type": "markdown",
      "metadata": {
        "id": "42Fe33ywmlAY",
        "colab_type": "text"
      },
      "source": [
        "Plotamos esse gráfico acima para analisarmos de forma visual a diferença entre as classes do nosso dataset."
      ]
    },
    {
      "cell_type": "code",
      "metadata": {
        "id": "0kvK6EPYW4jS",
        "colab_type": "code",
        "colab": {
          "base_uri": "https://localhost:8080/",
          "height": 585
        },
        "outputId": "0608c80c-8c98-4e4f-a542-1019c2e12da1"
      },
      "source": [
        "fig, ax = plt.subplots(nrows=2, ncols=1, figsize=(12, 8))\n",
        "\n",
        "ax[0].hist(df.Time[df.Class == 0], bins=30) \n",
        "ax[0].set_title(\"Transação Normal\") \n",
        "\n",
        "ax[1].hist(df.Time[df.Class == 1], bins=30)\n",
        "ax[1].set_title(\"Transação Fraudulenta\")\n",
        "\n",
        "plt.ylabel('Transações')\n",
        "plt.xlabel(\"Tempo em Segundos\")\n",
        "plt.tight_layout()"
      ],
      "execution_count": 10,
      "outputs": [
        {
          "output_type": "display_data",
          "data": {
            "image/png": "[encoded data removed]",
            "text/plain": [
              "<Figure size 864x576 with 2 Axes>"
            ]
          },
          "metadata": {
            "tags": []
          }
        }
      ]
    },
    {
      "cell_type": "code",
      "metadata": {
        "id": "tLWyjK5eW4jW",
        "colab_type": "code",
        "colab": {
          "base_uri": "https://localhost:8080/",
          "height": 297
        },
        "outputId": "e3bfbdfa-4bdd-4d4e-be18-b21ea0026801"
      },
      "source": [
        "fig, ax = plt.subplots(nrows=1, ncols=2, figsize=(18, 4))\n",
        "\n",
        "sns.distplot(df.Amount, ax=ax[0], color='red')\n",
        "ax[0].set_title('Ditribuição de valor de transação', fontsize=15)\n",
        "ax[0].set_xlim([min(df.Amount.values), max(df.Amount.values)])\n",
        "\n",
        "sns.distplot(df.Time, ax=ax[1], color='red')\n",
        "ax[1].set_title('Ditribuição de tempo de transação', fontsize=15)\n",
        "ax[1].set_xlim([min(df.Time.values), max(df.Time.values)])\n",
        "plt.show()"
      ],
      "execution_count": 11,
      "outputs": [
        {
          "output_type": "display_data",
          "data": {
            "image/png": "[encoded data removed]",
            "text/plain": [
              "<Figure size 1296x288 with 2 Axes>"
            ]
          },
          "metadata": {
            "tags": []
          }
        }
      ]
    },
    {
      "cell_type": "markdown",
      "metadata": {
        "id": "8IWFmnWlnJwS",
        "colab_type": "text"
      },
      "source": [
        "Plotamos também esses dois gráficos para comparar as distribuições das 2 classes ao longo do tempo, mas não identificamos nenhuma informação relevante.\n"
      ]
    },
    {
      "cell_type": "code",
      "metadata": {
        "id": "pSRdp8zpW4jZ",
        "colab_type": "code",
        "colab": {
          "base_uri": "https://localhost:8080/",
          "height": 873
        },
        "outputId": "6a13a111-7a49-44b4-db64-fed1601c7730"
      },
      "source": [
        "fig, ax = plt.subplots(figsize=(12, 12))\n",
        "\n",
        "sns.boxplot(df.Class, df.Amount, ax=ax, showmeans=True)\n",
        "plt.ylim(-25, 450)\n",
        "plt.xticks([0, 1], ['Válida', 'Fraude'])\n",
        "ax.set_title(\"Classe x Valor\")\n",
        "\n",
        "plt.tight_layout()"
      ],
      "execution_count": 12,
      "outputs": [
        {
          "output_type": "display_data",
          "data": {
            "image/png": "[encoded data removed]",
            "text/plain": [
              "<Figure size 864x864 with 1 Axes>"
            ]
          },
          "metadata": {
            "tags": []
          }
        }
      ]
    },
    {
      "cell_type": "markdown",
      "metadata": {
        "id": "ydzkyDm_oeJ8",
        "colab_type": "text"
      },
      "source": [
        "Seguindo nossa análise exploratória, plotamos os boxplots para procurar alguma diferença no padrão transações em relação à Amount. Vemos que há uma distribuição diferente para as duas classes."
      ]
    },
    {
      "cell_type": "markdown",
      "metadata": {
        "id": "XhoYxl-grE_h",
        "colab_type": "text"
      },
      "source": [
        "# Preparando os dados\n",
        "* Para que possamos trabalhar com os dados para usar nossos modelos de Machine Learning, iremos padronizar as *features* `Time` e `Amount`, dividir nossos dados em **treino** e **teste** e balancear os dados para evitar *overfitting*, como já citamos acima."
      ]
    },
    {
      "cell_type": "markdown",
      "metadata": {
        "id": "Okk_OcPbrp81",
        "colab_type": "text"
      },
      "source": [
        "> Para padronizar as colunas **Time** e **Amount**, vamos usar a classe StandardScaler da biblioteca scikit-learn."
      ]
    },
    {
      "cell_type": "code",
      "metadata": {
        "id": "KmRLM1PFW4jj",
        "colab_type": "code",
        "colab": {
          "base_uri": "https://localhost:8080/",
          "height": 224
        },
        "outputId": "0048723d-bbd6-4645-d047-0a0eefd12007"
      },
      "source": [
        "# Padronizar Colunas \"Time\" e \"Amount\"\n",
        "df_clean = df.copy()\n",
        "\n",
        "scaler = StandardScaler()\n",
        "df_clean['normAmount'] = scaler.fit_transform(df_clean['Amount'].values.reshape(-1, 1))\n",
        "df_clean['normTime'] = scaler.fit_transform(df_clean['Time'].values.reshape(-1, 1))\n",
        "\n",
        "# Ver as entradas após alterações\n",
        "df_clean.head()"
      ],
      "execution_count": 13,
      "outputs": [
        {
          "output_type": "execute_result",
          "data": {
            "text/html": [
              "<div>\n",
              "<style scoped>\n",
              "    .dataframe tbody tr th:only-of-type {\n",
              "        vertical-align: middle;\n",
              "    }\n",
              "\n",
              "    .dataframe tbody tr th {\n",
              "        vertical-align: top;\n",
              "    }\n",
              "\n",
              "    .dataframe thead th {\n",
              "        text-align: right;\n",
              "    }\n",
              "</style>\n",
              "<table border=\"1\" class=\"dataframe\">\n",
              "  <thead>\n",
              "    <tr style=\"text-align: right;\">\n",
              "      <th></th>\n",
              "      <th>Time</th>\n",
              "      <th>V1</th>\n",
              "      <th>V2</th>\n",
              "      <th>V3</th>\n",
              "      <th>V4</th>\n",
              "      <th>V5</th>\n",
              "      <th>V6</th>\n",
              "      <th>V7</th>\n",
              "      <th>V8</th>\n",
              "      <th>V9</th>\n",
              "      <th>V10</th>\n",
              "      <th>V11</th>\n",
              "      <th>V12</th>\n",
              "      <th>V13</th>\n",
              "      <th>V14</th>\n",
              "      <th>V15</th>\n",
              "      <th>V16</th>\n",
              "      <th>V17</th>\n",
              "      <th>V18</th>\n",
              "      <th>V19</th>\n",
              "      <th>V20</th>\n",
              "      <th>V21</th>\n",
              "      <th>V22</th>\n",
              "      <th>V23</th>\n",
              "      <th>V24</th>\n",
              "      <th>V25</th>\n",
              "      <th>V26</th>\n",
              "      <th>V27</th>\n",
              "      <th>V28</th>\n",
              "      <th>Amount</th>\n",
              "      <th>Class</th>\n",
              "      <th>normAmount</th>\n",
              "      <th>normTime</th>\n",
              "    </tr>\n",
              "  </thead>\n",
              "  <tbody>\n",
              "    <tr>\n",
              "      <th>0</th>\n",
              "      <td>0.0</td>\n",
              "      <td>-1.359807</td>\n",
              "      <td>-0.072781</td>\n",
              "      <td>2.536347</td>\n",
              "      <td>1.378155</td>\n",
              "      <td>-0.338321</td>\n",
              "      <td>0.462388</td>\n",
              "      <td>0.239599</td>\n",
              "      <td>0.098698</td>\n",
              "      <td>0.363787</td>\n",
              "      <td>0.090794</td>\n",
              "      <td>-0.551600</td>\n",
              "      <td>-0.617801</td>\n",
              "      <td>-0.991390</td>\n",
              "      <td>-0.311169</td>\n",
              "      <td>1.468177</td>\n",
              "      <td>-0.470401</td>\n",
              "      <td>0.207971</td>\n",
              "      <td>0.025791</td>\n",
              "      <td>0.403993</td>\n",
              "      <td>0.251412</td>\n",
              "      <td>-0.018307</td>\n",
              "      <td>0.277838</td>\n",
              "      <td>-0.110474</td>\n",
              "      <td>0.066928</td>\n",
              "      <td>0.128539</td>\n",
              "      <td>-0.189115</td>\n",
              "      <td>0.133558</td>\n",
              "      <td>-0.021053</td>\n",
              "      <td>149.62</td>\n",
              "      <td>0</td>\n",
              "      <td>0.244964</td>\n",
              "      <td>-1.996583</td>\n",
              "    </tr>\n",
              "    <tr>\n",
              "      <th>1</th>\n",
              "      <td>0.0</td>\n",
              "      <td>1.191857</td>\n",
              "      <td>0.266151</td>\n",
              "      <td>0.166480</td>\n",
              "      <td>0.448154</td>\n",
              "      <td>0.060018</td>\n",
              "      <td>-0.082361</td>\n",
              "      <td>-0.078803</td>\n",
              "      <td>0.085102</td>\n",
              "      <td>-0.255425</td>\n",
              "      <td>-0.166974</td>\n",
              "      <td>1.612727</td>\n",
              "      <td>1.065235</td>\n",
              "      <td>0.489095</td>\n",
              "      <td>-0.143772</td>\n",
              "      <td>0.635558</td>\n",
              "      <td>0.463917</td>\n",
              "      <td>-0.114805</td>\n",
              "      <td>-0.183361</td>\n",
              "      <td>-0.145783</td>\n",
              "      <td>-0.069083</td>\n",
              "      <td>-0.225775</td>\n",
              "      <td>-0.638672</td>\n",
              "      <td>0.101288</td>\n",
              "      <td>-0.339846</td>\n",
              "      <td>0.167170</td>\n",
              "      <td>0.125895</td>\n",
              "      <td>-0.008983</td>\n",
              "      <td>0.014724</td>\n",
              "      <td>2.69</td>\n",
              "      <td>0</td>\n",
              "      <td>-0.342475</td>\n",
              "      <td>-1.996583</td>\n",
              "    </tr>\n",
              "    <tr>\n",
              "      <th>2</th>\n",
              "      <td>1.0</td>\n",
              "      <td>-1.358354</td>\n",
              "      <td>-1.340163</td>\n",
              "      <td>1.773209</td>\n",
              "      <td>0.379780</td>\n",
              "      <td>-0.503198</td>\n",
              "      <td>1.800499</td>\n",
              "      <td>0.791461</td>\n",
              "      <td>0.247676</td>\n",
              "      <td>-1.514654</td>\n",
              "      <td>0.207643</td>\n",
              "      <td>0.624501</td>\n",
              "      <td>0.066084</td>\n",
              "      <td>0.717293</td>\n",
              "      <td>-0.165946</td>\n",
              "      <td>2.345865</td>\n",
              "      <td>-2.890083</td>\n",
              "      <td>1.109969</td>\n",
              "      <td>-0.121359</td>\n",
              "      <td>-2.261857</td>\n",
              "      <td>0.524980</td>\n",
              "      <td>0.247998</td>\n",
              "      <td>0.771679</td>\n",
              "      <td>0.909412</td>\n",
              "      <td>-0.689281</td>\n",
              "      <td>-0.327642</td>\n",
              "      <td>-0.139097</td>\n",
              "      <td>-0.055353</td>\n",
              "      <td>-0.059752</td>\n",
              "      <td>378.66</td>\n",
              "      <td>0</td>\n",
              "      <td>1.160686</td>\n",
              "      <td>-1.996562</td>\n",
              "    </tr>\n",
              "    <tr>\n",
              "      <th>3</th>\n",
              "      <td>1.0</td>\n",
              "      <td>-0.966272</td>\n",
              "      <td>-0.185226</td>\n",
              "      <td>1.792993</td>\n",
              "      <td>-0.863291</td>\n",
              "      <td>-0.010309</td>\n",
              "      <td>1.247203</td>\n",
              "      <td>0.237609</td>\n",
              "      <td>0.377436</td>\n",
              "      <td>-1.387024</td>\n",
              "      <td>-0.054952</td>\n",
              "      <td>-0.226487</td>\n",
              "      <td>0.178228</td>\n",
              "      <td>0.507757</td>\n",
              "      <td>-0.287924</td>\n",
              "      <td>-0.631418</td>\n",
              "      <td>-1.059647</td>\n",
              "      <td>-0.684093</td>\n",
              "      <td>1.965775</td>\n",
              "      <td>-1.232622</td>\n",
              "      <td>-0.208038</td>\n",
              "      <td>-0.108300</td>\n",
              "      <td>0.005274</td>\n",
              "      <td>-0.190321</td>\n",
              "      <td>-1.175575</td>\n",
              "      <td>0.647376</td>\n",
              "      <td>-0.221929</td>\n",
              "      <td>0.062723</td>\n",
              "      <td>0.061458</td>\n",
              "      <td>123.50</td>\n",
              "      <td>0</td>\n",
              "      <td>0.140534</td>\n",
              "      <td>-1.996562</td>\n",
              "    </tr>\n",
              "    <tr>\n",
              "      <th>4</th>\n",
              "      <td>2.0</td>\n",
              "      <td>-1.158233</td>\n",
              "      <td>0.877737</td>\n",
              "      <td>1.548718</td>\n",
              "      <td>0.403034</td>\n",
              "      <td>-0.407193</td>\n",
              "      <td>0.095921</td>\n",
              "      <td>0.592941</td>\n",
              "      <td>-0.270533</td>\n",
              "      <td>0.817739</td>\n",
              "      <td>0.753074</td>\n",
              "      <td>-0.822843</td>\n",
              "      <td>0.538196</td>\n",
              "      <td>1.345852</td>\n",
              "      <td>-1.119670</td>\n",
              "      <td>0.175121</td>\n",
              "      <td>-0.451449</td>\n",
              "      <td>-0.237033</td>\n",
              "      <td>-0.038195</td>\n",
              "      <td>0.803487</td>\n",
              "      <td>0.408542</td>\n",
              "      <td>-0.009431</td>\n",
              "      <td>0.798278</td>\n",
              "      <td>-0.137458</td>\n",
              "      <td>0.141267</td>\n",
              "      <td>-0.206010</td>\n",
              "      <td>0.502292</td>\n",
              "      <td>0.219422</td>\n",
              "      <td>0.215153</td>\n",
              "      <td>69.99</td>\n",
              "      <td>0</td>\n",
              "      <td>-0.073403</td>\n",
              "      <td>-1.996541</td>\n",
              "    </tr>\n",
              "  </tbody>\n",
              "</table>\n",
              "</div>"
            ],
            "text/plain": [
              "   Time        V1        V2        V3  ...  Amount  Class  normAmount  normTime\n",
              "0   0.0 -1.359807 -0.072781  2.536347  ...  149.62      0    0.244964 -1.996583\n",
              "1   0.0  1.191857  0.266151  0.166480  ...    2.69      0   -0.342475 -1.996583\n",
              "2   1.0 -1.358354 -1.340163  1.773209  ...  378.66      0    1.160686 -1.996562\n",
              "3   1.0 -0.966272 -0.185226  1.792993  ...  123.50      0    0.140534 -1.996562\n",
              "4   2.0 -1.158233  0.877737  1.548718  ...   69.99      0   -0.073403 -1.996541\n",
              "\n",
              "[5 rows x 33 columns]"
            ]
          },
          "metadata": {
            "tags": []
          },
          "execution_count": 13
        }
      ]
    },
    {
      "cell_type": "code",
      "metadata": {
        "id": "L3hkbhbbW4jp",
        "colab_type": "code",
        "colab": {
          "base_uri": "https://localhost:8080/",
          "height": 162
        },
        "outputId": "9ad6b3ef-b1e9-4f81-b083-15c123427bb2"
      },
      "source": [
        "df_clean.drop(['Time', 'Amount'], axis=1, inplace=True)\n",
        "df_clean.head(3)"
      ],
      "execution_count": 14,
      "outputs": [
        {
          "output_type": "execute_result",
          "data": {
            "text/html": [
              "<div>\n",
              "<style scoped>\n",
              "    .dataframe tbody tr th:only-of-type {\n",
              "        vertical-align: middle;\n",
              "    }\n",
              "\n",
              "    .dataframe tbody tr th {\n",
              "        vertical-align: top;\n",
              "    }\n",
              "\n",
              "    .dataframe thead th {\n",
              "        text-align: right;\n",
              "    }\n",
              "</style>\n",
              "<table border=\"1\" class=\"dataframe\">\n",
              "  <thead>\n",
              "    <tr style=\"text-align: right;\">\n",
              "      <th></th>\n",
              "      <th>V1</th>\n",
              "      <th>V2</th>\n",
              "      <th>V3</th>\n",
              "      <th>V4</th>\n",
              "      <th>V5</th>\n",
              "      <th>V6</th>\n",
              "      <th>V7</th>\n",
              "      <th>V8</th>\n",
              "      <th>V9</th>\n",
              "      <th>V10</th>\n",
              "      <th>V11</th>\n",
              "      <th>V12</th>\n",
              "      <th>V13</th>\n",
              "      <th>V14</th>\n",
              "      <th>V15</th>\n",
              "      <th>V16</th>\n",
              "      <th>V17</th>\n",
              "      <th>V18</th>\n",
              "      <th>V19</th>\n",
              "      <th>V20</th>\n",
              "      <th>V21</th>\n",
              "      <th>V22</th>\n",
              "      <th>V23</th>\n",
              "      <th>V24</th>\n",
              "      <th>V25</th>\n",
              "      <th>V26</th>\n",
              "      <th>V27</th>\n",
              "      <th>V28</th>\n",
              "      <th>Class</th>\n",
              "      <th>normAmount</th>\n",
              "      <th>normTime</th>\n",
              "    </tr>\n",
              "  </thead>\n",
              "  <tbody>\n",
              "    <tr>\n",
              "      <th>0</th>\n",
              "      <td>-1.359807</td>\n",
              "      <td>-0.072781</td>\n",
              "      <td>2.536347</td>\n",
              "      <td>1.378155</td>\n",
              "      <td>-0.338321</td>\n",
              "      <td>0.462388</td>\n",
              "      <td>0.239599</td>\n",
              "      <td>0.098698</td>\n",
              "      <td>0.363787</td>\n",
              "      <td>0.090794</td>\n",
              "      <td>-0.551600</td>\n",
              "      <td>-0.617801</td>\n",
              "      <td>-0.991390</td>\n",
              "      <td>-0.311169</td>\n",
              "      <td>1.468177</td>\n",
              "      <td>-0.470401</td>\n",
              "      <td>0.207971</td>\n",
              "      <td>0.025791</td>\n",
              "      <td>0.403993</td>\n",
              "      <td>0.251412</td>\n",
              "      <td>-0.018307</td>\n",
              "      <td>0.277838</td>\n",
              "      <td>-0.110474</td>\n",
              "      <td>0.066928</td>\n",
              "      <td>0.128539</td>\n",
              "      <td>-0.189115</td>\n",
              "      <td>0.133558</td>\n",
              "      <td>-0.021053</td>\n",
              "      <td>0</td>\n",
              "      <td>0.244964</td>\n",
              "      <td>-1.996583</td>\n",
              "    </tr>\n",
              "    <tr>\n",
              "      <th>1</th>\n",
              "      <td>1.191857</td>\n",
              "      <td>0.266151</td>\n",
              "      <td>0.166480</td>\n",
              "      <td>0.448154</td>\n",
              "      <td>0.060018</td>\n",
              "      <td>-0.082361</td>\n",
              "      <td>-0.078803</td>\n",
              "      <td>0.085102</td>\n",
              "      <td>-0.255425</td>\n",
              "      <td>-0.166974</td>\n",
              "      <td>1.612727</td>\n",
              "      <td>1.065235</td>\n",
              "      <td>0.489095</td>\n",
              "      <td>-0.143772</td>\n",
              "      <td>0.635558</td>\n",
              "      <td>0.463917</td>\n",
              "      <td>-0.114805</td>\n",
              "      <td>-0.183361</td>\n",
              "      <td>-0.145783</td>\n",
              "      <td>-0.069083</td>\n",
              "      <td>-0.225775</td>\n",
              "      <td>-0.638672</td>\n",
              "      <td>0.101288</td>\n",
              "      <td>-0.339846</td>\n",
              "      <td>0.167170</td>\n",
              "      <td>0.125895</td>\n",
              "      <td>-0.008983</td>\n",
              "      <td>0.014724</td>\n",
              "      <td>0</td>\n",
              "      <td>-0.342475</td>\n",
              "      <td>-1.996583</td>\n",
              "    </tr>\n",
              "    <tr>\n",
              "      <th>2</th>\n",
              "      <td>-1.358354</td>\n",
              "      <td>-1.340163</td>\n",
              "      <td>1.773209</td>\n",
              "      <td>0.379780</td>\n",
              "      <td>-0.503198</td>\n",
              "      <td>1.800499</td>\n",
              "      <td>0.791461</td>\n",
              "      <td>0.247676</td>\n",
              "      <td>-1.514654</td>\n",
              "      <td>0.207643</td>\n",
              "      <td>0.624501</td>\n",
              "      <td>0.066084</td>\n",
              "      <td>0.717293</td>\n",
              "      <td>-0.165946</td>\n",
              "      <td>2.345865</td>\n",
              "      <td>-2.890083</td>\n",
              "      <td>1.109969</td>\n",
              "      <td>-0.121359</td>\n",
              "      <td>-2.261857</td>\n",
              "      <td>0.524980</td>\n",
              "      <td>0.247998</td>\n",
              "      <td>0.771679</td>\n",
              "      <td>0.909412</td>\n",
              "      <td>-0.689281</td>\n",
              "      <td>-0.327642</td>\n",
              "      <td>-0.139097</td>\n",
              "      <td>-0.055353</td>\n",
              "      <td>-0.059752</td>\n",
              "      <td>0</td>\n",
              "      <td>1.160686</td>\n",
              "      <td>-1.996562</td>\n",
              "    </tr>\n",
              "  </tbody>\n",
              "</table>\n",
              "</div>"
            ],
            "text/plain": [
              "         V1        V2        V3  ...  Class  normAmount  normTime\n",
              "0 -1.359807 -0.072781  2.536347  ...      0    0.244964 -1.996583\n",
              "1  1.191857  0.266151  0.166480  ...      0   -0.342475 -1.996583\n",
              "2 -1.358354 -1.340163  1.773209  ...      0    1.160686 -1.996562\n",
              "\n",
              "[3 rows x 31 columns]"
            ]
          },
          "metadata": {
            "tags": []
          },
          "execution_count": 14
        }
      ]
    },
    {
      "cell_type": "markdown",
      "metadata": {
        "id": "ibV1i4fUXopx",
        "colab_type": "text"
      },
      "source": [
        "## Tratando os dados"
      ]
    },
    {
      "cell_type": "markdown",
      "metadata": {
        "id": "N-WSoF5xsOmz",
        "colab_type": "text"
      },
      "source": [
        "**Dividindo os dados em treino e teste**\n",
        "\n",
        "Para garantir que nossos conjuntos de treino e teste tenham quantidade proporcionais de classes, passamos o parâmetro `stratify=y`."
      ]
    },
    {
      "cell_type": "code",
      "metadata": {
        "id": "pTtwQBeQXuhP",
        "colab_type": "code",
        "colab": {}
      },
      "source": [
        "# Separar X e y\n",
        "X = df_clean.drop('Class', axis=1)\n",
        "y = df_clean['Class']\n",
        "\n",
        "# Dividir entre treino e teste\n",
        "X_train, X_test, y_train, y_test = train_test_split(X, y, stratify=y, shuffle=True)"
      ],
      "execution_count": 15,
      "outputs": []
    },
    {
      "cell_type": "markdown",
      "metadata": {
        "id": "cPvlFS4usxQp",
        "colab_type": "text"
      },
      "source": [
        "O NearMiss iguala a quantidade de amostra entre as classes, é um método de *undersampling*."
      ]
    },
    {
      "cell_type": "code",
      "metadata": {
        "id": "it3rWMovYDNG",
        "colab_type": "code",
        "colab": {}
      },
      "source": [
        "# Aplicando o NearMiss\n",
        "nr = NearMiss()\n",
        "X, y = nr.fit_sample(X, y)"
      ],
      "execution_count": 16,
      "outputs": []
    },
    {
      "cell_type": "markdown",
      "metadata": {
        "id": "4C6848cbtJ2R",
        "colab_type": "text"
      },
      "source": [
        "Existem parâmetros que podem ser configurados com o NearMiss, mas usaremos o padrão mesmo."
      ]
    },
    {
      "cell_type": "code",
      "metadata": {
        "id": "BVECk2LYW4jd",
        "colab_type": "code",
        "colab": {
          "base_uri": "https://localhost:8080/",
          "height": 663
        },
        "outputId": "c9014d7a-4c31-4a8c-972d-c603d52706d6"
      },
      "source": [
        "correlacao = df.corr()\n",
        "correlacao2 = df_clean.corr()\n",
        "\n",
        "fig, ax = plt.subplots(nrows=1, ncols=2, figsize=(18, 10))\n",
        "\n",
        "sns.heatmap(correlacao, xticklabels=correlacao.columns, yticklabels=correlacao.columns,  linewidths=.1, cmap=\"Blues\", ax=ax[0])\n",
        "ax[0].set_title(\"Desbalanceado\")\n",
        "\n",
        "sns.heatmap(correlacao2, xticklabels=correlacao2.columns, yticklabels=correlacao2.columns,  linewidths=.1, cmap=\"Blues_r\", ax=ax[1])\n",
        "ax[1].set_title(\"Balanceado\")\n",
        "\n",
        "\n",
        "plt.show()"
      ],
      "execution_count": 17,
      "outputs": [
        {
          "output_type": "display_data",
          "data": {
            "image/png": "[encoded data removed]",
            "text/plain": [
              "<Figure size 1296x720 with 4 Axes>"
            ]
          },
          "metadata": {
            "tags": []
          }
        }
      ]
    },
    {
      "cell_type": "markdown",
      "metadata": {
        "id": "NQXmuIuotcqY",
        "colab_type": "text"
      },
      "source": [
        "Agora com os dados balanceados, podemos verificar e identificar quais variáveis estão relacionadas. É possível notar que antes de balancear os dados não víamos nenhuma informação relevante, mas após o balanceamento, conseguimos tirar mais informações."
      ]
    },
    {
      "cell_type": "code",
      "metadata": {
        "id": "L2MG3OBNYop7",
        "colab_type": "code",
        "colab": {
          "base_uri": "https://localhost:8080/",
          "height": 265
        },
        "outputId": "f482735f-adc8-4c07-cc33-7c33d8c1f2eb"
      },
      "source": [
        "ax = sns.countplot(x=y)"
      ],
      "execution_count": 18,
      "outputs": [
        {
          "output_type": "display_data",
          "data": {
            "image/png": "[encoded data removed]",
            "text/plain": [
              "<Figure size 432x288 with 1 Axes>"
            ]
          },
          "metadata": {
            "tags": []
          }
        }
      ]
    },
    {
      "cell_type": "markdown",
      "metadata": {
        "id": "bI-1gzzTuDLF",
        "colab_type": "text"
      },
      "source": [
        "Com esse simples gráfico conseguimos ver que agora não há uma difetença enorme entre as classes de transações válidas e fraudulentas."
      ]
    },
    {
      "cell_type": "markdown",
      "metadata": {
        "id": "UM9gGcMkudMl",
        "colab_type": "text"
      },
      "source": [
        "#### Este problema de classificação de transação consiste em classificar transações como válidas ou fraudulentas, ou seja, é indicado usar modelos de machine learning usados para classificações."
      ]
    },
    {
      "cell_type": "markdown",
      "metadata": {
        "id": "L5TtlL6jW4ju",
        "colab_type": "text"
      },
      "source": [
        "## **Modelo de Regressão Logística**\n",
        "\n",
        "> Serve para classificar algo dentro de um conjunto de categorias. Vamos usar esse modelo por que ele trabalha com probabilidades, no nosso caso, probabilidade de ser ou não fraude."
      ]
    },
    {
      "cell_type": "code",
      "metadata": {
        "id": "MKwtI63QW4jw",
        "colab_type": "code",
        "colab": {}
      },
      "source": [
        "# Regressão Logística\n",
        "rl = LogisticRegression(solver='liblinear').fit(X_train, y_train)\n",
        "\n",
        "rl_pred = rl.predict(X_test)"
      ],
      "execution_count": 19,
      "outputs": []
    },
    {
      "cell_type": "code",
      "metadata": {
        "id": "9euNCar9W4j0",
        "colab_type": "code",
        "colab": {
          "base_uri": "https://localhost:8080/",
          "height": 255
        },
        "outputId": "10b969ef-2d43-41e2-b18e-b17d867d56df"
      },
      "source": [
        "print('Relatório de Classificação')\n",
        "print(f'Classification Report:\\n {classification_report(y_test, rl_pred)}')\n",
        "print(f'Recall Score - Regressão Logística: {recall_score(y_test, rl_pred)}%')\n",
        "print(f'F1 Score - Regressão Logística: {f1_score(y_test, rl_pred)}%')\n",
        "print(f'Accuracy Score - Regressão Logística: {accuracy_score(y_test, rl_pred)}%')"
      ],
      "execution_count": 48,
      "outputs": [
        {
          "output_type": "stream",
          "text": [
            "Relatório de Classificação\n",
            "Classification Report:\n",
            "               precision    recall  f1-score   support\n",
            "\n",
            "           0       1.00      1.00      1.00     71079\n",
            "           1       0.88      0.59      0.70       123\n",
            "\n",
            "    accuracy                           1.00     71202\n",
            "   macro avg       0.94      0.79      0.85     71202\n",
            "weighted avg       1.00      1.00      1.00     71202\n",
            "\n",
            "Recall Score - Regressão Logística: 0.5853658536585366%\n",
            "F1 Score - Regressão Logística: 0.7024390243902439%\n",
            "Accuracy Score - Regressão Logística: 0.9991432824920649%\n"
          ],
          "name": "stdout"
        }
      ]
    },
    {
      "cell_type": "markdown",
      "metadata": {
        "id": "58D34ggLW4j9",
        "colab_type": "text"
      },
      "source": [
        "## **Modelo Árvore de Decisão**\n",
        "\n",
        "É um algoritmo de Machine Learning supervisionado e pode ser usado para regressão e para **classificação**."
      ]
    },
    {
      "cell_type": "markdown",
      "metadata": {
        "id": "jZOtuM4twinJ",
        "colab_type": "text"
      },
      "source": [
        "#### **Decision Tree Regressor**"
      ]
    },
    {
      "cell_type": "code",
      "metadata": {
        "id": "q7BlNFqEW4j-",
        "colab_type": "code",
        "colab": {}
      },
      "source": [
        "dt = DecisionTreeRegressor().fit(X_train, y_train)\n",
        "\n",
        "dt_pred = dt.predict(X_test)"
      ],
      "execution_count": 21,
      "outputs": []
    },
    {
      "cell_type": "code",
      "metadata": {
        "id": "awMDjSbVW4kB",
        "colab_type": "code",
        "colab": {
          "base_uri": "https://localhost:8080/",
          "height": 255
        },
        "outputId": "045dd46b-9cd5-418c-a973-00fa868e8ba2"
      },
      "source": [
        "print('Relatório de Classificação')\n",
        "print(f'Classification Report:\\n {classification_report(y_test, dt_pred)}')\n",
        "print(f'Recall Score - Decision Tree Regressor: {recall_score(y_test, dt_pred)}%')\n",
        "print(f'F1 Score - Decision Tree Regressor: {f1_score(y_test, dt_pred)}%')\n",
        "print(f'Accuracy Score - Decision Tree Regressor: {accuracy_score(y_test, dt_pred)}%')"
      ],
      "execution_count": 47,
      "outputs": [
        {
          "output_type": "stream",
          "text": [
            "Relatório de Classificação\n",
            "Classification Report:\n",
            "               precision    recall  f1-score   support\n",
            "\n",
            "           0       1.00      1.00      1.00     71079\n",
            "           1       0.76      0.73      0.75       123\n",
            "\n",
            "    accuracy                           1.00     71202\n",
            "   macro avg       0.88      0.87      0.87     71202\n",
            "weighted avg       1.00      1.00      1.00     71202\n",
            "\n",
            "Recall Score - Decision Tree Regressor: 0.7317073170731707%\n",
            "F1 Score - Decision Tree Regressor: 0.7468879668049793%\n",
            "Accuracy Score - Decision Tree Regressor: 0.9991432824920649%\n"
          ],
          "name": "stdout"
        }
      ]
    },
    {
      "cell_type": "markdown",
      "metadata": {
        "id": "03OB4pkEW4kF",
        "colab_type": "text"
      },
      "source": [
        "#### **Decision Tree Classifier**"
      ]
    },
    {
      "cell_type": "code",
      "metadata": {
        "id": "o0jhxxcPW4kG",
        "colab_type": "code",
        "colab": {}
      },
      "source": [
        "dtc = DecisionTreeClassifier().fit(X_train, y_train)\n",
        "\n",
        "dtc_pred = dtc.predict(X_test)"
      ],
      "execution_count": 23,
      "outputs": []
    },
    {
      "cell_type": "code",
      "metadata": {
        "id": "G_lEBmJ3W4kJ",
        "colab_type": "code",
        "colab": {
          "base_uri": "https://localhost:8080/",
          "height": 255
        },
        "outputId": "d1ac1087-b134-4038-e4f5-4f2ce15ea9bd"
      },
      "source": [
        "print('Relatório de Classificação')\n",
        "print(f'Classification Report:\\n {classification_report(y_test, dtc_pred)}')\n",
        "print(f'Recall Score - Decision Tree Classifier: {recall_score(y_test, dtc_pred)}%')\n",
        "print(f'F1 Score - Decision Tree Classifier: {f1_score(y_test, dtc_pred)}%')\n",
        "print(f'Accuracy Score - Decision Tree Classifier: {accuracy_score(y_test, dtc_pred)}%')"
      ],
      "execution_count": 49,
      "outputs": [
        {
          "output_type": "stream",
          "text": [
            "Relatório de Classificação\n",
            "Classification Report:\n",
            "               precision    recall  f1-score   support\n",
            "\n",
            "           0       1.00      1.00      1.00     71079\n",
            "           1       0.77      0.75      0.76       123\n",
            "\n",
            "    accuracy                           1.00     71202\n",
            "   macro avg       0.88      0.87      0.88     71202\n",
            "weighted avg       1.00      1.00      1.00     71202\n",
            "\n",
            "Recall Score - Decision Tree Classifier: 0.7479674796747967%\n",
            "F1 Score - Decision Tree Classifier: 0.757201646090535%\n",
            "Accuracy Score - Decision Tree Classifier: 0.9991713715906857%\n"
          ],
          "name": "stdout"
        }
      ]
    },
    {
      "cell_type": "markdown",
      "metadata": {
        "id": "SWpZH7VQz05x",
        "colab_type": "text"
      },
      "source": [
        "Com os modelos treinados e as previsões feitas, fizemos a avaliação do desempenho acima.\n",
        "\n",
        "Neste tipo de problema ainda mais quando está desbalanceado, a acurácia não é uma métrica adequada. Observa-se a **matriz de confusão** para ver a taxa de acertos para transações fraudulentas, ou pela coluna recall do Relatório de Classificação."
      ]
    },
    {
      "cell_type": "markdown",
      "metadata": {
        "id": "xdsUMPhMW4kM",
        "colab_type": "text"
      },
      "source": [
        "## **Matriz de Confusão**"
      ]
    },
    {
      "cell_type": "markdown",
      "metadata": {
        "id": "Ck9VXOa8-RKd",
        "colab_type": "text"
      },
      "source": [
        "**Matriz de confusão do modelo Regressão Logística**"
      ]
    },
    {
      "cell_type": "code",
      "metadata": {
        "id": "a0u6lyRPynw4",
        "colab_type": "code",
        "colab": {
          "base_uri": "https://localhost:8080/",
          "height": 432
        },
        "outputId": "15a40782-d380-49d9-a176-e8856c19e985"
      },
      "source": [
        "plot_confusion_matrix(confusion_matrix(y_test, rl_pred));\n",
        "print(classification_report(y_test, rl_pred))"
      ],
      "execution_count": 25,
      "outputs": [
        {
          "output_type": "stream",
          "text": [
            "              precision    recall  f1-score   support\n",
            "\n",
            "           0       1.00      1.00      1.00     71079\n",
            "           1       0.88      0.59      0.70       123\n",
            "\n",
            "    accuracy                           1.00     71202\n",
            "   macro avg       0.94      0.79      0.85     71202\n",
            "weighted avg       1.00      1.00      1.00     71202\n",
            "\n"
          ],
          "name": "stdout"
        },
        {
          "output_type": "display_data",
          "data": {
            "image/png": "[encoded data removed]",
            "text/plain": [
              "<Figure size 432x288 with 1 Axes>"
            ]
          },
          "metadata": {
            "tags": []
          }
        }
      ]
    },
    {
      "cell_type": "code",
      "metadata": {
        "id": "ygWLGOcUW4kS",
        "colab_type": "code",
        "colab": {
          "base_uri": "https://localhost:8080/",
          "height": 102
        },
        "outputId": "537e8ccf-4c93-4f8d-b8bf-9dead4eba670"
      },
      "source": [
        "print(pd.crosstab(y_test, rl_pred, rownames=['Real'], colnames=['Predito'], margins=True))"
      ],
      "execution_count": 28,
      "outputs": [
        {
          "output_type": "stream",
          "text": [
            "Predito      0   1    All\n",
            "Real                     \n",
            "0        71069  10  71079\n",
            "1           51  72    123\n",
            "All      71120  82  71202\n"
          ],
          "name": "stdout"
        }
      ]
    },
    {
      "cell_type": "markdown",
      "metadata": {
        "id": "8xENuWLM-csD",
        "colab_type": "text"
      },
      "source": [
        "**Matriz de Confusão do Modelo Decision Tree Regressor**"
      ]
    },
    {
      "cell_type": "code",
      "metadata": {
        "id": "VT8QOf-ZW4kP",
        "colab_type": "code",
        "colab": {
          "base_uri": "https://localhost:8080/",
          "height": 432
        },
        "outputId": "bdd7d9d9-6dc5-43d6-a5b9-09eac4a6a3b1"
      },
      "source": [
        "plot_confusion_matrix(confusion_matrix(y_test, dt_pred));\n",
        "print(classification_report(y_test, dt_pred))"
      ],
      "execution_count": 26,
      "outputs": [
        {
          "output_type": "stream",
          "text": [
            "              precision    recall  f1-score   support\n",
            "\n",
            "           0       1.00      1.00      1.00     71079\n",
            "           1       0.76      0.73      0.75       123\n",
            "\n",
            "    accuracy                           1.00     71202\n",
            "   macro avg       0.88      0.87      0.87     71202\n",
            "weighted avg       1.00      1.00      1.00     71202\n",
            "\n"
          ],
          "name": "stdout"
        },
        {
          "output_type": "display_data",
          "data": {
            "image/png": "[encoded data removed]",
            "text/plain": [
              "<Figure size 432x288 with 1 Axes>"
            ]
          },
          "metadata": {
            "tags": []
          }
        }
      ]
    },
    {
      "cell_type": "code",
      "metadata": {
        "id": "-pLF29b0W4kW",
        "colab_type": "code",
        "colab": {
          "base_uri": "https://localhost:8080/",
          "height": 102
        },
        "outputId": "2b143466-84e7-474e-c542-920e58611e7c"
      },
      "source": [
        "print(pd.crosstab(y_test, dt_pred, rownames=['Real'], colnames=['Predito'], margins=True))"
      ],
      "execution_count": 29,
      "outputs": [
        {
          "output_type": "stream",
          "text": [
            "Predito    0.0  1.0    All\n",
            "Real                      \n",
            "0        71051   28  71079\n",
            "1           33   90    123\n",
            "All      71084  118  71202\n"
          ],
          "name": "stdout"
        }
      ]
    },
    {
      "cell_type": "markdown",
      "metadata": {
        "id": "KTSyLha6-ouR",
        "colab_type": "text"
      },
      "source": [
        "**Matriz de Confusão do modelo Decision Tree Classifier**"
      ]
    },
    {
      "cell_type": "code",
      "metadata": {
        "id": "eijMHPQMzZ_6",
        "colab_type": "code",
        "colab": {
          "base_uri": "https://localhost:8080/",
          "height": 432
        },
        "outputId": "feeef170-dfa7-4a1c-8735-5d9dc6485647"
      },
      "source": [
        "plot_confusion_matrix(confusion_matrix(y_test, dtc_pred));\n",
        "print(classification_report(y_test, dtc_pred))"
      ],
      "execution_count": 27,
      "outputs": [
        {
          "output_type": "stream",
          "text": [
            "              precision    recall  f1-score   support\n",
            "\n",
            "           0       1.00      1.00      1.00     71079\n",
            "           1       0.77      0.75      0.76       123\n",
            "\n",
            "    accuracy                           1.00     71202\n",
            "   macro avg       0.88      0.87      0.88     71202\n",
            "weighted avg       1.00      1.00      1.00     71202\n",
            "\n"
          ],
          "name": "stdout"
        },
        {
          "output_type": "display_data",
          "data": {
            "image/png": "[encoded data removed]",
            "text/plain": [
              "<Figure size 432x288 with 1 Axes>"
            ]
          },
          "metadata": {
            "tags": []
          }
        }
      ]
    },
    {
      "cell_type": "code",
      "metadata": {
        "id": "X9xykudtW4kY",
        "colab_type": "code",
        "colab": {
          "base_uri": "https://localhost:8080/",
          "height": 102
        },
        "outputId": "1399ce0c-bf05-4e25-87f2-787cec0104fc"
      },
      "source": [
        "print(pd.crosstab(y_test, dtc_pred, rownames=['Real'], colnames=['Predito'], margins=True))"
      ],
      "execution_count": 30,
      "outputs": [
        {
          "output_type": "stream",
          "text": [
            "Predito      0    1    All\n",
            "Real                      \n",
            "0        71051   28  71079\n",
            "1           31   92    123\n",
            "All      71082  120  71202\n"
          ],
          "name": "stdout"
        }
      ]
    },
    {
      "cell_type": "markdown",
      "metadata": {
        "id": "-hDL0ZM4-_tV",
        "colab_type": "text"
      },
      "source": [
        "**Analisando individualmente os Scores**"
      ]
    },
    {
      "cell_type": "code",
      "metadata": {
        "id": "pRYCCFXY1nd0",
        "colab_type": "code",
        "colab": {
          "base_uri": "https://localhost:8080/",
          "height": 85
        },
        "outputId": "1d159d00-88dc-459a-8d7b-e030daeeff42"
      },
      "source": [
        "print('Recall Score')\n",
        "print(f'Recall Score do Modelo de Regressão Logística: {round(recall_score(y_test, rl_pred), 5)}%')\n",
        "print(f'Recall Score Modelo Decision Tree Regressor: {round(recall_score(y_test, dt_pred), 5)}%')\n",
        "print(f'Recall Score Modelo Decision Tree Classifier: {round(recall_score(y_test, dtc_pred), 5)}%')"
      ],
      "execution_count": 51,
      "outputs": [
        {
          "output_type": "stream",
          "text": [
            "Recall Score\n",
            "Recall Score do Modelo de Regressão Logística: 0.58537%\n",
            "Recall Score Modelo Decision Tree Regressor: 0.73171%\n",
            "Recall Score Modelo Decision Tree Classifier: 0.74797%\n"
          ],
          "name": "stdout"
        }
      ]
    },
    {
      "cell_type": "code",
      "metadata": {
        "id": "b5NVFZLZ49cy",
        "colab_type": "code",
        "colab": {
          "base_uri": "https://localhost:8080/",
          "height": 85
        },
        "outputId": "430acc92-d3ac-4abc-dad3-d34cfaf18566"
      },
      "source": [
        "print('Acurácia Score')\n",
        "print(f'Acurácia do Modelo de Regressão Logística: {round(accuracy_score(y_test, rl_pred), 5)}%')\n",
        "print(f'Acurácia do Modelo Decision Tree Regressor: {round(accuracy_score(y_test, dt_pred), 5)}%')\n",
        "print(f'Acurácia do Modelo Decision Tree Classifier: {round(accuracy_score(y_test, dtc_pred), 5)}%')"
      ],
      "execution_count": 50,
      "outputs": [
        {
          "output_type": "stream",
          "text": [
            "Acurácia Score\n",
            "Acurácia do Modelo de Regressão Logística: 0.99914%\n",
            "Acurácia do Modelo Decision Tree Regressor: 0.99914%\n",
            "Acurácia do Modelo Decision Tree Classifier: 0.99917%\n"
          ],
          "name": "stdout"
        }
      ]
    },
    {
      "cell_type": "markdown",
      "metadata": {
        "id": "zrWEkRI4_Ote",
        "colab_type": "text"
      },
      "source": [
        "# **Conclusões**\n",
        "\n",
        "> Como podemos observar, esse não é um problema tão simples. Os dados estão bem tratados, sem valores ausentes ou variáveis categóricas, mas o desbalanceamento e a transformação PCA demandam um trabalho considerável. \n",
        "\n",
        "> Apesar dos bons resultados finais, vale ainda testar outros algoritmos de *Classificação* e fazer um `tunning` de parâmetros."
      ]
    }
  ]
}