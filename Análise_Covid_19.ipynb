{
  "nbformat": 4,
  "nbformat_minor": 0,
  "metadata": {
    "kernelspec": {
      "display_name": "Python 3",
      "language": "python",
      "name": "python3"
    },
    "language_info": {
      "codemirror_mode": {
        "name": "ipython",
        "version": 3
      },
      "file_extension": ".py",
      "mimetype": "text/x-python",
      "name": "python",
      "nbconvert_exporter": "python",
      "pygments_lexer": "ipython3",
      "version": "3.7.4"
    },
    "colab": {
      "name": "Análise Covid-19.ipynb",
      "provenance": [],
      "include_colab_link": true
    }
  },
  "cells": [
    {
      "cell_type": "markdown",
      "metadata": {
        "id": "view-in-github",
        "colab_type": "text"
      },
      "source": [
        "<a href=\"https://colab.research.google.com/github/PedroMurta/Projetos-Data-Science/blob/master/An%C3%A1lise_Covid_19.ipynb\" target=\"_parent\"><img src=\"https://colab.research.google.com/assets/colab-badge.svg\" alt=\"Open In Colab\"/></a>"
      ]
    },
    {
      "cell_type": "markdown",
      "metadata": {
        "id": "26ViAg3IhYcr",
        "colab_type": "text"
      },
      "source": [
        "# Panorama Corona Vírus(COVID-19)\n",
        "\n",
        "A COVID-19 é uma doença infecciosa causada por um coronavírus recém-descoberto. Coronavírus é uma família de vírus que causam infecções respiratórias. O novo agente do coronavírus (nCoV-2019) foi descoberto em 31/12/19 após casos registrados na China.\n",
        "\n",
        "A maioria das pessoas que adoece em decorrência da COVID-19 apresentará sintomas leves a moderados e não precisará de tratameto especial para se recuperar, mas a gravidade dos sintomas varia de pessoa para pessoa por diversos fatores, como idade, problemas respiratórios e diversos outros.\n",
        "\n",
        "O vírus que causa a COVID-19 é transmitido principalmente por meio da tosse e espirro. Você pode ser infectado ao inalar o vírus se estiver próximo de alguém que tenha COVID-19 ou ao tocar em uma superfície contaminada e, em seguida, passar as mãos nos olhos, no nariz ou na boca.\n",
        "\n",
        "<img src=\"https://pfarma.com.br/images/noticias/coronavirus-covid-19.jpg\" />\n",
        "\n",
        "\n",
        "Pouco se sabe a respeito do COVID-19, diversos estudos estão sendo realizados no mundo inteiro e ainda não temos resultados conclusivos e definitivos.\n",
        "* Até o momento, 80% dos casos confirmados são assintomáticos e rápidos, grande parte dos casos desse grupo se recupera sem nenhuma sequela.\n",
        "* No entanto, 15% das pessoas terão infecções graves e precisarão de oxigênio. Os outros 5% são classificados como infecções muito graves e precisarão de ventilação assistida por meio de respiradores\n",
        "mecânicos em hospitais."
      ]
    },
    {
      "cell_type": "markdown",
      "metadata": {
        "id": "lVmCh11VhYcu",
        "colab_type": "text"
      },
      "source": [
        "## Obtenção dos dados"
      ]
    },
    {
      "cell_type": "markdown",
      "metadata": {
        "id": "UaKx4t_ThYcu",
        "colab_type": "text"
      },
      "source": [
        " > A base de dados usada nesse projeto foi retirada do site: [Our World in Data](https://ourworldindata.org/coronavirus). Essa base é atualizada diariamente e inclui casos confirmados, mortes, testes e outras variáveis de potencial interesse. Usaremos o arquivo no formato csv.\n",
        " \n",
        " saiba mais: [Data on COVID-19 by Our World in Data](https://github.com/owid/covid-19-data/tree/master/public/data)"
      ]
    },
    {
      "cell_type": "markdown",
      "metadata": {
        "id": "v0lAcwhChYcv",
        "colab_type": "text"
      },
      "source": [
        "## Dicionário de Variáveis"
      ]
    },
    {
      "cell_type": "markdown",
      "metadata": {
        "id": "VKxgbXEihYcw",
        "colab_type": "text"
      },
      "source": [
        "|       Coluna        |     Descrição       |\n",
        "| ------------------- | ------------------- |\n",
        "|  iso_code           |  Códio de 3 letras do país |\n",
        "|  continent |  Continente geográfico |\n",
        "| location | Local geográfico |\n",
        "| date | Data de observação |\n",
        "| total_cases | Total de casos confirmados de COVID-19 |\n",
        "| new_cases |   Novos casos confirmados de COVID-19 |\n",
        "| total_deaths |   Quantidade mortes Confirmadas por COVID-19  |\n",
        "|  total_cases_per_million |   Novas mortes confirmadas por COVID-19  |\n",
        "| new_cases_per_million |   Novos casos confirmados por 1 milhão de pessoas |   \n",
        "| total_deaths_per_million |   Novas mortes confirmadas por 1 milhão de pessoas |\n",
        "| new_deaths_per_million |   Novas mortes confirmadas por 1 milhão de pessoas  |\n",
        "| total_tests |   Quantidade total de testes para COVID-19  |\n",
        "| new_tests| Novos testes para COVID-19 |\n",
        "| new_tests_smoothed |   Novos testes para COVID-19 suavizado por 7 dias  |\n",
        "| total_test_per_thousand |   Quantidade de testes por mil pessoas  |\n",
        "| new_tests_per_thousand |   Novos testes por mil pessoas   |\n",
        "| new_tests_smoothed_per_thousand |   Novos testes para COVID-19 suavizado por 7 dias por mil pessoas |\n",
        "| tests_units |  Unidades usadas pelo local para relatar seus dados de teste  |\n",
        "| stringency_index | Índice de Estresse da Resposta do Governo |\n",
        "| population |   População em 2020  |\n",
        "| population_density |   Densidade populacional. Número de pessoas por Km²  |\n",
        "| median_age |   Média da idade da população  |\n",
        "| aged_65_older |   Quantidade da população que tem idade maior que  65 anos  |\n",
        "| aged_70_older |   Quantidade da população que tem idade maior que  70 anos  |\n",
        "| gdp_per_capta |   PIB |\n",
        "| extreme_poverty |   Quantidade de pessoas que vivem em extrema pobreza |\n",
        "| cvd_death_rate |   Morte por doenças cardiovasculares   |\n",
        "| diabetes_prevalence |   Prevalência de diabetes |\n",
        "| female_smokers |  Mulheres que fumam   |\n",
        "| male_smokers |   Homens que fumam  |\n",
        "| handwashing_facilities |   População com instalações básicas de lavagem das mãos  |\n",
        "| hospital_beds_per_thousand |   Leitos de hospitais por mil pessoas  |\n",
        "| life_expetancy |   Expectativa de vida  |"
      ]
    },
    {
      "cell_type": "code",
      "metadata": {
        "id": "qPgd-06GhYcx",
        "colab_type": "code",
        "colab": {}
      },
      "source": [
        "# Importando as bibliotecas necessárias.\n",
        "import pandas as pd\n",
        "import numpy as np\n",
        "import matplotlib.pyplot as plt\n",
        "import seaborn as sns"
      ],
      "execution_count": null,
      "outputs": []
    },
    {
      "cell_type": "code",
      "metadata": {
        "id": "SLDK7BYkhYc1",
        "colab_type": "code",
        "colab": {}
      },
      "source": [
        "# importar o dataset para um DataFrame\n",
        "df = pd.read_csv(\"https://raw.githubusercontent.com/carlosfab/dsnp2/master/datasets/owid-covid-data.csv\")"
      ],
      "execution_count": null,
      "outputs": []
    },
    {
      "cell_type": "markdown",
      "metadata": {
        "id": "AYJsaG4VhYc5",
        "colab_type": "text"
      },
      "source": [
        "# Análise Exploratória dos Dados\n",
        "\n",
        "> A primeira coisa que faremos após importar o dataset será examinar as dimensões do *DataFrame* e as primeiras entradas. Isso nos dá uma visão da situação inicial a respeito das entradas e da estrutura geral dos nossos dados.  É importante verificar o nome, tipo, porcentagem de valores faltantes, presença de outliers, etc."
      ]
    },
    {
      "cell_type": "code",
      "metadata": {
        "id": "QcngDGG-hYc6",
        "colab_type": "code",
        "colab": {},
        "outputId": "79d480a1-a8f5-4e2e-ba94-1a800455186d"
      },
      "source": [
        "# Extrair as primeiras 5 linhas\n",
        "df.head()"
      ],
      "execution_count": null,
      "outputs": [
        {
          "output_type": "execute_result",
          "data": {
            "text/html": [
              "<div>\n",
              "<style scoped>\n",
              "    .dataframe tbody tr th:only-of-type {\n",
              "        vertical-align: middle;\n",
              "    }\n",
              "\n",
              "    .dataframe tbody tr th {\n",
              "        vertical-align: top;\n",
              "    }\n",
              "\n",
              "    .dataframe thead th {\n",
              "        text-align: right;\n",
              "    }\n",
              "</style>\n",
              "<table border=\"1\" class=\"dataframe\">\n",
              "  <thead>\n",
              "    <tr style=\"text-align: right;\">\n",
              "      <th></th>\n",
              "      <th>iso_code</th>\n",
              "      <th>continent</th>\n",
              "      <th>location</th>\n",
              "      <th>date</th>\n",
              "      <th>total_cases</th>\n",
              "      <th>new_cases</th>\n",
              "      <th>total_deaths</th>\n",
              "      <th>new_deaths</th>\n",
              "      <th>total_cases_per_million</th>\n",
              "      <th>new_cases_per_million</th>\n",
              "      <th>...</th>\n",
              "      <th>aged_65_older</th>\n",
              "      <th>aged_70_older</th>\n",
              "      <th>gdp_per_capita</th>\n",
              "      <th>extreme_poverty</th>\n",
              "      <th>cvd_death_rate</th>\n",
              "      <th>diabetes_prevalence</th>\n",
              "      <th>female_smokers</th>\n",
              "      <th>male_smokers</th>\n",
              "      <th>handwashing_facilities</th>\n",
              "      <th>hospital_beds_per_thousand</th>\n",
              "    </tr>\n",
              "  </thead>\n",
              "  <tbody>\n",
              "    <tr>\n",
              "      <td>0</td>\n",
              "      <td>AFG</td>\n",
              "      <td>Asia</td>\n",
              "      <td>Afghanistan</td>\n",
              "      <td>2019-12-31</td>\n",
              "      <td>0.0</td>\n",
              "      <td>0.0</td>\n",
              "      <td>0.0</td>\n",
              "      <td>0.0</td>\n",
              "      <td>0.0</td>\n",
              "      <td>0.0</td>\n",
              "      <td>...</td>\n",
              "      <td>2.581</td>\n",
              "      <td>1.337</td>\n",
              "      <td>1803.987</td>\n",
              "      <td>NaN</td>\n",
              "      <td>597.029</td>\n",
              "      <td>9.59</td>\n",
              "      <td>NaN</td>\n",
              "      <td>NaN</td>\n",
              "      <td>37.746</td>\n",
              "      <td>0.5</td>\n",
              "    </tr>\n",
              "    <tr>\n",
              "      <td>1</td>\n",
              "      <td>AFG</td>\n",
              "      <td>Asia</td>\n",
              "      <td>Afghanistan</td>\n",
              "      <td>2020-01-01</td>\n",
              "      <td>0.0</td>\n",
              "      <td>0.0</td>\n",
              "      <td>0.0</td>\n",
              "      <td>0.0</td>\n",
              "      <td>0.0</td>\n",
              "      <td>0.0</td>\n",
              "      <td>...</td>\n",
              "      <td>2.581</td>\n",
              "      <td>1.337</td>\n",
              "      <td>1803.987</td>\n",
              "      <td>NaN</td>\n",
              "      <td>597.029</td>\n",
              "      <td>9.59</td>\n",
              "      <td>NaN</td>\n",
              "      <td>NaN</td>\n",
              "      <td>37.746</td>\n",
              "      <td>0.5</td>\n",
              "    </tr>\n",
              "    <tr>\n",
              "      <td>2</td>\n",
              "      <td>AFG</td>\n",
              "      <td>Asia</td>\n",
              "      <td>Afghanistan</td>\n",
              "      <td>2020-01-02</td>\n",
              "      <td>0.0</td>\n",
              "      <td>0.0</td>\n",
              "      <td>0.0</td>\n",
              "      <td>0.0</td>\n",
              "      <td>0.0</td>\n",
              "      <td>0.0</td>\n",
              "      <td>...</td>\n",
              "      <td>2.581</td>\n",
              "      <td>1.337</td>\n",
              "      <td>1803.987</td>\n",
              "      <td>NaN</td>\n",
              "      <td>597.029</td>\n",
              "      <td>9.59</td>\n",
              "      <td>NaN</td>\n",
              "      <td>NaN</td>\n",
              "      <td>37.746</td>\n",
              "      <td>0.5</td>\n",
              "    </tr>\n",
              "    <tr>\n",
              "      <td>3</td>\n",
              "      <td>AFG</td>\n",
              "      <td>Asia</td>\n",
              "      <td>Afghanistan</td>\n",
              "      <td>2020-01-03</td>\n",
              "      <td>0.0</td>\n",
              "      <td>0.0</td>\n",
              "      <td>0.0</td>\n",
              "      <td>0.0</td>\n",
              "      <td>0.0</td>\n",
              "      <td>0.0</td>\n",
              "      <td>...</td>\n",
              "      <td>2.581</td>\n",
              "      <td>1.337</td>\n",
              "      <td>1803.987</td>\n",
              "      <td>NaN</td>\n",
              "      <td>597.029</td>\n",
              "      <td>9.59</td>\n",
              "      <td>NaN</td>\n",
              "      <td>NaN</td>\n",
              "      <td>37.746</td>\n",
              "      <td>0.5</td>\n",
              "    </tr>\n",
              "    <tr>\n",
              "      <td>4</td>\n",
              "      <td>AFG</td>\n",
              "      <td>Asia</td>\n",
              "      <td>Afghanistan</td>\n",
              "      <td>2020-01-04</td>\n",
              "      <td>0.0</td>\n",
              "      <td>0.0</td>\n",
              "      <td>0.0</td>\n",
              "      <td>0.0</td>\n",
              "      <td>0.0</td>\n",
              "      <td>0.0</td>\n",
              "      <td>...</td>\n",
              "      <td>2.581</td>\n",
              "      <td>1.337</td>\n",
              "      <td>1803.987</td>\n",
              "      <td>NaN</td>\n",
              "      <td>597.029</td>\n",
              "      <td>9.59</td>\n",
              "      <td>NaN</td>\n",
              "      <td>NaN</td>\n",
              "      <td>37.746</td>\n",
              "      <td>0.5</td>\n",
              "    </tr>\n",
              "  </tbody>\n",
              "</table>\n",
              "<p>5 rows × 33 columns</p>\n",
              "</div>"
            ],
            "text/plain": [
              "  iso_code continent     location        date  total_cases  new_cases  \\\n",
              "0      AFG      Asia  Afghanistan  2019-12-31          0.0        0.0   \n",
              "1      AFG      Asia  Afghanistan  2020-01-01          0.0        0.0   \n",
              "2      AFG      Asia  Afghanistan  2020-01-02          0.0        0.0   \n",
              "3      AFG      Asia  Afghanistan  2020-01-03          0.0        0.0   \n",
              "4      AFG      Asia  Afghanistan  2020-01-04          0.0        0.0   \n",
              "\n",
              "   total_deaths  new_deaths  total_cases_per_million  new_cases_per_million  \\\n",
              "0           0.0         0.0                      0.0                    0.0   \n",
              "1           0.0         0.0                      0.0                    0.0   \n",
              "2           0.0         0.0                      0.0                    0.0   \n",
              "3           0.0         0.0                      0.0                    0.0   \n",
              "4           0.0         0.0                      0.0                    0.0   \n",
              "\n",
              "   ...  aged_65_older  aged_70_older  gdp_per_capita  extreme_poverty  \\\n",
              "0  ...          2.581          1.337        1803.987              NaN   \n",
              "1  ...          2.581          1.337        1803.987              NaN   \n",
              "2  ...          2.581          1.337        1803.987              NaN   \n",
              "3  ...          2.581          1.337        1803.987              NaN   \n",
              "4  ...          2.581          1.337        1803.987              NaN   \n",
              "\n",
              "   cvd_death_rate  diabetes_prevalence  female_smokers  male_smokers  \\\n",
              "0         597.029                 9.59             NaN           NaN   \n",
              "1         597.029                 9.59             NaN           NaN   \n",
              "2         597.029                 9.59             NaN           NaN   \n",
              "3         597.029                 9.59             NaN           NaN   \n",
              "4         597.029                 9.59             NaN           NaN   \n",
              "\n",
              "  handwashing_facilities  hospital_beds_per_thousand  \n",
              "0                 37.746                         0.5  \n",
              "1                 37.746                         0.5  \n",
              "2                 37.746                         0.5  \n",
              "3                 37.746                         0.5  \n",
              "4                 37.746                         0.5  \n",
              "\n",
              "[5 rows x 33 columns]"
            ]
          },
          "metadata": {
            "tags": []
          },
          "execution_count": 5
        }
      ]
    },
    {
      "cell_type": "code",
      "metadata": {
        "id": "Lwemw0NuhYc_",
        "colab_type": "code",
        "colab": {},
        "outputId": "19df66e6-f4f1-4441-ac67-585ddd55d087"
      },
      "source": [
        "# Verificar o nome das colunas\n",
        "df.columns"
      ],
      "execution_count": null,
      "outputs": [
        {
          "output_type": "execute_result",
          "data": {
            "text/plain": [
              "Index(['iso_code', 'continent', 'location', 'date', 'total_cases', 'new_cases',\n",
              "       'total_deaths', 'new_deaths', 'total_cases_per_million',\n",
              "       'new_cases_per_million', 'total_deaths_per_million',\n",
              "       'new_deaths_per_million', 'total_tests', 'new_tests',\n",
              "       'total_tests_per_thousand', 'new_tests_per_thousand',\n",
              "       'new_tests_smoothed', 'new_tests_smoothed_per_thousand', 'tests_units',\n",
              "       'stringency_index', 'population', 'population_density', 'median_age',\n",
              "       'aged_65_older', 'aged_70_older', 'gdp_per_capita', 'extreme_poverty',\n",
              "       'cvd_death_rate', 'diabetes_prevalence', 'female_smokers',\n",
              "       'male_smokers', 'handwashing_facilities', 'hospital_beds_per_thousand'],\n",
              "      dtype='object')"
            ]
          },
          "metadata": {
            "tags": []
          },
          "execution_count": 6
        }
      ]
    },
    {
      "cell_type": "code",
      "metadata": {
        "id": "vDFa1Ho7hYdE",
        "colab_type": "code",
        "colab": {},
        "outputId": "5efedacc-2194-457a-cfed-0da69dbcf74f"
      },
      "source": [
        "# Verificar o tamanho do DataFrame\n",
        "df.shape"
      ],
      "execution_count": null,
      "outputs": [
        {
          "output_type": "execute_result",
          "data": {
            "text/plain": [
              "(24023, 33)"
            ]
          },
          "metadata": {
            "tags": []
          },
          "execution_count": 8
        }
      ]
    },
    {
      "cell_type": "code",
      "metadata": {
        "id": "ESWCUY4AhYdI",
        "colab_type": "code",
        "colab": {},
        "outputId": "b42aa89a-1eeb-4395-cfdb-a0139e531c0e"
      },
      "source": [
        "print(f'Dimensões do DataFrame: ')\n",
        "print(f'Linhas = {df.shape[0]}')\n",
        "print(f'Colunas = {df.shape[1]}')"
      ],
      "execution_count": null,
      "outputs": [
        {
          "output_type": "stream",
          "text": [
            "Dimensões do DataFrame: \n",
            "Linhas = 24023\n",
            "Colunas = 33\n"
          ],
          "name": "stdout"
        }
      ]
    },
    {
      "cell_type": "code",
      "metadata": {
        "id": "8blgq2BihYdM",
        "colab_type": "code",
        "colab": {},
        "outputId": "d9179df5-e5ef-4a86-da95-64d8f8d993f7"
      },
      "source": [
        "# Verificar o tipo das variáveis\n",
        "df.dtypes"
      ],
      "execution_count": null,
      "outputs": [
        {
          "output_type": "execute_result",
          "data": {
            "text/plain": [
              "iso_code                            object\n",
              "continent                           object\n",
              "location                            object\n",
              "date                                object\n",
              "total_cases                        float64\n",
              "new_cases                          float64\n",
              "total_deaths                       float64\n",
              "new_deaths                         float64\n",
              "total_cases_per_million            float64\n",
              "new_cases_per_million              float64\n",
              "total_deaths_per_million           float64\n",
              "new_deaths_per_million             float64\n",
              "total_tests                        float64\n",
              "new_tests                          float64\n",
              "total_tests_per_thousand           float64\n",
              "new_tests_per_thousand             float64\n",
              "new_tests_smoothed                 float64\n",
              "new_tests_smoothed_per_thousand    float64\n",
              "tests_units                         object\n",
              "stringency_index                   float64\n",
              "population                         float64\n",
              "population_density                 float64\n",
              "median_age                         float64\n",
              "aged_65_older                      float64\n",
              "aged_70_older                      float64\n",
              "gdp_per_capita                     float64\n",
              "extreme_poverty                    float64\n",
              "cvd_death_rate                     float64\n",
              "diabetes_prevalence                float64\n",
              "female_smokers                     float64\n",
              "male_smokers                       float64\n",
              "handwashing_facilities             float64\n",
              "hospital_beds_per_thousand         float64\n",
              "dtype: object"
            ]
          },
          "metadata": {
            "tags": []
          },
          "execution_count": 11
        }
      ]
    },
    {
      "cell_type": "markdown",
      "metadata": {
        "id": "vI56RbeahYdP",
        "colab_type": "text"
      },
      "source": [
        "> Podemos ver que a coluna date está no formato object, para trabalharmos com ela, precisaremos transformar ela em datetime."
      ]
    },
    {
      "cell_type": "code",
      "metadata": {
        "id": "M6lxK4MThYdQ",
        "colab_type": "code",
        "colab": {}
      },
      "source": [
        "df.date = pd.to_datetime(df.date)"
      ],
      "execution_count": null,
      "outputs": []
    },
    {
      "cell_type": "code",
      "metadata": {
        "scrolled": true,
        "id": "xp-HTBQOhYdT",
        "colab_type": "code",
        "colab": {},
        "outputId": "a6d153e3-7955-4ed6-881f-8ec298d5ce1c"
      },
      "source": [
        "df.dtypes"
      ],
      "execution_count": null,
      "outputs": [
        {
          "output_type": "execute_result",
          "data": {
            "text/plain": [
              "iso_code                                   object\n",
              "continent                                  object\n",
              "location                                   object\n",
              "date                               datetime64[ns]\n",
              "total_cases                               float64\n",
              "new_cases                                 float64\n",
              "total_deaths                              float64\n",
              "new_deaths                                float64\n",
              "total_cases_per_million                   float64\n",
              "new_cases_per_million                     float64\n",
              "total_deaths_per_million                  float64\n",
              "new_deaths_per_million                    float64\n",
              "total_tests                               float64\n",
              "new_tests                                 float64\n",
              "total_tests_per_thousand                  float64\n",
              "new_tests_per_thousand                    float64\n",
              "new_tests_smoothed                        float64\n",
              "new_tests_smoothed_per_thousand           float64\n",
              "tests_units                                object\n",
              "stringency_index                          float64\n",
              "population                                float64\n",
              "population_density                        float64\n",
              "median_age                                float64\n",
              "aged_65_older                             float64\n",
              "aged_70_older                             float64\n",
              "gdp_per_capita                            float64\n",
              "extreme_poverty                           float64\n",
              "cvd_death_rate                            float64\n",
              "diabetes_prevalence                       float64\n",
              "female_smokers                            float64\n",
              "male_smokers                              float64\n",
              "handwashing_facilities                    float64\n",
              "hospital_beds_per_thousand                float64\n",
              "dtype: object"
            ]
          },
          "metadata": {
            "tags": []
          },
          "execution_count": 18
        }
      ]
    },
    {
      "cell_type": "markdown",
      "metadata": {
        "id": "EByPChqYhYdW",
        "colab_type": "text"
      },
      "source": [
        "> A coluna date está no formato datetime agora, nosso próximo passo é ver a porcentagem de valores ausentes das colunas."
      ]
    },
    {
      "cell_type": "code",
      "metadata": {
        "id": "XUXjJ2pehYdX",
        "colab_type": "code",
        "colab": {},
        "outputId": "a414af48-eef3-4f2e-84d6-c2aacf571cf8"
      },
      "source": [
        "(df.isnull().sum() / df.shape[0] ).sort_values(ascending=False)"
      ],
      "execution_count": null,
      "outputs": [
        {
          "output_type": "execute_result",
          "data": {
            "text/plain": [
              "new_tests                          0.759397\n",
              "new_tests_per_thousand             0.759397\n",
              "total_tests                        0.731632\n",
              "total_tests_per_thousand           0.731632\n",
              "new_tests_smoothed                 0.709070\n",
              "new_tests_smoothed_per_thousand    0.709070\n",
              "tests_units                        0.683928\n",
              "handwashing_facilities             0.596262\n",
              "extreme_poverty                    0.401657\n",
              "male_smokers                       0.277775\n",
              "female_smokers                     0.269533\n",
              "stringency_index                   0.208425\n",
              "hospital_beds_per_thousand         0.168755\n",
              "aged_65_older                      0.107147\n",
              "gdp_per_capita                     0.104317\n",
              "aged_70_older                      0.099155\n",
              "median_age                         0.094534\n",
              "cvd_death_rate                     0.093619\n",
              "diabetes_prevalence                0.064438\n",
              "population_density                 0.042543\n",
              "new_cases_per_million              0.011739\n",
              "new_deaths_per_million             0.011739\n",
              "total_deaths_per_million           0.011739\n",
              "total_cases_per_million            0.011739\n",
              "continent                          0.009657\n",
              "new_deaths                         0.009075\n",
              "total_deaths                       0.009075\n",
              "new_cases                          0.009075\n",
              "total_cases                        0.009075\n",
              "population                         0.002664\n",
              "iso_code                           0.002664\n",
              "location                           0.000000\n",
              "date                               0.000000\n",
              "dtype: float64"
            ]
          },
          "metadata": {
            "tags": []
          },
          "execution_count": 29
        }
      ]
    },
    {
      "cell_type": "markdown",
      "metadata": {
        "id": "NAYBg69VhYdb",
        "colab_type": "text"
      },
      "source": [
        "> Há uma grande porcentagem de valores faltantes no nosso dataset, mas não trabalharemos com eles por enquanto. Estaremos usando colunas como *'total_deaths'*, *'total_cases'* e *'date'* que possuem quase todos os registros preenchidos.\n",
        "\n",
        "> Agora vamos analisar quais países tem mais casos e mortes para a data mais recente: "
      ]
    },
    {
      "cell_type": "code",
      "metadata": {
        "id": "r9v3L8Z4hYdc",
        "colab_type": "code",
        "colab": {},
        "outputId": "36784dd9-9494-4e2c-a05f-67040a249b9a"
      },
      "source": [
        "# Total de casos sem o valor 'world', que é a soma de todos. \n",
        "df.loc[df.date == '2020-06-14', ['location', 'total_cases', 'total_deaths']].sort_values(by='total_cases', ascending=False)[1:6]"
      ],
      "execution_count": null,
      "outputs": [
        {
          "output_type": "execute_result",
          "data": {
            "text/html": [
              "<div>\n",
              "<style scoped>\n",
              "    .dataframe tbody tr th:only-of-type {\n",
              "        vertical-align: middle;\n",
              "    }\n",
              "\n",
              "    .dataframe tbody tr th {\n",
              "        vertical-align: top;\n",
              "    }\n",
              "\n",
              "    .dataframe thead th {\n",
              "        text-align: right;\n",
              "    }\n",
              "</style>\n",
              "<table border=\"1\" class=\"dataframe\">\n",
              "  <thead>\n",
              "    <tr style=\"text-align: right;\">\n",
              "      <th></th>\n",
              "      <th>location</th>\n",
              "      <th>total_cases</th>\n",
              "      <th>total_deaths</th>\n",
              "    </tr>\n",
              "  </thead>\n",
              "  <tbody>\n",
              "    <tr>\n",
              "      <td>22873</td>\n",
              "      <td>United States</td>\n",
              "      <td>2074526.0</td>\n",
              "      <td>115436.0</td>\n",
              "    </tr>\n",
              "    <tr>\n",
              "      <td>3263</td>\n",
              "      <td>Brazil</td>\n",
              "      <td>850514.0</td>\n",
              "      <td>42720.0</td>\n",
              "    </tr>\n",
              "    <tr>\n",
              "      <td>18170</td>\n",
              "      <td>Russia</td>\n",
              "      <td>520129.0</td>\n",
              "      <td>6829.0</td>\n",
              "    </tr>\n",
              "    <tr>\n",
              "      <td>10140</td>\n",
              "      <td>India</td>\n",
              "      <td>320922.0</td>\n",
              "      <td>9195.0</td>\n",
              "    </tr>\n",
              "    <tr>\n",
              "      <td>22705</td>\n",
              "      <td>United Kingdom</td>\n",
              "      <td>294375.0</td>\n",
              "      <td>41662.0</td>\n",
              "    </tr>\n",
              "  </tbody>\n",
              "</table>\n",
              "</div>"
            ],
            "text/plain": [
              "             location  total_cases  total_deaths\n",
              "22873   United States    2074526.0      115436.0\n",
              "3263           Brazil     850514.0       42720.0\n",
              "18170          Russia     520129.0        6829.0\n",
              "10140           India     320922.0        9195.0\n",
              "22705  United Kingdom     294375.0       41662.0"
            ]
          },
          "metadata": {
            "tags": []
          },
          "execution_count": 35
        }
      ]
    },
    {
      "cell_type": "code",
      "metadata": {
        "id": "JoSewlnVhYdf",
        "colab_type": "code",
        "colab": {},
        "outputId": "4a9aa96a-0480-4d92-8a36-b73461836570"
      },
      "source": [
        "# Total de mortes sem o valor 'world', que é a soma de todos.\n",
        "df.loc[df.date == '2020-06-14', ['location', 'total_cases', 'total_deaths']].sort_values(by='total_deaths', ascending=False)[1:6]"
      ],
      "execution_count": null,
      "outputs": [
        {
          "output_type": "execute_result",
          "data": {
            "text/html": [
              "<div>\n",
              "<style scoped>\n",
              "    .dataframe tbody tr th:only-of-type {\n",
              "        vertical-align: middle;\n",
              "    }\n",
              "\n",
              "    .dataframe tbody tr th {\n",
              "        vertical-align: top;\n",
              "    }\n",
              "\n",
              "    .dataframe thead th {\n",
              "        text-align: right;\n",
              "    }\n",
              "</style>\n",
              "<table border=\"1\" class=\"dataframe\">\n",
              "  <thead>\n",
              "    <tr style=\"text-align: right;\">\n",
              "      <th></th>\n",
              "      <th>location</th>\n",
              "      <th>total_cases</th>\n",
              "      <th>total_deaths</th>\n",
              "    </tr>\n",
              "  </thead>\n",
              "  <tbody>\n",
              "    <tr>\n",
              "      <td>22873</td>\n",
              "      <td>United States</td>\n",
              "      <td>2074526.0</td>\n",
              "      <td>115436.0</td>\n",
              "    </tr>\n",
              "    <tr>\n",
              "      <td>3263</td>\n",
              "      <td>Brazil</td>\n",
              "      <td>850514.0</td>\n",
              "      <td>42720.0</td>\n",
              "    </tr>\n",
              "    <tr>\n",
              "      <td>22705</td>\n",
              "      <td>United Kingdom</td>\n",
              "      <td>294375.0</td>\n",
              "      <td>41662.0</td>\n",
              "    </tr>\n",
              "    <tr>\n",
              "      <td>11225</td>\n",
              "      <td>Italy</td>\n",
              "      <td>236651.0</td>\n",
              "      <td>34301.0</td>\n",
              "    </tr>\n",
              "    <tr>\n",
              "      <td>7839</td>\n",
              "      <td>France</td>\n",
              "      <td>156813.0</td>\n",
              "      <td>29398.0</td>\n",
              "    </tr>\n",
              "  </tbody>\n",
              "</table>\n",
              "</div>"
            ],
            "text/plain": [
              "             location  total_cases  total_deaths\n",
              "22873   United States    2074526.0      115436.0\n",
              "3263           Brazil     850514.0       42720.0\n",
              "22705  United Kingdom     294375.0       41662.0\n",
              "11225           Italy     236651.0       34301.0\n",
              "7839           France     156813.0       29398.0"
            ]
          },
          "metadata": {
            "tags": []
          },
          "execution_count": 139
        }
      ]
    },
    {
      "cell_type": "markdown",
      "metadata": {
        "id": "7SnvhsQ1hYdi",
        "colab_type": "text"
      },
      "source": [
        "> Podemos também ver quais são os países que tiveram menos casos e menos mortes."
      ]
    },
    {
      "cell_type": "code",
      "metadata": {
        "id": "qyS7B2UOhYdj",
        "colab_type": "code",
        "colab": {},
        "outputId": "fa209f69-8704-4458-ae23-a5c5151d45b9"
      },
      "source": [
        "# Total de mortes\n",
        "df.loc[df.date == '2020-06-14', ['location', 'total_cases', 'total_deaths']].sort_values(by='total_deaths', ascending=True)[1:7]"
      ],
      "execution_count": null,
      "outputs": [
        {
          "output_type": "execute_result",
          "data": {
            "text/html": [
              "<div>\n",
              "<style scoped>\n",
              "    .dataframe tbody tr th:only-of-type {\n",
              "        vertical-align: middle;\n",
              "    }\n",
              "\n",
              "    .dataframe tbody tr th {\n",
              "        vertical-align: top;\n",
              "    }\n",
              "\n",
              "    .dataframe thead th {\n",
              "        text-align: right;\n",
              "    }\n",
              "</style>\n",
              "<table border=\"1\" class=\"dataframe\">\n",
              "  <thead>\n",
              "    <tr style=\"text-align: right;\">\n",
              "      <th></th>\n",
              "      <th>location</th>\n",
              "      <th>total_cases</th>\n",
              "      <th>total_deaths</th>\n",
              "    </tr>\n",
              "  </thead>\n",
              "  <tbody>\n",
              "    <tr>\n",
              "      <td>2924</td>\n",
              "      <td>Bonaire Sint Eustatius and Saba</td>\n",
              "      <td>7.0</td>\n",
              "      <td>0.0</td>\n",
              "    </tr>\n",
              "    <tr>\n",
              "      <td>7342</td>\n",
              "      <td>Faeroe Islands</td>\n",
              "      <td>187.0</td>\n",
              "      <td>0.0</td>\n",
              "    </tr>\n",
              "    <tr>\n",
              "      <td>3869</td>\n",
              "      <td>Cambodia</td>\n",
              "      <td>128.0</td>\n",
              "      <td>0.0</td>\n",
              "    </tr>\n",
              "    <tr>\n",
              "      <td>15234</td>\n",
              "      <td>Namibia</td>\n",
              "      <td>32.0</td>\n",
              "      <td>0.0</td>\n",
              "    </tr>\n",
              "    <tr>\n",
              "      <td>22281</td>\n",
              "      <td>Uganda</td>\n",
              "      <td>685.0</td>\n",
              "      <td>0.0</td>\n",
              "    </tr>\n",
              "    <tr>\n",
              "      <td>8968</td>\n",
              "      <td>Grenada</td>\n",
              "      <td>23.0</td>\n",
              "      <td>0.0</td>\n",
              "    </tr>\n",
              "  </tbody>\n",
              "</table>\n",
              "</div>"
            ],
            "text/plain": [
              "                              location  total_cases  total_deaths\n",
              "2924   Bonaire Sint Eustatius and Saba          7.0           0.0\n",
              "7342                    Faeroe Islands        187.0           0.0\n",
              "3869                          Cambodia        128.0           0.0\n",
              "15234                          Namibia         32.0           0.0\n",
              "22281                           Uganda        685.0           0.0\n",
              "8968                           Grenada         23.0           0.0"
            ]
          },
          "metadata": {
            "tags": []
          },
          "execution_count": 138
        }
      ]
    },
    {
      "cell_type": "code",
      "metadata": {
        "id": "ZpAvTFhQhYdm",
        "colab_type": "code",
        "colab": {},
        "outputId": "8e7361fd-552e-46e2-d81d-d70384e5737a"
      },
      "source": [
        "# Total de casos\n",
        "df.loc[df.date == '2020-06-14', ['location', 'total_cases', 'total_deaths']].sort_values(by='total_cases', ascending=True)[1:7]"
      ],
      "execution_count": null,
      "outputs": [
        {
          "output_type": "execute_result",
          "data": {
            "text/html": [
              "<div>\n",
              "<style scoped>\n",
              "    .dataframe tbody tr th:only-of-type {\n",
              "        vertical-align: middle;\n",
              "    }\n",
              "\n",
              "    .dataframe tbody tr th {\n",
              "        vertical-align: top;\n",
              "    }\n",
              "\n",
              "    .dataframe thead th {\n",
              "        text-align: right;\n",
              "    }\n",
              "</style>\n",
              "<table border=\"1\" class=\"dataframe\">\n",
              "  <thead>\n",
              "    <tr style=\"text-align: right;\">\n",
              "      <th></th>\n",
              "      <th>location</th>\n",
              "      <th>total_cases</th>\n",
              "      <th>total_deaths</th>\n",
              "    </tr>\n",
              "  </thead>\n",
              "  <tbody>\n",
              "    <tr>\n",
              "      <td>12601</td>\n",
              "      <td>Lesotho</td>\n",
              "      <td>4.0</td>\n",
              "      <td>0.0</td>\n",
              "    </tr>\n",
              "    <tr>\n",
              "      <td>2924</td>\n",
              "      <td>Bonaire Sint Eustatius and Saba</td>\n",
              "      <td>7.0</td>\n",
              "      <td>0.0</td>\n",
              "    </tr>\n",
              "    <tr>\n",
              "      <td>3344</td>\n",
              "      <td>British Virgin Islands</td>\n",
              "      <td>8.0</td>\n",
              "      <td>1.0</td>\n",
              "    </tr>\n",
              "    <tr>\n",
              "      <td>17011</td>\n",
              "      <td>Papua New Guinea</td>\n",
              "      <td>8.0</td>\n",
              "      <td>0.0</td>\n",
              "    </tr>\n",
              "    <tr>\n",
              "      <td>14841</td>\n",
              "      <td>Montserrat</td>\n",
              "      <td>11.0</td>\n",
              "      <td>1.0</td>\n",
              "    </tr>\n",
              "    <tr>\n",
              "      <td>19169</td>\n",
              "      <td>Seychelles</td>\n",
              "      <td>11.0</td>\n",
              "      <td>0.0</td>\n",
              "    </tr>\n",
              "  </tbody>\n",
              "</table>\n",
              "</div>"
            ],
            "text/plain": [
              "                              location  total_cases  total_deaths\n",
              "12601                          Lesotho          4.0           0.0\n",
              "2924   Bonaire Sint Eustatius and Saba          7.0           0.0\n",
              "3344            British Virgin Islands          8.0           1.0\n",
              "17011                 Papua New Guinea          8.0           0.0\n",
              "14841                       Montserrat         11.0           1.0\n",
              "19169                       Seychelles         11.0           0.0"
            ]
          },
          "metadata": {
            "tags": []
          },
          "execution_count": 140
        }
      ]
    },
    {
      "cell_type": "markdown",
      "metadata": {
        "id": "b4xz96XRhYdp",
        "colab_type": "text"
      },
      "source": [
        "> Para melhorar ainda mais a nossa visualização, vamos analisar os 5 países com mais mortes em gráfico."
      ]
    },
    {
      "cell_type": "code",
      "metadata": {
        "id": "umds7lsrhYdq",
        "colab_type": "code",
        "colab": {}
      },
      "source": [
        "top_5_mortes = df.loc[df.date == '2020-06-14', ['location', 'total_cases', 'total_deaths']].sort_values(by='total_deaths', ascending=False)[1:6]\n",
        "sns.set()\n",
        "\n",
        "# Gráfico com Matplotlib\n",
        "# fig, ax = plt.subplots()\n",
        "# ax.bar('location', 'total_deaths', data=top_5_mortes)\n",
        "# ax.set_xlabel('País')\n",
        "# ax.set_ylabel(\"Quantidade de Mortes\")\n",
        "# fig.autofmt_xdate()\n",
        "# plt.show()\n"
      ],
      "execution_count": null,
      "outputs": []
    },
    {
      "cell_type": "code",
      "metadata": {
        "id": "cdZs620yhYdt",
        "colab_type": "code",
        "colab": {},
        "outputId": "2b972694-8dc7-4cbc-f24d-44f57fd9e788"
      },
      "source": [
        "# Gráfico com Seaborn\n",
        "g = sns.catplot(x=\"location\", y=\"total_deaths\", kind=\"bar\", data=top_5_mortes);\n",
        "g.fig.autofmt_xdate()\n",
        "plt.show()"
      ],
      "execution_count": null,
      "outputs": [
        {
          "output_type": "display_data",
          "data": {
            "image/png": "[encoded data removed]",
            "text/plain": [
              "<Figure size 360x360 with 1 Axes>"
            ]
          },
          "metadata": {
            "tags": []
          }
        }
      ]
    },
    {
      "cell_type": "markdown",
      "metadata": {
        "id": "9nteI8QYhYdw",
        "colab_type": "text"
      },
      "source": [
        "> Podemos notar que os Estados Unidos estão com uma quantidade enorme de mortes quando comparado ao resto do mundo, pelo menos 2x mais que o Brasil, que é o 2º país dessa triste lista.\n",
        "> Depois dos EUA, Brasil e Reino Unido estão com a quantidade de mortos bem próximos, em seguida temos a Itália e a França completando os 5 países com mais casos de morte registrados. "
      ]
    },
    {
      "cell_type": "code",
      "metadata": {
        "id": "a4AO2kiMhYdw",
        "colab_type": "code",
        "colab": {},
        "outputId": "97b66d3d-e682-442a-d85d-7a9e9d8fe0f5"
      },
      "source": [
        "fig, ax = plt.subplots(nrows=1, ncols=1, figsize=(13, 7))\n",
        "sns.set()\n",
        "\n",
        "\n",
        "ax.plot('total_deaths', data=df);\n",
        "ax.set_title('Total de Mortes no mundo')\n",
        "ax.set_xlabel(\"Evolução\")\n",
        "ax.set_ylabel(\"Mortes Confirmadas\")\n",
        "fig.autofmt_xdate()\n",
        "plt.show()"
      ],
      "execution_count": null,
      "outputs": [
        {
          "output_type": "display_data",
          "data": {
            "image/png": "[encoded data removed]",
            "text/plain": [
              "<Figure size 936x504 with 1 Axes>"
            ]
          },
          "metadata": {
            "tags": []
          }
        }
      ]
    },
    {
      "cell_type": "markdown",
      "metadata": {
        "id": "erlyJfhHhYdz",
        "colab_type": "text"
      },
      "source": [
        "# Análise Eploratória para o Brasil \n",
        "\n",
        "### Vamos analisar agora nessa base de dados apenas os registros do Brasil e tentar identificar: \n",
        "* O dia que foi registrado o primeiro caso de infecção no Brasil.\n",
        "* Quantos dias demorou para registrarmos a primeira morte, considerando o pimeiro caso registrado."
      ]
    },
    {
      "cell_type": "markdown",
      "metadata": {
        "id": "hfuBX9ruhYdz",
        "colab_type": "text"
      },
      "source": [
        "> Para observarmos apenas os dados referentes ao Brasil, vamos criar uma variável e atribuir a ela uma cópia dos registros apenas do Brasil.\n",
        "\n",
        "> Como iremos trabalhar basicamente com a variável data, transformaremos a coluna data como index."
      ]
    },
    {
      "cell_type": "code",
      "metadata": {
        "id": "Jj40nu-ThYd0",
        "colab_type": "code",
        "colab": {}
      },
      "source": [
        "# Cópia para uma varável com dados exclusivos do Brasil\n",
        "df_brasil = df.loc[df.location == 'Brazil'].copy()\n",
        "\n",
        "# Transformar a coluna date como index.\n",
        "df_brasil.set_index('date', inplace=True)"
      ],
      "execution_count": null,
      "outputs": []
    },
    {
      "cell_type": "code",
      "metadata": {
        "id": "Jsu2qjG0hYd2",
        "colab_type": "code",
        "colab": {},
        "outputId": "79f7e810-8139-4992-9eb1-566247793fda"
      },
      "source": [
        "# Visualizar as 5 primeiras entradas\n",
        "df_brasil.head()"
      ],
      "execution_count": null,
      "outputs": [
        {
          "output_type": "execute_result",
          "data": {
            "text/html": [
              "<div>\n",
              "<style scoped>\n",
              "    .dataframe tbody tr th:only-of-type {\n",
              "        vertical-align: middle;\n",
              "    }\n",
              "\n",
              "    .dataframe tbody tr th {\n",
              "        vertical-align: top;\n",
              "    }\n",
              "\n",
              "    .dataframe thead th {\n",
              "        text-align: right;\n",
              "    }\n",
              "</style>\n",
              "<table border=\"1\" class=\"dataframe\">\n",
              "  <thead>\n",
              "    <tr style=\"text-align: right;\">\n",
              "      <th></th>\n",
              "      <th>iso_code</th>\n",
              "      <th>continent</th>\n",
              "      <th>location</th>\n",
              "      <th>total_cases</th>\n",
              "      <th>new_cases</th>\n",
              "      <th>total_deaths</th>\n",
              "      <th>new_deaths</th>\n",
              "      <th>total_cases_per_million</th>\n",
              "      <th>new_cases_per_million</th>\n",
              "      <th>total_deaths_per_million</th>\n",
              "      <th>...</th>\n",
              "      <th>aged_65_older</th>\n",
              "      <th>aged_70_older</th>\n",
              "      <th>gdp_per_capita</th>\n",
              "      <th>extreme_poverty</th>\n",
              "      <th>cvd_death_rate</th>\n",
              "      <th>diabetes_prevalence</th>\n",
              "      <th>female_smokers</th>\n",
              "      <th>male_smokers</th>\n",
              "      <th>handwashing_facilities</th>\n",
              "      <th>hospital_beds_per_thousand</th>\n",
              "    </tr>\n",
              "    <tr>\n",
              "      <th>date</th>\n",
              "      <th></th>\n",
              "      <th></th>\n",
              "      <th></th>\n",
              "      <th></th>\n",
              "      <th></th>\n",
              "      <th></th>\n",
              "      <th></th>\n",
              "      <th></th>\n",
              "      <th></th>\n",
              "      <th></th>\n",
              "      <th></th>\n",
              "      <th></th>\n",
              "      <th></th>\n",
              "      <th></th>\n",
              "      <th></th>\n",
              "      <th></th>\n",
              "      <th></th>\n",
              "      <th></th>\n",
              "      <th></th>\n",
              "      <th></th>\n",
              "      <th></th>\n",
              "    </tr>\n",
              "  </thead>\n",
              "  <tbody>\n",
              "    <tr>\n",
              "      <td>2019-12-31</td>\n",
              "      <td>BRA</td>\n",
              "      <td>South America</td>\n",
              "      <td>Brazil</td>\n",
              "      <td>0.0</td>\n",
              "      <td>0.0</td>\n",
              "      <td>0.0</td>\n",
              "      <td>0.0</td>\n",
              "      <td>0.0</td>\n",
              "      <td>0.0</td>\n",
              "      <td>0.0</td>\n",
              "      <td>...</td>\n",
              "      <td>8.552</td>\n",
              "      <td>5.06</td>\n",
              "      <td>14103.452</td>\n",
              "      <td>3.4</td>\n",
              "      <td>177.961</td>\n",
              "      <td>8.11</td>\n",
              "      <td>10.1</td>\n",
              "      <td>17.9</td>\n",
              "      <td>NaN</td>\n",
              "      <td>2.2</td>\n",
              "    </tr>\n",
              "    <tr>\n",
              "      <td>2020-01-01</td>\n",
              "      <td>BRA</td>\n",
              "      <td>South America</td>\n",
              "      <td>Brazil</td>\n",
              "      <td>0.0</td>\n",
              "      <td>0.0</td>\n",
              "      <td>0.0</td>\n",
              "      <td>0.0</td>\n",
              "      <td>0.0</td>\n",
              "      <td>0.0</td>\n",
              "      <td>0.0</td>\n",
              "      <td>...</td>\n",
              "      <td>8.552</td>\n",
              "      <td>5.06</td>\n",
              "      <td>14103.452</td>\n",
              "      <td>3.4</td>\n",
              "      <td>177.961</td>\n",
              "      <td>8.11</td>\n",
              "      <td>10.1</td>\n",
              "      <td>17.9</td>\n",
              "      <td>NaN</td>\n",
              "      <td>2.2</td>\n",
              "    </tr>\n",
              "    <tr>\n",
              "      <td>2020-01-02</td>\n",
              "      <td>BRA</td>\n",
              "      <td>South America</td>\n",
              "      <td>Brazil</td>\n",
              "      <td>0.0</td>\n",
              "      <td>0.0</td>\n",
              "      <td>0.0</td>\n",
              "      <td>0.0</td>\n",
              "      <td>0.0</td>\n",
              "      <td>0.0</td>\n",
              "      <td>0.0</td>\n",
              "      <td>...</td>\n",
              "      <td>8.552</td>\n",
              "      <td>5.06</td>\n",
              "      <td>14103.452</td>\n",
              "      <td>3.4</td>\n",
              "      <td>177.961</td>\n",
              "      <td>8.11</td>\n",
              "      <td>10.1</td>\n",
              "      <td>17.9</td>\n",
              "      <td>NaN</td>\n",
              "      <td>2.2</td>\n",
              "    </tr>\n",
              "    <tr>\n",
              "      <td>2020-01-03</td>\n",
              "      <td>BRA</td>\n",
              "      <td>South America</td>\n",
              "      <td>Brazil</td>\n",
              "      <td>0.0</td>\n",
              "      <td>0.0</td>\n",
              "      <td>0.0</td>\n",
              "      <td>0.0</td>\n",
              "      <td>0.0</td>\n",
              "      <td>0.0</td>\n",
              "      <td>0.0</td>\n",
              "      <td>...</td>\n",
              "      <td>8.552</td>\n",
              "      <td>5.06</td>\n",
              "      <td>14103.452</td>\n",
              "      <td>3.4</td>\n",
              "      <td>177.961</td>\n",
              "      <td>8.11</td>\n",
              "      <td>10.1</td>\n",
              "      <td>17.9</td>\n",
              "      <td>NaN</td>\n",
              "      <td>2.2</td>\n",
              "    </tr>\n",
              "    <tr>\n",
              "      <td>2020-01-04</td>\n",
              "      <td>BRA</td>\n",
              "      <td>South America</td>\n",
              "      <td>Brazil</td>\n",
              "      <td>0.0</td>\n",
              "      <td>0.0</td>\n",
              "      <td>0.0</td>\n",
              "      <td>0.0</td>\n",
              "      <td>0.0</td>\n",
              "      <td>0.0</td>\n",
              "      <td>0.0</td>\n",
              "      <td>...</td>\n",
              "      <td>8.552</td>\n",
              "      <td>5.06</td>\n",
              "      <td>14103.452</td>\n",
              "      <td>3.4</td>\n",
              "      <td>177.961</td>\n",
              "      <td>8.11</td>\n",
              "      <td>10.1</td>\n",
              "      <td>17.9</td>\n",
              "      <td>NaN</td>\n",
              "      <td>2.2</td>\n",
              "    </tr>\n",
              "  </tbody>\n",
              "</table>\n",
              "<p>5 rows × 32 columns</p>\n",
              "</div>"
            ],
            "text/plain": [
              "           iso_code      continent location  total_cases  new_cases  \\\n",
              "date                                                                  \n",
              "2019-12-31      BRA  South America   Brazil          0.0        0.0   \n",
              "2020-01-01      BRA  South America   Brazil          0.0        0.0   \n",
              "2020-01-02      BRA  South America   Brazil          0.0        0.0   \n",
              "2020-01-03      BRA  South America   Brazil          0.0        0.0   \n",
              "2020-01-04      BRA  South America   Brazil          0.0        0.0   \n",
              "\n",
              "            total_deaths  new_deaths  total_cases_per_million  \\\n",
              "date                                                            \n",
              "2019-12-31           0.0         0.0                      0.0   \n",
              "2020-01-01           0.0         0.0                      0.0   \n",
              "2020-01-02           0.0         0.0                      0.0   \n",
              "2020-01-03           0.0         0.0                      0.0   \n",
              "2020-01-04           0.0         0.0                      0.0   \n",
              "\n",
              "            new_cases_per_million  total_deaths_per_million  ...  \\\n",
              "date                                                         ...   \n",
              "2019-12-31                    0.0                       0.0  ...   \n",
              "2020-01-01                    0.0                       0.0  ...   \n",
              "2020-01-02                    0.0                       0.0  ...   \n",
              "2020-01-03                    0.0                       0.0  ...   \n",
              "2020-01-04                    0.0                       0.0  ...   \n",
              "\n",
              "            aged_65_older  aged_70_older  gdp_per_capita  extreme_poverty  \\\n",
              "date                                                                        \n",
              "2019-12-31          8.552           5.06       14103.452              3.4   \n",
              "2020-01-01          8.552           5.06       14103.452              3.4   \n",
              "2020-01-02          8.552           5.06       14103.452              3.4   \n",
              "2020-01-03          8.552           5.06       14103.452              3.4   \n",
              "2020-01-04          8.552           5.06       14103.452              3.4   \n",
              "\n",
              "            cvd_death_rate  diabetes_prevalence  female_smokers male_smokers  \\\n",
              "date                                                                           \n",
              "2019-12-31         177.961                 8.11            10.1         17.9   \n",
              "2020-01-01         177.961                 8.11            10.1         17.9   \n",
              "2020-01-02         177.961                 8.11            10.1         17.9   \n",
              "2020-01-03         177.961                 8.11            10.1         17.9   \n",
              "2020-01-04         177.961                 8.11            10.1         17.9   \n",
              "\n",
              "            handwashing_facilities  hospital_beds_per_thousand  \n",
              "date                                                            \n",
              "2019-12-31                     NaN                         2.2  \n",
              "2020-01-01                     NaN                         2.2  \n",
              "2020-01-02                     NaN                         2.2  \n",
              "2020-01-03                     NaN                         2.2  \n",
              "2020-01-04                     NaN                         2.2  \n",
              "\n",
              "[5 rows x 32 columns]"
            ]
          },
          "metadata": {
            "tags": []
          },
          "execution_count": 121
        }
      ]
    },
    {
      "cell_type": "markdown",
      "metadata": {
        "id": "F1yPkKW8hYd5",
        "colab_type": "text"
      },
      "source": [
        "> ### Agora que trabalhamos com os dados exclusivos do Brasil e com a coluna 'date', descobriremos o dia do primeiro caso e a primeira morte registrados no Brasil."
      ]
    },
    {
      "cell_type": "code",
      "metadata": {
        "id": "LShCLfKlhYd6",
        "colab_type": "code",
        "colab": {},
        "outputId": "3c365c0e-dea0-4299-e493-561250b861f8"
      },
      "source": [
        "df_brasil.loc[df_brasil.total_cases != 0, ['total_cases']].sort_values(by='total_cases',ascending=True)"
      ],
      "execution_count": null,
      "outputs": [
        {
          "output_type": "execute_result",
          "data": {
            "text/html": [
              "<div>\n",
              "<style scoped>\n",
              "    .dataframe tbody tr th:only-of-type {\n",
              "        vertical-align: middle;\n",
              "    }\n",
              "\n",
              "    .dataframe tbody tr th {\n",
              "        vertical-align: top;\n",
              "    }\n",
              "\n",
              "    .dataframe thead th {\n",
              "        text-align: right;\n",
              "    }\n",
              "</style>\n",
              "<table border=\"1\" class=\"dataframe\">\n",
              "  <thead>\n",
              "    <tr style=\"text-align: right;\">\n",
              "      <th></th>\n",
              "      <th>total_cases</th>\n",
              "    </tr>\n",
              "    <tr>\n",
              "      <th>date</th>\n",
              "      <th></th>\n",
              "    </tr>\n",
              "  </thead>\n",
              "  <tbody>\n",
              "    <tr>\n",
              "      <td>2020-02-26</td>\n",
              "      <td>1.0</td>\n",
              "    </tr>\n",
              "    <tr>\n",
              "      <td>2020-02-27</td>\n",
              "      <td>1.0</td>\n",
              "    </tr>\n",
              "    <tr>\n",
              "      <td>2020-02-28</td>\n",
              "      <td>1.0</td>\n",
              "    </tr>\n",
              "    <tr>\n",
              "      <td>2020-02-29</td>\n",
              "      <td>1.0</td>\n",
              "    </tr>\n",
              "    <tr>\n",
              "      <td>2020-03-01</td>\n",
              "      <td>2.0</td>\n",
              "    </tr>\n",
              "    <tr>\n",
              "      <td>...</td>\n",
              "      <td>...</td>\n",
              "    </tr>\n",
              "    <tr>\n",
              "      <td>2020-06-11</td>\n",
              "      <td>772416.0</td>\n",
              "    </tr>\n",
              "    <tr>\n",
              "      <td>2020-06-12</td>\n",
              "      <td>802828.0</td>\n",
              "    </tr>\n",
              "    <tr>\n",
              "      <td>2020-06-13</td>\n",
              "      <td>828810.0</td>\n",
              "    </tr>\n",
              "    <tr>\n",
              "      <td>2020-06-14</td>\n",
              "      <td>850514.0</td>\n",
              "    </tr>\n",
              "    <tr>\n",
              "      <td>2020-06-15</td>\n",
              "      <td>867624.0</td>\n",
              "    </tr>\n",
              "  </tbody>\n",
              "</table>\n",
              "<p>111 rows × 1 columns</p>\n",
              "</div>"
            ],
            "text/plain": [
              "            total_cases\n",
              "date                   \n",
              "2020-02-26          1.0\n",
              "2020-02-27          1.0\n",
              "2020-02-28          1.0\n",
              "2020-02-29          1.0\n",
              "2020-03-01          2.0\n",
              "...                 ...\n",
              "2020-06-11     772416.0\n",
              "2020-06-12     802828.0\n",
              "2020-06-13     828810.0\n",
              "2020-06-14     850514.0\n",
              "2020-06-15     867624.0\n",
              "\n",
              "[111 rows x 1 columns]"
            ]
          },
          "metadata": {
            "tags": []
          },
          "execution_count": 128
        }
      ]
    },
    {
      "cell_type": "markdown",
      "metadata": {
        "id": "OOFcWwVshYd-",
        "colab_type": "text"
      },
      "source": [
        "> ### O primeiro caso no Brasil ocorreu no dia 26 de Fevereiro de 2020."
      ]
    },
    {
      "cell_type": "code",
      "metadata": {
        "id": "Jpj6hmXshYd_",
        "colab_type": "code",
        "colab": {},
        "outputId": "e588fc73-e4d5-4b02-fb3a-545119bd302e"
      },
      "source": [
        "df_brasil.loc[df_brasil.total_deaths != 0, ['total_deaths']].sort_values(by='total_deaths',ascending=True)"
      ],
      "execution_count": null,
      "outputs": [
        {
          "output_type": "execute_result",
          "data": {
            "text/html": [
              "<div>\n",
              "<style scoped>\n",
              "    .dataframe tbody tr th:only-of-type {\n",
              "        vertical-align: middle;\n",
              "    }\n",
              "\n",
              "    .dataframe tbody tr th {\n",
              "        vertical-align: top;\n",
              "    }\n",
              "\n",
              "    .dataframe thead th {\n",
              "        text-align: right;\n",
              "    }\n",
              "</style>\n",
              "<table border=\"1\" class=\"dataframe\">\n",
              "  <thead>\n",
              "    <tr style=\"text-align: right;\">\n",
              "      <th></th>\n",
              "      <th>total_deaths</th>\n",
              "    </tr>\n",
              "    <tr>\n",
              "      <th>date</th>\n",
              "      <th></th>\n",
              "    </tr>\n",
              "  </thead>\n",
              "  <tbody>\n",
              "    <tr>\n",
              "      <td>2020-03-18</td>\n",
              "      <td>1.0</td>\n",
              "    </tr>\n",
              "    <tr>\n",
              "      <td>2020-03-19</td>\n",
              "      <td>4.0</td>\n",
              "    </tr>\n",
              "    <tr>\n",
              "      <td>2020-03-20</td>\n",
              "      <td>6.0</td>\n",
              "    </tr>\n",
              "    <tr>\n",
              "      <td>2020-03-21</td>\n",
              "      <td>11.0</td>\n",
              "    </tr>\n",
              "    <tr>\n",
              "      <td>2020-03-22</td>\n",
              "      <td>18.0</td>\n",
              "    </tr>\n",
              "    <tr>\n",
              "      <td>...</td>\n",
              "      <td>...</td>\n",
              "    </tr>\n",
              "    <tr>\n",
              "      <td>2020-06-11</td>\n",
              "      <td>39680.0</td>\n",
              "    </tr>\n",
              "    <tr>\n",
              "      <td>2020-06-12</td>\n",
              "      <td>40919.0</td>\n",
              "    </tr>\n",
              "    <tr>\n",
              "      <td>2020-06-13</td>\n",
              "      <td>41828.0</td>\n",
              "    </tr>\n",
              "    <tr>\n",
              "      <td>2020-06-14</td>\n",
              "      <td>42720.0</td>\n",
              "    </tr>\n",
              "    <tr>\n",
              "      <td>2020-06-15</td>\n",
              "      <td>43332.0</td>\n",
              "    </tr>\n",
              "  </tbody>\n",
              "</table>\n",
              "<p>90 rows × 1 columns</p>\n",
              "</div>"
            ],
            "text/plain": [
              "            total_deaths\n",
              "date                    \n",
              "2020-03-18           1.0\n",
              "2020-03-19           4.0\n",
              "2020-03-20           6.0\n",
              "2020-03-21          11.0\n",
              "2020-03-22          18.0\n",
              "...                  ...\n",
              "2020-06-11       39680.0\n",
              "2020-06-12       40919.0\n",
              "2020-06-13       41828.0\n",
              "2020-06-14       42720.0\n",
              "2020-06-15       43332.0\n",
              "\n",
              "[90 rows x 1 columns]"
            ]
          },
          "metadata": {
            "tags": []
          },
          "execution_count": 129
        }
      ]
    },
    {
      "cell_type": "markdown",
      "metadata": {
        "id": "xUe43YJEhYeC",
        "colab_type": "text"
      },
      "source": [
        "> ### Como podemos obsevar, a primeira morte no Brasil por COVID-19 foi em 18 de Março de 2020, 3 semanas após o primeiro caso. \n",
        "\n",
        "> #### Agora vamos visualizar em gráficos de linha e em escalas linear e logarítmica para quantidade casos e para quantidade de mortes. "
      ]
    },
    {
      "cell_type": "code",
      "metadata": {
        "id": "JjWV1EhuhYeD",
        "colab_type": "code",
        "colab": {},
        "outputId": "b580f273-8393-4585-cd4a-3242b5dbc17a"
      },
      "source": [
        "fig, ax = plt.subplots(nrows=2, ncols=1, figsize=(13, 7))\n",
        "sns.set()\n",
        "\n",
        "# Mortes no Brasil\n",
        "ax[0].plot('total_deaths', data=df_brasil);\n",
        "ax[0].set_title('Total de Mortes no Brasil em Escala Linear')\n",
        "ax[0].set_xlabel(\"Data\")\n",
        "ax[0].set_ylabel(\"Mortes Confirmadas\")\n",
        "# ax[0].set_yscale('log')\n",
        "fig.autofmt_xdate()\n",
        "\n",
        "# Casos no Brasil\n",
        "ax[1].plot('total_deaths', data=df_brasil);\n",
        "ax[1].set_title('Total de Mortes no Brasil em Escala Logarítmica')\n",
        "ax[1].set_xlabel(\"Data\")\n",
        "ax[1].set_ylabel(\"Mortes Confirmadas\")\n",
        "ax[1].set_yscale('log')\n",
        "fig.autofmt_xdate()\n",
        "\n",
        "plt.tight_layout()"
      ],
      "execution_count": null,
      "outputs": [
        {
          "output_type": "display_data",
          "data": {
            "image/png": "[encoded data removed]",
            "text/plain": [
              "<Figure size 936x504 with 2 Axes>"
            ]
          },
          "metadata": {
            "tags": []
          }
        }
      ]
    },
    {
      "cell_type": "code",
      "metadata": {
        "id": "K3EGx9JfhYeF",
        "colab_type": "code",
        "colab": {},
        "outputId": "6501c0c6-0d39-45d1-a966-cf3f9a10e2f6"
      },
      "source": [
        "fig, ax = plt.subplots(nrows=2, ncols=1, figsize=(13, 7))\n",
        "sns.set()\n",
        "\n",
        "# Mortes no Brasil\n",
        "ax[0].plot('total_cases', data=df_brasil);\n",
        "ax[0].set_title('Total de Casos no Brasil em Escala Linear')\n",
        "ax[0].set_xlabel(\"Data\")\n",
        "ax[0].set_ylabel(\"Casos Confirmados\")\n",
        "# ax[0].set_yscale('log')\n",
        "fig.autofmt_xdate()\n",
        "\n",
        "# Casos no Brasil\n",
        "ax[1].plot('total_cases', data=df_brasil);\n",
        "ax[1].set_title('Total de Casos no Brasil em Escala Logarítmica')\n",
        "ax[1].set_xlabel(\"Data\")\n",
        "ax[1].set_ylabel(\"Casos Confirmados\")\n",
        "ax[1].set_yscale('log')\n",
        "fig.autofmt_xdate()\n",
        "\n",
        "plt.tight_layout()"
      ],
      "execution_count": null,
      "outputs": [
        {
          "output_type": "display_data",
          "data": {
            "image/png": "[encoded data removed]",
            "text/plain": [
              "<Figure size 936x504 with 2 Axes>"
            ]
          },
          "metadata": {
            "tags": []
          }
        }
      ]
    },
    {
      "cell_type": "code",
      "metadata": {
        "id": "Ty7Rp1OwhYeI",
        "colab_type": "code",
        "colab": {}
      },
      "source": [
        ""
      ],
      "execution_count": null,
      "outputs": []
    }
  ]
}